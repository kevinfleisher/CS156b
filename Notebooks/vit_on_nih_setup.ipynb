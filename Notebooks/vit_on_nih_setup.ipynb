{
 "cells": [
  {
   "cell_type": "markdown",
   "metadata": {},
   "source": [
    "# Imports"
   ]
  },
  {
   "cell_type": "code",
   "execution_count": 1,
   "metadata": {},
   "outputs": [],
   "source": [
    "import numpy as np\n",
    "import pandas as pd\n",
    "import torch\n",
    "from datasets import Dataset"
   ]
  },
  {
   "cell_type": "markdown",
   "metadata": {},
   "source": [
    "Here, we will look into the data labels of the NIH x-ray data and try to format into N-hot encoded label arrays for each image.\n",
    "\n",
    "Note, that the chronology of the images appear by taking the array from the data frame we will be loading in, and simply using the `sorted` built in function. Let's make sure we map the correct labels to the images we have batched into the Arrow datasets."
   ]
  },
  {
   "cell_type": "markdown",
   "metadata": {},
   "source": [
    "### Load in the csv file"
   ]
  },
  {
   "cell_type": "code",
   "execution_count": 2,
   "metadata": {},
   "outputs": [],
   "source": [
    "df = pd.read_csv('Data_Entry_2017_v2020.csv')"
   ]
  },
  {
   "cell_type": "code",
   "execution_count": 3,
   "metadata": {},
   "outputs": [
    {
     "data": {
      "text/html": [
       "<div>\n",
       "<style scoped>\n",
       "    .dataframe tbody tr th:only-of-type {\n",
       "        vertical-align: middle;\n",
       "    }\n",
       "\n",
       "    .dataframe tbody tr th {\n",
       "        vertical-align: top;\n",
       "    }\n",
       "\n",
       "    .dataframe thead th {\n",
       "        text-align: right;\n",
       "    }\n",
       "</style>\n",
       "<table border=\"1\" class=\"dataframe\">\n",
       "  <thead>\n",
       "    <tr style=\"text-align: right;\">\n",
       "      <th></th>\n",
       "      <th>Image Index</th>\n",
       "      <th>Finding Labels</th>\n",
       "      <th>Follow-up #</th>\n",
       "      <th>Patient ID</th>\n",
       "      <th>Patient Age</th>\n",
       "      <th>Patient Gender</th>\n",
       "      <th>View Position</th>\n",
       "      <th>OriginalImage[Width</th>\n",
       "      <th>Height]</th>\n",
       "      <th>OriginalImagePixelSpacing[x</th>\n",
       "      <th>y]</th>\n",
       "    </tr>\n",
       "  </thead>\n",
       "  <tbody>\n",
       "    <tr>\n",
       "      <th>0</th>\n",
       "      <td>00000001_000.png</td>\n",
       "      <td>Cardiomegaly</td>\n",
       "      <td>0</td>\n",
       "      <td>1</td>\n",
       "      <td>57</td>\n",
       "      <td>M</td>\n",
       "      <td>PA</td>\n",
       "      <td>2682</td>\n",
       "      <td>2749</td>\n",
       "      <td>0.143</td>\n",
       "      <td>0.143</td>\n",
       "    </tr>\n",
       "    <tr>\n",
       "      <th>1</th>\n",
       "      <td>00000001_001.png</td>\n",
       "      <td>Cardiomegaly|Emphysema</td>\n",
       "      <td>1</td>\n",
       "      <td>1</td>\n",
       "      <td>58</td>\n",
       "      <td>M</td>\n",
       "      <td>PA</td>\n",
       "      <td>2894</td>\n",
       "      <td>2729</td>\n",
       "      <td>0.143</td>\n",
       "      <td>0.143</td>\n",
       "    </tr>\n",
       "    <tr>\n",
       "      <th>2</th>\n",
       "      <td>00000001_002.png</td>\n",
       "      <td>Cardiomegaly|Effusion</td>\n",
       "      <td>2</td>\n",
       "      <td>1</td>\n",
       "      <td>58</td>\n",
       "      <td>M</td>\n",
       "      <td>PA</td>\n",
       "      <td>2500</td>\n",
       "      <td>2048</td>\n",
       "      <td>0.168</td>\n",
       "      <td>0.168</td>\n",
       "    </tr>\n",
       "    <tr>\n",
       "      <th>3</th>\n",
       "      <td>00000002_000.png</td>\n",
       "      <td>No Finding</td>\n",
       "      <td>0</td>\n",
       "      <td>2</td>\n",
       "      <td>80</td>\n",
       "      <td>M</td>\n",
       "      <td>PA</td>\n",
       "      <td>2500</td>\n",
       "      <td>2048</td>\n",
       "      <td>0.171</td>\n",
       "      <td>0.171</td>\n",
       "    </tr>\n",
       "    <tr>\n",
       "      <th>4</th>\n",
       "      <td>00000003_001.png</td>\n",
       "      <td>Hernia</td>\n",
       "      <td>0</td>\n",
       "      <td>3</td>\n",
       "      <td>74</td>\n",
       "      <td>F</td>\n",
       "      <td>PA</td>\n",
       "      <td>2500</td>\n",
       "      <td>2048</td>\n",
       "      <td>0.168</td>\n",
       "      <td>0.168</td>\n",
       "    </tr>\n",
       "    <tr>\n",
       "      <th>...</th>\n",
       "      <td>...</td>\n",
       "      <td>...</td>\n",
       "      <td>...</td>\n",
       "      <td>...</td>\n",
       "      <td>...</td>\n",
       "      <td>...</td>\n",
       "      <td>...</td>\n",
       "      <td>...</td>\n",
       "      <td>...</td>\n",
       "      <td>...</td>\n",
       "      <td>...</td>\n",
       "    </tr>\n",
       "    <tr>\n",
       "      <th>112115</th>\n",
       "      <td>00030801_001.png</td>\n",
       "      <td>Mass|Pneumonia</td>\n",
       "      <td>1</td>\n",
       "      <td>30801</td>\n",
       "      <td>38</td>\n",
       "      <td>M</td>\n",
       "      <td>PA</td>\n",
       "      <td>2048</td>\n",
       "      <td>2500</td>\n",
       "      <td>0.168</td>\n",
       "      <td>0.168</td>\n",
       "    </tr>\n",
       "    <tr>\n",
       "      <th>112116</th>\n",
       "      <td>00030802_000.png</td>\n",
       "      <td>No Finding</td>\n",
       "      <td>0</td>\n",
       "      <td>30802</td>\n",
       "      <td>28</td>\n",
       "      <td>M</td>\n",
       "      <td>PA</td>\n",
       "      <td>2048</td>\n",
       "      <td>2500</td>\n",
       "      <td>0.168</td>\n",
       "      <td>0.168</td>\n",
       "    </tr>\n",
       "    <tr>\n",
       "      <th>112117</th>\n",
       "      <td>00030803_000.png</td>\n",
       "      <td>No Finding</td>\n",
       "      <td>0</td>\n",
       "      <td>30803</td>\n",
       "      <td>42</td>\n",
       "      <td>F</td>\n",
       "      <td>PA</td>\n",
       "      <td>2048</td>\n",
       "      <td>2500</td>\n",
       "      <td>0.168</td>\n",
       "      <td>0.168</td>\n",
       "    </tr>\n",
       "    <tr>\n",
       "      <th>112118</th>\n",
       "      <td>00030804_000.png</td>\n",
       "      <td>No Finding</td>\n",
       "      <td>0</td>\n",
       "      <td>30804</td>\n",
       "      <td>29</td>\n",
       "      <td>F</td>\n",
       "      <td>PA</td>\n",
       "      <td>2048</td>\n",
       "      <td>2500</td>\n",
       "      <td>0.168</td>\n",
       "      <td>0.168</td>\n",
       "    </tr>\n",
       "    <tr>\n",
       "      <th>112119</th>\n",
       "      <td>00030805_000.png</td>\n",
       "      <td>No Finding</td>\n",
       "      <td>0</td>\n",
       "      <td>30805</td>\n",
       "      <td>26</td>\n",
       "      <td>M</td>\n",
       "      <td>PA</td>\n",
       "      <td>2048</td>\n",
       "      <td>2500</td>\n",
       "      <td>0.171</td>\n",
       "      <td>0.171</td>\n",
       "    </tr>\n",
       "  </tbody>\n",
       "</table>\n",
       "<p>112120 rows × 11 columns</p>\n",
       "</div>"
      ],
      "text/plain": [
       "             Image Index          Finding Labels  Follow-up #  Patient ID  \\\n",
       "0       00000001_000.png            Cardiomegaly            0           1   \n",
       "1       00000001_001.png  Cardiomegaly|Emphysema            1           1   \n",
       "2       00000001_002.png   Cardiomegaly|Effusion            2           1   \n",
       "3       00000002_000.png              No Finding            0           2   \n",
       "4       00000003_001.png                  Hernia            0           3   \n",
       "...                  ...                     ...          ...         ...   \n",
       "112115  00030801_001.png          Mass|Pneumonia            1       30801   \n",
       "112116  00030802_000.png              No Finding            0       30802   \n",
       "112117  00030803_000.png              No Finding            0       30803   \n",
       "112118  00030804_000.png              No Finding            0       30804   \n",
       "112119  00030805_000.png              No Finding            0       30805   \n",
       "\n",
       "        Patient Age Patient Gender View Position  OriginalImage[Width  \\\n",
       "0                57              M            PA                 2682   \n",
       "1                58              M            PA                 2894   \n",
       "2                58              M            PA                 2500   \n",
       "3                80              M            PA                 2500   \n",
       "4                74              F            PA                 2500   \n",
       "...             ...            ...           ...                  ...   \n",
       "112115           38              M            PA                 2048   \n",
       "112116           28              M            PA                 2048   \n",
       "112117           42              F            PA                 2048   \n",
       "112118           29              F            PA                 2048   \n",
       "112119           26              M            PA                 2048   \n",
       "\n",
       "        Height]  OriginalImagePixelSpacing[x     y]  \n",
       "0          2749                        0.143  0.143  \n",
       "1          2729                        0.143  0.143  \n",
       "2          2048                        0.168  0.168  \n",
       "3          2048                        0.171  0.171  \n",
       "4          2048                        0.168  0.168  \n",
       "...         ...                          ...    ...  \n",
       "112115     2500                        0.168  0.168  \n",
       "112116     2500                        0.168  0.168  \n",
       "112117     2500                        0.168  0.168  \n",
       "112118     2500                        0.168  0.168  \n",
       "112119     2500                        0.171  0.171  \n",
       "\n",
       "[112120 rows x 11 columns]"
      ]
     },
     "execution_count": 3,
     "metadata": {},
     "output_type": "execute_result"
    }
   ],
   "source": [
    "df"
   ]
  },
  {
   "cell_type": "code",
   "execution_count": 5,
   "metadata": {},
   "outputs": [
    {
     "data": {
      "text/plain": [
       "836"
      ]
     },
     "execution_count": 5,
     "metadata": {},
     "output_type": "execute_result"
    }
   ],
   "source": [
    "df['Finding Labels'].nunique()"
   ]
  },
  {
   "cell_type": "code",
   "execution_count": 4,
   "metadata": {},
   "outputs": [
    {
     "data": {
      "text/plain": [
       "array(['Cardiomegaly', 'Cardiomegaly|Emphysema', 'Cardiomegaly|Effusion',\n",
       "       'No Finding', 'Hernia', 'Hernia|Infiltration', 'Mass|Nodule',\n",
       "       'Infiltration', 'Effusion|Infiltration', 'Nodule', 'Emphysema',\n",
       "       'Effusion', 'Atelectasis', 'Effusion|Mass', 'Infiltration|Mass',\n",
       "       'Infiltration|Mass|Pneumothorax', 'Mass',\n",
       "       'Cardiomegaly|Infiltration|Mass|Nodule',\n",
       "       'Cardiomegaly|Effusion|Emphysema|Mass',\n",
       "       'Atelectasis|Cardiomegaly|Emphysema|Mass|Pneumothorax',\n",
       "       'Emphysema|Mass', 'Emphysema|Mass|Pneumothorax', 'Pneumothorax',\n",
       "       'Emphysema|Pneumothorax', 'Atelectasis|Pneumothorax',\n",
       "       'Cardiomegaly|Emphysema|Pneumothorax', 'Mass|Pleural_Thickening',\n",
       "       'Cardiomegaly|Mass|Pleural_Thickening', 'Pleural_Thickening',\n",
       "       'Effusion|Emphysema|Infiltration|Pneumothorax',\n",
       "       'Emphysema|Infiltration|Pleural_Thickening|Pneumothorax',\n",
       "       'Effusion|Pneumonia|Pneumothorax',\n",
       "       'Effusion|Infiltration|Pneumothorax',\n",
       "       'Effusion|Infiltration|Nodule',\n",
       "       'Atelectasis|Effusion|Pleural_Thickening', 'Fibrosis|Infiltration',\n",
       "       'Fibrosis|Infiltration|Pleural_Thickening', 'Fibrosis',\n",
       "       'Infiltration|Mass|Nodule', 'Cardiomegaly|Edema|Effusion',\n",
       "       'Atelectasis|Effusion|Infiltration',\n",
       "       'Atelectasis|Consolidation|Edema|Pneumonia', 'Consolidation',\n",
       "       'Edema|Infiltration', 'Edema', 'Cardiomegaly|Consolidation',\n",
       "       'Cardiomegaly|Infiltration',\n",
       "       'Cardiomegaly|Edema|Effusion|Infiltration',\n",
       "       'Atelectasis|Edema|Effusion|Infiltration',\n",
       "       'Cardiomegaly|Edema|Infiltration', 'Consolidation|Infiltration',\n",
       "       'Consolidation|Edema', 'Cardiomegaly|Edema',\n",
       "       'Edema|Effusion|Infiltration|Nodule',\n",
       "       'Atelectasis|Edema|Infiltration', 'Edema|Effusion|Infiltration',\n",
       "       'Atelectasis|Cardiomegaly|Fibrosis', 'Atelectasis|Infiltration',\n",
       "       'Consolidation|Mass', 'Emphysema|Infiltration',\n",
       "       'Consolidation|Effusion|Infiltration',\n",
       "       'Infiltration|Pleural_Thickening', 'Atelectasis|Effusion',\n",
       "       'Fibrosis|Infiltration|Nodule', 'Nodule|Pneumonia',\n",
       "       'Infiltration|Nodule', 'Effusion|Pleural_Thickening',\n",
       "       'Edema|Effusion|Infiltration|Pleural_Thickening|Pneumonia',\n",
       "       'Effusion|Fibrosis', 'Pneumonia', 'Edema|Effusion',\n",
       "       'Consolidation|Effusion|Infiltration|Mass',\n",
       "       'Consolidation|Effusion|Infiltration|Nodule',\n",
       "       'Effusion|Emphysema|Infiltration',\n",
       "       'Atelectasis|Cardiomegaly|Consolidation|Effusion',\n",
       "       'Consolidation|Effusion', 'Atelectasis|Consolidation',\n",
       "       'Mass|Pneumothorax', 'Atelectasis|Mass',\n",
       "       'Atelectasis|Effusion|Mass', 'Atelectasis|Cardiomegaly|Effusion',\n",
       "       'Effusion|Pneumothorax',\n",
       "       'Cardiomegaly|Effusion|Pleural_Thickening',\n",
       "       'Atelectasis|Emphysema', 'Atelectasis|Emphysema|Pneumothorax',\n",
       "       'Cardiomegaly|Nodule', 'Consolidation|Pleural_Thickening',\n",
       "       'Effusion|Fibrosis|Nodule|Pleural_Thickening',\n",
       "       'Effusion|Fibrosis|Mass|Nodule|Pleural_Thickening',\n",
       "       'Effusion|Nodule', 'Atelectasis|Fibrosis',\n",
       "       'Effusion|Nodule|Pleural_Thickening',\n",
       "       'Atelectasis|Infiltration|Pneumonia',\n",
       "       'Atelectasis|Infiltration|Pleural_Thickening',\n",
       "       'Consolidation|Infiltration|Mass', 'Fibrosis|Nodule',\n",
       "       'Nodule|Pleural_Thickening',\n",
       "       'Cardiomegaly|Edema|Effusion|Fibrosis|Infiltration',\n",
       "       'Cardiomegaly|Consolidation|Edema|Effusion',\n",
       "       'Atelectasis|Cardiomegaly|Effusion|Infiltration',\n",
       "       'Cardiomegaly|Edema|Effusion|Infiltration|Pneumonia',\n",
       "       'Cardiomegaly|Effusion|Pneumonia',\n",
       "       'Atelectasis|Cardiomegaly|Infiltration|Pneumothorax',\n",
       "       'Fibrosis|Pleural_Thickening', 'Cardiomegaly|Effusion|Mass',\n",
       "       'Cardiomegaly|Effusion|Infiltration', 'Infiltration|Pneumonia',\n",
       "       'Infiltration|Pneumothorax',\n",
       "       'Infiltration|Nodule|Pleural_Thickening',\n",
       "       'Effusion|Fibrosis|Infiltration',\n",
       "       'Fibrosis|Nodule|Pleural_Thickening', 'Consolidation|Pneumothorax',\n",
       "       'Atelectasis|Infiltration|Mass',\n",
       "       'Atelectasis|Infiltration|Mass|Pleural_Thickening',\n",
       "       'Effusion|Infiltration|Mass', 'Atelectasis|Nodule',\n",
       "       'Consolidation|Infiltration|Nodule', 'Fibrosis|Mass',\n",
       "       'Cardiomegaly|Hernia', 'Cardiomegaly|Effusion|Hernia',\n",
       "       'Atelectasis|Effusion|Pneumothorax',\n",
       "       'Infiltration|Pleural_Thickening|Pneumothorax',\n",
       "       'Consolidation|Infiltration|Mass|Pleural_Thickening',\n",
       "       'Atelectasis|Effusion|Emphysema|Pleural_Thickening',\n",
       "       'Atelectasis|Edema|Mass', 'Cardiomegaly|Fibrosis',\n",
       "       'Consolidation|Fibrosis|Infiltration|Nodule',\n",
       "       'Effusion|Emphysema|Pleural_Thickening',\n",
       "       'Atelectasis|Consolidation|Effusion|Mass|Pleural_Thickening',\n",
       "       'Fibrosis|Infiltration|Nodule|Pneumonia',\n",
       "       'Cardiomegaly|Edema|Infiltration|Nodule',\n",
       "       'Atelectasis|Cardiomegaly', 'Edema|Infiltration|Pneumonia',\n",
       "       'Edema|Infiltration|Nodule', 'Atelectasis|Pleural_Thickening',\n",
       "       'Cardiomegaly|Infiltration|Nodule|Pneumonia',\n",
       "       'Infiltration|Pneumonia|Pneumothorax',\n",
       "       'Consolidation|Edema|Effusion|Pneumothorax',\n",
       "       'Atelectasis|Effusion|Infiltration|Nodule',\n",
       "       'Edema|Effusion|Pneumonia',\n",
       "       'Edema|Effusion|Infiltration|Pneumonia',\n",
       "       'Edema|Infiltration|Pleural_Thickening', 'Consolidation|Fibrosis',\n",
       "       'Effusion|Infiltration|Pleural_Thickening',\n",
       "       'Fibrosis|Infiltration|Pneumonia',\n",
       "       'Consolidation|Mass|Nodule|Pneumothorax',\n",
       "       'Cardiomegaly|Pleural_Thickening', 'Hernia|Mass',\n",
       "       'Effusion|Infiltration|Pleural_Thickening|Pneumonia',\n",
       "       'Atelectasis|Nodule|Pleural_Thickening',\n",
       "       'Atelectasis|Effusion|Infiltration|Pleural_Thickening',\n",
       "       'Atelectasis|Infiltration|Pneumothorax', 'Nodule|Pneumothorax',\n",
       "       'Atelectasis|Consolidation|Infiltration', 'Atelectasis|Pneumonia',\n",
       "       'Atelectasis|Infiltration|Nodule', 'Emphysema|Infiltration|Nodule',\n",
       "       'Fibrosis|Pneumonia', 'Effusion|Emphysema',\n",
       "       'Atelectasis|Consolidation|Effusion|Infiltration',\n",
       "       'Cardiomegaly|Effusion|Fibrosis|Pleural_Thickening|Pneumothorax',\n",
       "       'Consolidation|Infiltration|Pneumothorax',\n",
       "       'Effusion|Mass|Pneumothorax', 'Pleural_Thickening|Pneumonia',\n",
       "       'Edema|Effusion|Nodule|Pneumonia', 'Effusion|Pneumonia',\n",
       "       'Effusion|Infiltration|Nodule|Pleural_Thickening',\n",
       "       'Consolidation|Fibrosis|Nodule',\n",
       "       'Consolidation|Nodule|Pleural_Thickening',\n",
       "       'Cardiomegaly|Infiltration|Pneumothorax',\n",
       "       'Consolidation|Effusion|Nodule', 'Effusion|Infiltration|Pneumonia',\n",
       "       'Atelectasis|Consolidation|Effusion', 'Emphysema|Fibrosis',\n",
       "       'Effusion|Emphysema|Fibrosis|Mass|Nodule', 'Fibrosis|Hernia',\n",
       "       'Atelectasis|Emphysema|Infiltration|Pneumonia',\n",
       "       'Consolidation|Mass|Nodule',\n",
       "       'Atelectasis|Edema|Pleural_Thickening', 'Atelectasis|Edema',\n",
       "       'Atelectasis|Consolidation|Pneumothorax',\n",
       "       'Consolidation|Effusion|Mass', 'Atelectasis|Effusion|Emphysema',\n",
       "       'Infiltration|Nodule|Pneumothorax',\n",
       "       'Atelectasis|Infiltration|Nodule|Pleural_Thickening',\n",
       "       'Atelectasis|Consolidation|Fibrosis|Nodule',\n",
       "       'Consolidation|Infiltration|Pleural_Thickening',\n",
       "       'Fibrosis|Infiltration|Mass|Pleural_Thickening',\n",
       "       'Cardiomegaly|Mass', 'Edema|Fibrosis',\n",
       "       'Atelectasis|Consolidation|Edema', 'Emphysema|Pleural_Thickening',\n",
       "       'Pleural_Thickening|Pneumothorax',\n",
       "       'Effusion|Pleural_Thickening|Pneumothorax',\n",
       "       'Effusion|Fibrosis|Pneumonia',\n",
       "       'Emphysema|Mass|Nodule|Pneumothorax',\n",
       "       'Emphysema|Nodule|Pneumothorax',\n",
       "       'Atelectasis|Effusion|Infiltration|Pneumothorax',\n",
       "       'Consolidation|Effusion|Pneumonia', 'Edema|Pleural_Thickening',\n",
       "       'Emphysema|Infiltration|Pleural_Thickening',\n",
       "       'Atelectasis|Emphysema|Infiltration',\n",
       "       'Atelectasis|Effusion|Infiltration|Mass',\n",
       "       'Atelectasis|Consolidation|Mass', 'Consolidation|Nodule',\n",
       "       'Consolidation|Effusion|Pleural_Thickening',\n",
       "       'Atelectasis|Cardiomegaly|Edema|Effusion|Infiltration|Pneumothorax',\n",
       "       'Atelectasis|Cardiomegaly|Effusion|Mass',\n",
       "       'Atelectasis|Cardiomegaly|Consolidation|Effusion|Mass',\n",
       "       'Cardiomegaly|Consolidation|Edema', 'Edema|Nodule',\n",
       "       'Emphysema|Pneumonia', 'Consolidation|Fibrosis|Infiltration',\n",
       "       'Fibrosis|Pleural_Thickening|Pneumothorax',\n",
       "       'Consolidation|Effusion|Pneumothorax',\n",
       "       'Consolidation|Effusion|Infiltration|Pneumonia',\n",
       "       'Effusion|Infiltration|Pleural_Thickening|Pneumothorax',\n",
       "       'Emphysema|Infiltration|Pneumothorax',\n",
       "       'Consolidation|Effusion|Fibrosis|Mass',\n",
       "       'Effusion|Infiltration|Mass|Pleural_Thickening',\n",
       "       'Edema|Pleural_Thickening|Pneumonia',\n",
       "       'Emphysema|Infiltration|Mass',\n",
       "       'Infiltration|Mass|Pleural_Thickening',\n",
       "       'Atelectasis|Hernia|Nodule',\n",
       "       'Consolidation|Infiltration|Pneumonia',\n",
       "       'Cardiomegaly|Consolidation|Effusion',\n",
       "       'Consolidation|Edema|Infiltration',\n",
       "       'Edema|Emphysema|Mass|Pneumothorax',\n",
       "       'Cardiomegaly|Effusion|Emphysema|Infiltration|Pneumothorax',\n",
       "       'Infiltration|Mass|Pneumonia',\n",
       "       'Atelectasis|Cardiomegaly|Effusion|Pneumonia',\n",
       "       'Atelectasis|Consolidation|Effusion|Nodule',\n",
       "       'Consolidation|Fibrosis|Pleural_Thickening',\n",
       "       'Edema|Nodule|Pneumothorax', 'Atelectasis|Emphysema|Mass',\n",
       "       'Atelectasis|Hernia', 'Consolidation|Infiltration|Mass|Nodule',\n",
       "       'Atelectasis|Consolidation|Nodule',\n",
       "       'Atelectasis|Consolidation|Effusion|Pneumonia',\n",
       "       'Effusion|Emphysema|Pneumothorax',\n",
       "       'Consolidation|Fibrosis|Nodule|Pneumonia',\n",
       "       'Atelectasis|Fibrosis|Infiltration',\n",
       "       'Atelectasis|Consolidation|Infiltration|Mass',\n",
       "       'Cardiomegaly|Fibrosis|Infiltration', 'Atelectasis|Nodule|Mass',\n",
       "       'Fibrosis|Infiltration|Mass', 'Mass|Pneumonia',\n",
       "       'Fibrosis|Infiltration|Mass|Nodule', 'Edema|Pneumonia',\n",
       "       'Edema|Infiltration|Mass',\n",
       "       'Effusion|Hernia|Mass|Pleural_Thickening',\n",
       "       'Effusion|Mass|Pleural_Thickening', 'Consolidation|Pneumonia',\n",
       "       'Infiltration|Pleural_Thickening|Pneumonia',\n",
       "       'Consolidation|Mass|Pneumothorax',\n",
       "       'Atelectasis|Consolidation|Edema|Effusion|Infiltration',\n",
       "       'Infiltration|Nodule|Pneumonia',\n",
       "       'Atelectasis|Cardiomegaly|Infiltration',\n",
       "       'Nodule|Pleural_Thickening|Pneumonia',\n",
       "       'Cardiomegaly|Infiltration|Nodule',\n",
       "       'Atelectasis|Effusion|Fibrosis',\n",
       "       'Mass|Pleural_Thickening|Pneumothorax',\n",
       "       'Emphysema|Nodule|Pleural_Thickening',\n",
       "       'Atelectasis|Consolidation|Effusion|Mass|Nodule',\n",
       "       'Edema|Effusion|Infiltration|Mass',\n",
       "       'Atelectasis|Emphysema|Infiltration|Pneumothorax',\n",
       "       'Atelectasis|Effusion|Infiltration|Pleural_Thickening|Pneumothorax',\n",
       "       'Atelectasis|Consolidation|Effusion|Mass',\n",
       "       'Emphysema|Infiltration|Pneumonia',\n",
       "       'Emphysema|Infiltration|Pleural_Thickening|Pneumonia',\n",
       "       'Atelectasis|Consolidation|Effusion|Infiltration|Pneumothorax',\n",
       "       'Effusion|Mass|Nodule', 'Consolidation|Nodule|Pneumothorax',\n",
       "       'Consolidation|Infiltration|Mass|Pleural_Thickening|Pneumothorax',\n",
       "       'Consolidation|Effusion|Infiltration|Pneumothorax',\n",
       "       'Atelectasis|Cardiomegaly|Consolidation',\n",
       "       'Cardiomegaly|Infiltration|Pleural_Thickening',\n",
       "       'Cardiomegaly|Pneumonia', 'Nodule|Pleural_Thickening|Pneumothorax',\n",
       "       'Atelectasis|Edema|Effusion|Infiltration|Pneumonia',\n",
       "       'Atelectasis|Edema|Effusion',\n",
       "       'Atelectasis|Consolidation|Edema|Effusion|Pleural_Thickening',\n",
       "       'Atelectasis|Nodule|Pneumonia',\n",
       "       'Effusion|Infiltration|Mass|Nodule',\n",
       "       'Mass|Nodule|Pleural_Thickening', 'Atelectasis|Effusion|Pneumonia',\n",
       "       'Consolidation|Emphysema|Infiltration',\n",
       "       'Atelectasis|Consolidation|Effusion|Emphysema',\n",
       "       'Cardiomegaly|Effusion|Infiltration|Nodule',\n",
       "       'Consolidation|Edema|Effusion', 'Fibrosis|Pneumothorax',\n",
       "       'Atelectasis|Consolidation|Effusion|Infiltration|Mass',\n",
       "       'Atelectasis|Consolidation|Effusion|Infiltration|Mass|Nodule',\n",
       "       'Atelectasis|Consolidation|Edema|Effusion',\n",
       "       'Atelectasis|Infiltration|Nodule|Pneumothorax',\n",
       "       'Infiltration|Mass|Nodule|Pneumothorax',\n",
       "       'Edema|Effusion|Infiltration|Pleural_Thickening',\n",
       "       'Edema|Infiltration|Pneumothorax', 'Hernia|Nodule',\n",
       "       'Effusion|Hernia|Pleural_Thickening',\n",
       "       'Atelectasis|Consolidation|Emphysema|Pneumothorax',\n",
       "       'Effusion|Fibrosis|Pneumothorax',\n",
       "       'Effusion|Emphysema|Nodule|Pneumothorax',\n",
       "       'Effusion|Emphysema|Fibrosis|Nodule|Pneumothorax',\n",
       "       'Fibrosis|Mass|Pneumothorax',\n",
       "       'Atelectasis|Mass|Pleural_Thickening',\n",
       "       'Atelectasis|Consolidation|Emphysema',\n",
       "       'Atelectasis|Infiltration|Mass|Pneumothorax',\n",
       "       'Atelectasis|Effusion|Nodule|Pleural_Thickening',\n",
       "       'Atelectasis|Consolidation|Infiltration|Mass|Nodule',\n",
       "       'Effusion|Nodule|Pleural_Thickening|Pneumothorax',\n",
       "       'Cardiomegaly|Pneumothorax',\n",
       "       'Effusion|Emphysema|Infiltration|Nodule|Pneumothorax',\n",
       "       'Atelectasis|Emphysema|Nodule|Pleural_Thickening',\n",
       "       'Mass|Atelectasis', 'Effusion|Fibrosis|Pleural_Thickening',\n",
       "       'Consolidation|Effusion|Mass|Pneumothorax',\n",
       "       'Consolidation|Emphysema',\n",
       "       'Atelectasis|Consolidation|Emphysema|Infiltration',\n",
       "       'Hernia|Pleural_Thickening',\n",
       "       'Atelectasis|Consolidation|Effusion|Fibrosis|Mass',\n",
       "       'Emphysema|Nodule',\n",
       "       'Atelectasis|Consolidation|Fibrosis|Infiltration',\n",
       "       'Atelectasis|Mass|Nodule',\n",
       "       'Atelectasis|Effusion|Pleural_Thickening|Pneumothorax',\n",
       "       'Edema|Effusion|Mass', 'Emphysema|Pleural_Thickening|Pneumothorax',\n",
       "       'Atelectasis|Pleural_Thickening|Pneumothorax',\n",
       "       'Atelectasis|Emphysema|Pleural_Thickening|Pneumothorax',\n",
       "       'Cardiomegaly|Consolidation|Infiltration',\n",
       "       'Atelectasis|Cardiomegaly|Effusion|Infiltration|Nodule',\n",
       "       'Cardiomegaly|Edema|Pleural_Thickening',\n",
       "       'Cardiomegaly|Effusion|Fibrosis|Nodule',\n",
       "       'Atelectasis|Effusion|Emphysema|Pneumothorax',\n",
       "       'Atelectasis|Effusion|Nodule',\n",
       "       'Effusion|Mass|Nodule|Pleural_Thickening',\n",
       "       'Atelectasis|Cardiomegaly|Consolidation|Infiltration',\n",
       "       'Atelectasis|Cardiomegaly|Effusion|Fibrosis',\n",
       "       'Consolidation|Mass|Pleural_Thickening',\n",
       "       'Atelectasis|Edema|Effusion|Pneumonia|Pneumothorax',\n",
       "       'Atelectasis|Effusion|Infiltration|Pneumonia',\n",
       "       'Mass|Nodule|Pneumonia',\n",
       "       'Consolidation|Effusion|Infiltration|Mass|Nodule',\n",
       "       'Atelectasis|Fibrosis|Nodule',\n",
       "       'Cardiomegaly|Edema|Effusion|Pneumonia',\n",
       "       'Cardiomegaly|Edema|Infiltration|Pneumonia',\n",
       "       'Atelectasis|Cardiomegaly|Edema|Infiltration',\n",
       "       'Consolidation|Emphysema|Pleural_Thickening',\n",
       "       'Cardiomegaly|Effusion|Fibrosis',\n",
       "       'Atelectasis|Cardiomegaly|Effusion|Fibrosis|Infiltration',\n",
       "       'Cardiomegaly|Effusion|Fibrosis|Infiltration|Pleural_Thickening',\n",
       "       'Atelectasis|Consolidation|Edema|Infiltration|Pneumonia',\n",
       "       'Atelectasis|Consolidation|Infiltration|Pneumonia',\n",
       "       'Atelectasis|Consolidation|Effusion|Infiltration|Nodule',\n",
       "       'Atelectasis|Consolidation|Mass|Nodule',\n",
       "       'Atelectasis|Emphysema|Infiltration|Pleural_Thickening',\n",
       "       'Atelectasis|Effusion|Infiltration|Mass|Pneumothorax',\n",
       "       'Atelectasis|Emphysema|Mass|Pneumothorax',\n",
       "       'Consolidation|Infiltration|Pleural_Thickening|Pneumothorax',\n",
       "       'Effusion|Pleural_Thickening|Pneumonia', 'Edema|Mass',\n",
       "       'Emphysema|Fibrosis|Hernia|Infiltration|Pleural_Thickening',\n",
       "       'Atelectasis|Cardiomegaly|Effusion|Pleural_Thickening',\n",
       "       'Effusion|Fibrosis|Infiltration|Pleural_Thickening',\n",
       "       'Consolidation|Pneumonia|Pneumothorax',\n",
       "       'Consolidation|Edema|Pneumothorax',\n",
       "       'Consolidation|Infiltration|Pleural_Thickening|Pneumonia',\n",
       "       'Atelectasis|Consolidation|Effusion|Fibrosis',\n",
       "       'Atelectasis|Consolidation|Effusion|Pleural_Thickening',\n",
       "       'Cardiomegaly|Effusion|Infiltration|Pneumothorax',\n",
       "       'Cardiomegaly|Fibrosis|Nodule',\n",
       "       'Atelectasis|Edema|Infiltration|Nodule',\n",
       "       'Atelectasis|Cardiomegaly|Pneumonia',\n",
       "       'Atelectasis|Cardiomegaly|Edema',\n",
       "       'Atelectasis|Emphysema|Infiltration|Mass',\n",
       "       'Consolidation|Effusion|Infiltration|Pleural_Thickening',\n",
       "       'Cardiomegaly|Effusion|Emphysema',\n",
       "       'Edema|Infiltration|Mass|Nodule|Pleural_Thickening',\n",
       "       'Atelectasis|Edema|Infiltration|Pleural_Thickening',\n",
       "       'Edema|Mass|Pneumonia', 'Effusion|Fibrosis|Mass',\n",
       "       'Effusion|Emphysema|Nodule', 'Atelectasis|Fibrosis|Mass',\n",
       "       'Atelectasis|Nodule|Pneumothorax', 'Mass|Nodule|Pneumothorax',\n",
       "       'Cardiomegaly|Infiltration|Nodule|Mass',\n",
       "       'Consolidation|Effusion|Emphysema|Pneumothorax',\n",
       "       'Atelectasis|Emphysema|Nodule|Pneumothorax',\n",
       "       'Consolidation|Infiltration|Nodule|Pneumothorax',\n",
       "       'Cardiomegaly|Consolidation|Emphysema|Pneumothorax',\n",
       "       'Atelectasis|Effusion|Mass|Nodule',\n",
       "       'Edema|Infiltration|Mass|Pneumonia',\n",
       "       'Cardiomegaly|Consolidation|Effusion|Mass|Nodule',\n",
       "       'Atelectasis|Cardiomegaly|Effusion|Fibrosis|Nodule',\n",
       "       'Atelectasis|Effusion|Emphysema|Infiltration',\n",
       "       'Atelectasis|Edema|Emphysema|Nodule',\n",
       "       'Atelectasis|Effusion|Mass|Pneumothorax', 'Pneumothorax|Pneumonia',\n",
       "       'Atelectasis|Infiltration|Mass|Nodule',\n",
       "       'Atelectasis|Emphysema|Pleural_Thickening',\n",
       "       'Fibrosis|Infiltration|Pneumothorax', 'Edema|Effusion|Nodule',\n",
       "       'Cardiomegaly|Consolidation|Edema|Infiltration',\n",
       "       'Cardiomegaly|Effusion|Nodule', 'Fibrosis|Mass|Pleural_Thickening',\n",
       "       'Edema|Emphysema|Pneumothorax',\n",
       "       'Atelectasis|Consolidation|Emphysema|Infiltration|Pneumothorax',\n",
       "       'Cardiomegaly|Effusion|Infiltration|Pleural_Thickening',\n",
       "       'Effusion|Emphysema|Mass',\n",
       "       'Atelectasis|Cardiomegaly|Pleural_Thickening',\n",
       "       'Emphysema|Infiltration|Nodule|Pneumothorax',\n",
       "       'Atelectasis|Hernia|Infiltration', 'Hernia|Infiltration|Mass',\n",
       "       'Atelectasis|Emphysema|Infiltration|Nodule|Pneumothorax',\n",
       "       'Cardiomegaly|Mass|Nodule', 'Emphysema|Fibrosis|Infiltration',\n",
       "       'Atelectasis|Consolidation|Pleural_Thickening',\n",
       "       'Fibrosis|Mass|Nodule',\n",
       "       'Edema|Effusion|Fibrosis|Infiltration|Mass',\n",
       "       'Consolidation|Fibrosis|Mass|Pleural_Thickening',\n",
       "       'Cardiomegaly|Effusion|Fibrosis|Infiltration',\n",
       "       'Emphysema|Mass|Nodule',\n",
       "       'Emphysema|Infiltration|Mass|Pneumothorax',\n",
       "       'Effusion|Mass|Pleural_Thickening|Pneumothorax',\n",
       "       'Atelectasis|Consolidation|Pneumonia',\n",
       "       'Cardiomegaly|Edema|Effusion|Infiltration|Nodule',\n",
       "       'Atelectasis|Effusion|Infiltration|Mass|Nodule|Pleural_Thickening',\n",
       "       'Atelectasis|Hernia|Mass', 'Atelectasis|Edema|Nodule',\n",
       "       'Atelectasis|Consolidation|Effusion|Fibrosis|Nodule',\n",
       "       'Edema|Infiltration|Pleural_Thickening|Pneumonia',\n",
       "       'Effusion|Infiltration|Mass|Pneumothorax',\n",
       "       'Effusion|Fibrosis|Infiltration|Pleural_Thickening|Pneumonia',\n",
       "       'Emphysema|Fibrosis|Pneumothorax',\n",
       "       'Consolidation|Fibrosis|Pneumothorax',\n",
       "       'Atelectasis|Consolidation|Effusion|Infiltration|Pleural_Thickening|Pneumothorax',\n",
       "       'Effusion|Mass|Nodule|Pneumothorax',\n",
       "       'Atelectasis|Effusion|Mass|Pleural_Thickening',\n",
       "       'Effusion|Fibrosis|Infiltration|Mass',\n",
       "       'Atelectasis|Emphysema|Fibrosis|Mass|Pneumothorax',\n",
       "       'Cardiomegaly|Infiltration|Mass', 'Edema|Emphysema',\n",
       "       'Fibrosis|Hernia|Mass', 'Consolidation|Edema|Infiltration|Nodule',\n",
       "       'Atelectasis|Consolidation|Mass|Pneumonia',\n",
       "       'Atelectasis|Mass|Pneumonia',\n",
       "       'Atelectasis|Consolidation|Mass|Pneumothorax',\n",
       "       'Emphysema|Hernia|Pleural_Thickening', 'Emphysema|Hernia',\n",
       "       'Atelectasis|Effusion|Infiltration|Mass|Nodule',\n",
       "       'Atelectasis|Consolidation|Edema|Pneumonia|Pneumothorax',\n",
       "       'Atelectasis|Cardiomegaly|Effusion|Infiltration|Mass',\n",
       "       'Consolidation|Hernia',\n",
       "       'Atelectasis|Effusion|Fibrosis|Infiltration',\n",
       "       'Atelectasis|Infiltration|Pleural_Thickening|Pneumothorax',\n",
       "       'Atelectasis|Effusion|Nodule|Pneumothorax',\n",
       "       'Fibrosis|Mass|Nodule|Pleural_Thickening',\n",
       "       'Atelectasis|Fibrosis|Hernia',\n",
       "       'Edema|Effusion|Emphysema|Infiltration',\n",
       "       'Cardiomegaly|Consolidation|Nodule',\n",
       "       'Infiltration|Mass|Nodule|Pleural_Thickening',\n",
       "       'Atelectasis|Consolidation|Effusion|Emphysema|Infiltration',\n",
       "       'Edema|Effusion|Emphysema|Infiltration|Mass',\n",
       "       'Atelectasis|Emphysema|Infiltration|Mass|Pneumothorax',\n",
       "       'Atelectasis|Consolidation|Infiltration|Pneumothorax',\n",
       "       'Consolidation|Hernia|Mass', 'Atelectasis|Hernia|Pneumothorax',\n",
       "       'Atelectasis|Fibrosis|Infiltration|Mass|Nodule',\n",
       "       'Consolidation|Hernia|Infiltration|Pneumonia',\n",
       "       'Effusion|Hernia|Pneumonia', 'Effusion|Hernia',\n",
       "       'Hernia|Infiltration|Pneumonia',\n",
       "       'Edema|Effusion|Hernia|Infiltration',\n",
       "       'Atelectasis|Effusion|Infiltration|Mass|Nodule|Pleural_Thickening|Pneumothorax',\n",
       "       'Atelectasis|Fibrosis|Infiltration|Nodule',\n",
       "       'Atelectasis|Infiltration|Pleural_Thickening|Pneumonia',\n",
       "       'Emphysema|Fibrosis|Mass',\n",
       "       'Atelectasis|Fibrosis|Pleural_Thickening',\n",
       "       'Emphysema|Mass|Pleural_Thickening',\n",
       "       'Atelectasis|Cardiomegaly|Edema|Effusion',\n",
       "       'Consolidation|Edema|Effusion|Infiltration',\n",
       "       'Atelectasis|Effusion|Hernia', 'Effusion|Hernia|Infiltration',\n",
       "       'Consolidation|Effusion|Infiltration|Mass|Nodule|Pleural_Thickening|Pneumonia',\n",
       "       'Edema|Mass|Nodule',\n",
       "       'Edema|Infiltration|Mass|Pneumonia|Pneumothorax',\n",
       "       'Consolidation|Fibrosis|Mass',\n",
       "       'Consolidation|Edema|Effusion|Mass|Nodule',\n",
       "       'Cardiomegaly|Consolidation|Pleural_Thickening',\n",
       "       'Consolidation|Emphysema|Pneumothorax',\n",
       "       'Atelectasis|Emphysema|Pneumonia|Pneumothorax',\n",
       "       'Atelectasis|Cardiomegaly|Fibrosis|Pleural_Thickening',\n",
       "       'Infiltration|Mass|Nodule|Pleural_Thickening|Effusion|Pneumonia',\n",
       "       'Consolidation|Edema|Infiltration|Mass',\n",
       "       'Atelectasis|Effusion|Fibrosis|Infiltration|Mass',\n",
       "       'Consolidation|Emphysema|Infiltration|Pneumothorax',\n",
       "       'Cardiomegaly|Consolidation|Pneumonia',\n",
       "       'Consolidation|Infiltration|Mass|Pneumothorax',\n",
       "       'Consolidation|Effusion|Mass|Nodule',\n",
       "       'Atelectasis|Effusion|Infiltration|Nodule|Pleural_Thickening',\n",
       "       'Consolidation|Effusion|Infiltration|Pleural_Thickening|Pneumothorax',\n",
       "       'Atelectasis|Fibrosis|Infiltration|Mass',\n",
       "       'Atelectasis|Emphysema|Nodule',\n",
       "       'Effusion|Emphysema|Infiltration|Pleural_Thickening',\n",
       "       'Consolidation|Edema|Effusion|Infiltration|Mass',\n",
       "       'Atelectasis|Infiltration|Mass|Pneumonia',\n",
       "       'Atelectasis|Edema|Effusion|Mass|Nodule',\n",
       "       'Cardiomegaly|Consolidation|Edema|Effusion|Infiltration',\n",
       "       'Fibrosis|Infiltration|Pleural_Thickening|Pneumothorax',\n",
       "       'Atelectasis|Cardiomegaly|Infiltration|Mass',\n",
       "       'Consolidation|Effusion|Pleural_Thickening|Pneumothorax',\n",
       "       'Atelectasis|Mass|Pleural_Thickening|Pneumothorax',\n",
       "       'Atelectasis|Mass|Pneumothorax',\n",
       "       'Effusion|Infiltration|Nodule|Pneumothorax',\n",
       "       'Cardiomegaly|Consolidation|Mass', 'Edema|Pneumonia|Infiltration',\n",
       "       'Cardiomegaly|Effusion|Infiltration|Mass',\n",
       "       'Atelectasis|Cardiomegaly|Consolidation|Effusion|Infiltration|Pneumonia',\n",
       "       'Pneumonia|Pneumothorax', 'Atelectasis|Emphysema|Pneumonia',\n",
       "       'Effusion|Infiltration|Mass|Nodule|Pneumonia',\n",
       "       'Consolidation|Emphysema|Infiltration|Nodule|Pleural_Thickening',\n",
       "       'Effusion|Emphysema|Pleural_Thickening|Pneumothorax',\n",
       "       'Atelectasis|Cardiomegaly|Consolidation|Edema|Effusion|Pleural_Thickening',\n",
       "       'Atelectasis|Consolidation|Effusion|Emphysema|Pneumothorax',\n",
       "       'Atelectasis|Consolidation|Effusion|Pneumothorax',\n",
       "       'Atelectasis|Cardiomegaly|Consolidation|Effusion|Infiltration',\n",
       "       'Emphysema|Pneumothorax|Pneumonia',\n",
       "       'Edema|Emphysema|Infiltration|Mass|Pneumonia',\n",
       "       'Atelectasis|Consolidation|Infiltration|Nodule',\n",
       "       'Effusion|Hernia|Mass', 'Atelectasis|Consolidation|Fibrosis',\n",
       "       'Edema|Effusion|Pneumothorax', 'Effusion|Nodule|Pneumothorax',\n",
       "       'Atelectasis|Edema|Infiltration|Pneumonia',\n",
       "       'Effusion|Infiltration|Mass|Nodule|Pleural_Thickening',\n",
       "       'Edema|Effusion|Pleural_Thickening|Pneumonia',\n",
       "       'Effusion|Mass|Pneumonia',\n",
       "       'Atelectasis|Cardiomegaly|Consolidation|Edema',\n",
       "       'Consolidation|Effusion|Emphysema|Mass',\n",
       "       'Effusion|Infiltration|Nodule|Mass|Pneumothorax',\n",
       "       'Nodule|Pleural_Thickening|Mass',\n",
       "       'Effusion|Pneumothorax|Pneumonia',\n",
       "       'Atelectasis|Consolidation|Effusion|Fibrosis|Pleural_Thickening',\n",
       "       'Atelectasis|Consolidation|Effusion|Fibrosis|Infiltration|Pleural_Thickening',\n",
       "       'Edema|Effusion|Emphysema',\n",
       "       'Atelectasis|Edema|Effusion|Infiltration|Nodule|Pleural_Thickening',\n",
       "       'Consolidation|Edema|Effusion|Pneumonia',\n",
       "       'Consolidation|Edema|Infiltration|Pleural_Thickening|Pneumonia',\n",
       "       'Edema|Effusion|Pleural_Thickening',\n",
       "       'Atelectasis|Edema|Infiltration|Mass',\n",
       "       'Edema|Effusion|Mass|Nodule', 'Consolidation|Emphysema|Mass',\n",
       "       'Atelectasis|Consolidation|Nodule|Pneumonia',\n",
       "       'Pneumothorax|Infiltration', 'Hernia|Pneumothorax',\n",
       "       'Atelectasis|Consolidation|Infiltration|Pleural_Thickening|Pneumothorax',\n",
       "       'Atelectasis|Consolidation|Effusion|Infiltration|Mass|Pneumothorax',\n",
       "       'Atelectasis|Fibrosis|Infiltration|Nodule|Pneumothorax',\n",
       "       'Atelectasis|Cardiomegaly|Effusion|Pneumothorax',\n",
       "       'Atelectasis|Effusion|Fibrosis|Pneumothorax',\n",
       "       'Atelectasis|Edema|Effusion|Nodule',\n",
       "       'Cardiomegaly|Consolidation|Effusion|Infiltration',\n",
       "       'Consolidation|Mass|Pneumonia|Pneumothorax',\n",
       "       'Consolidation|Emphysema|Mass|Pneumothorax',\n",
       "       'Atelectasis|Cardiomegaly|Effusion|Nodule',\n",
       "       'Edema|Infiltration|Mass|Nodule|Pneumonia',\n",
       "       'Atelectasis|Effusion|Emphysema|Mass|Pneumothorax',\n",
       "       'Consolidation|Effusion|Infiltration|Mass|Pneumothorax',\n",
       "       'Atelectasis|Consolidation|Effusion|Nodule|Pneumothorax',\n",
       "       'Atelectasis|Consolidation|Effusion|Infiltration|Pneumonia',\n",
       "       'Nodule|Mass',\n",
       "       'Atelectasis|Consolidation|Effusion|Emphysema|Infiltration|Mass',\n",
       "       'Edema|Pneumothorax',\n",
       "       'Atelectasis|Effusion|Pneumonia|Pneumothorax',\n",
       "       'Cardiomegaly|Consolidation|Effusion|Mass',\n",
       "       'Cardiomegaly|Edema|Mass', 'Cardiomegaly|Fibrosis|Pneumothorax',\n",
       "       'Consolidation|Edema|Effusion|Mass', 'Effusion|Pneumothorax|Mass',\n",
       "       'Atelectasis|Cardiomegaly|Effusion|Infiltration|Pleural_Thickening',\n",
       "       'Cardiomegaly|Effusion|Emphysema|Pneumothorax',\n",
       "       'Effusion|Infiltration|Pneumonia|Pneumothorax',\n",
       "       'Atelectasis|Consolidation|Infiltration|Pleural_Thickening',\n",
       "       'Cardiomegaly|Effusion|Pneumothorax',\n",
       "       'Cardiomegaly|Effusion|Infiltration|Pneumonia',\n",
       "       'Emphysema|Mass|Pneumonia|Pneumothorax',\n",
       "       'Atelectasis|Consolidation|Effusion|Infiltration|Mass|Nodule|Pneumothorax',\n",
       "       'Atelectasis|Effusion|Fibrosis|Pleural_Thickening',\n",
       "       'Edema|Infiltration|Mass|Nodule',\n",
       "       'Atelectasis|Effusion|Infiltration|Mass|Pleural_Thickening',\n",
       "       'Effusion|Emphysema|Infiltration|Mass',\n",
       "       'Infiltration|Pneumothorax|Pneumonia',\n",
       "       'Atelectasis|Emphysema|Fibrosis|Infiltration',\n",
       "       'Atelectasis|Cardiomegaly|Consolidation|Edema|Effusion|Infiltration',\n",
       "       'Consolidation|Effusion|Mass|Pneumonia',\n",
       "       'Atelectasis|Mass|Nodule|Pneumonia',\n",
       "       'Cardiomegaly|Consolidation|Effusion|Infiltration|Mass|Pleural_Thickening',\n",
       "       'Effusion|Fibrosis|Infiltration|Nodule',\n",
       "       'Atelectasis|Effusion|Fibrosis|Infiltration|Nodule',\n",
       "       'Effusion|Fibrosis|Mass|Pleural_Thickening',\n",
       "       'Atelectasis|Consolidation|Effusion|Emphysema|Mass',\n",
       "       'Cardiomegaly|Effusion|Pleural_Thickening|Pneumothorax',\n",
       "       'Atelectasis|Consolidation|Effusion|Emphysema|Mass|Pneumothorax',\n",
       "       'Atelectasis|Consolidation|Edema|Effusion|Infiltration|Pneumonia',\n",
       "       'Edema|Nodule|Pneumonia', 'Effusion|Mass|Pneumonia|Pneumothorax',\n",
       "       'Fibrosis|Nodule|Pneumothorax',\n",
       "       'Consolidation|Effusion|Mass|Nodule|Pleural_Thickening|Atelectasis',\n",
       "       'Atelectasis|Effusion|Emphysema|Infiltration|Pneumothorax',\n",
       "       'Atelectasis|Consolidation|Effusion|Infiltration|Nodule|Pleural_Thickening',\n",
       "       'Consolidation|Effusion|Emphysema|Infiltration',\n",
       "       'Consolidation|Effusion|Emphysema|Nodule|Pneumothorax',\n",
       "       'Cardiomegaly|Edema|Effusion|Fibrosis|Hernia',\n",
       "       'Cardiomegaly|Effusion|Fibrosis|Mass',\n",
       "       'Atelectasis|Consolidation|Edema|Effusion|Pneumonia',\n",
       "       'Atelectasis|Cardiomegaly|Consolidation|Effusion|Infiltration|Nodule|Pleural_Thickening',\n",
       "       'Atelectasis|Cardiomegaly|Consolidation|Effusion|Pleural_Thickening',\n",
       "       'Atelectasis|Consolidation|Infiltration|Mass|Pneumonia',\n",
       "       'Atelectasis|Consolidation|Effusion|Infiltration|Pleural_Thickening',\n",
       "       'Atelectasis|Consolidation|Nodule|Pleural_Thickening',\n",
       "       'Consolidation|Edema|Infiltration|Pneumonia',\n",
       "       'Atelectasis|Emphysema|Infiltration|Pleural_Thickening|Pneumothorax',\n",
       "       'Consolidation|Effusion|Mass|Pleural_Thickening',\n",
       "       'Atelectasis|Consolidation|Effusion|Emphysema|Fibrosis|Mass|Nodule',\n",
       "       'Effusion|Nodule|Pneumonia', 'Consolidation|Emphysema|Pneumonia',\n",
       "       'Atelectasis|Consolidation|Mass|Nodule|Pneumothorax',\n",
       "       'Effusion|Mass|Nodule|Pneumonia',\n",
       "       'Effusion|Infiltration|Mass|Pleural_Thickening|Pneumonia',\n",
       "       'Atelectasis|Effusion|Infiltration|Nodule|Pneumothorax',\n",
       "       'Effusion|Mass|Nodule|Pleural_Thickening|Pneumothorax',\n",
       "       'Edema|Fibrosis|Infiltration|Mass|Nodule',\n",
       "       'Cardiomegaly|Edema|Effusion|Pleural_Thickening',\n",
       "       'Atelectasis|Effusion|Hernia|Infiltration',\n",
       "       'Atelectasis|Emphysema|Fibrosis|Mass',\n",
       "       'Consolidation|Effusion|Mass|Nodule|Pleural_Thickening',\n",
       "       'Consolidation|Emphysema|Infiltration|Mass|Nodule',\n",
       "       'Cardiomegaly|Effusion|Infiltration|Mass|Pneumonia',\n",
       "       'Atelectasis|Consolidation|Edema|Infiltration',\n",
       "       'Effusion|Fibrosis|Mass|Nodule',\n",
       "       'Edema|Effusion|Infiltration|Mass|Pneumonia',\n",
       "       'Cardiomegaly|Effusion|Nodule|Pleural_Thickening',\n",
       "       'Atelectasis|Consolidation|Emphysema|Mass|Pleural_Thickening',\n",
       "       'Atelectasis|Edema|Effusion|Infiltration|Mass',\n",
       "       'Edema|Infiltration|Nodule|Pneumonia',\n",
       "       'Cardiomegaly|Effusion|Mass|Nodule',\n",
       "       'Effusion|Infiltration|Mass|Pneumonia',\n",
       "       'Effusion|Emphysema|Infiltration|Mass|Nodule',\n",
       "       'Atelectasis|Cardiomegaly|Consolidation|Edema|Effusion|Infiltration|Mass',\n",
       "       'Infiltration|Effusion', 'Edema|Emphysema|Infiltration|Pneumonia',\n",
       "       'Atelectasis|Consolidation|Mass|Pleural_Thickening',\n",
       "       'Edema|Effusion|Infiltration|Pneumothorax',\n",
       "       'Emphysema|Pneumothorax|Mass',\n",
       "       'Emphysema|Fibrosis|Mass|Pleural_Thickening|Pneumothorax',\n",
       "       'Cardiomegaly|Edema|Effusion|Infiltration|Mass|Pleural_Thickening|Pneumonia',\n",
       "       'Cardiomegaly|Effusion|Emphysema|Fibrosis',\n",
       "       'Effusion|Emphysema|Fibrosis|Mass|Pneumothorax',\n",
       "       'Nodule|Pneumonia|Mass',\n",
       "       'Cardiomegaly|Consolidation|Effusion|Mass|Pneumothorax',\n",
       "       'Edema|Effusion|Mass|Pneumothorax',\n",
       "       'Atelectasis|Consolidation|Mass|Nodule|Pleural_Thickening',\n",
       "       'Atelectasis|Cardiomegaly|Effusion|Mass|Pleural_Thickening',\n",
       "       'Cardiomegaly|Effusion|Mass|Pneumothorax',\n",
       "       'Consolidation|Emphysema|Infiltration|Nodule|Pleural_Thickening|Pneumothorax',\n",
       "       'Consolidation|Edema|Nodule', 'Cardiomegaly|Edema|Nodule',\n",
       "       'Edema|Infiltration|Pneumonia|Pneumothorax',\n",
       "       'Cardiomegaly|Hernia|Infiltration', 'Mass|Infiltration|Pneumonia',\n",
       "       'Atelectasis|Mass|Nodule|Pleural_Thickening',\n",
       "       'Atelectasis|Cardiomegaly|Consolidation|Effusion|Mass|Nodule',\n",
       "       'Atelectasis|Consolidation|Effusion|Mass|Nodule|Pleural_Thickening',\n",
       "       'Edema|Pneumonia|Pneumothorax',\n",
       "       'Cardiomegaly|Infiltration|Nodule|Pneumothorax',\n",
       "       'Cardiomegaly|Consolidation|Effusion|Mass|Nodule|Pleural_Thickening',\n",
       "       'Cardiomegaly|Consolidation|Edema|Effusion|Mass|Nodule|Pleural_Thickening',\n",
       "       'Cardiomegaly|Consolidation|Effusion|Infiltration|Pleural_Thickening',\n",
       "       'Cardiomegaly|Consolidation|Effusion|Pleural_Thickening',\n",
       "       'Emphysema|Fibrosis|Hernia|Mass',\n",
       "       'Cardiomegaly|Effusion|Nodule|Infiltration',\n",
       "       'Cardiomegaly|Consolidation|Effusion|Infiltration|Nodule',\n",
       "       'Hernia|Infiltration|Pneumothorax',\n",
       "       'Atelectasis|Consolidation|Infiltration|Mass|Pleural_Thickening',\n",
       "       'Cardiomegaly|Effusion|Infiltration|Mass|Nodule|Pleural_Thickening',\n",
       "       'Atelectasis|Consolidation|Effusion|Infiltration|Mass|Pleural_Thickening',\n",
       "       'Atelectasis|Mass|Nodule|Pneumothorax',\n",
       "       'Infiltration|Mass|Nodule|Pleural_Thickening|Pneumothorax',\n",
       "       'Atelectasis|Cardiomegaly|Effusion|Nodule|Pleural_Thickening',\n",
       "       'Consolidation|Fibrosis|Infiltration|Pleural_Thickening|Mass',\n",
       "       'Atelectasis|Cardiomegaly|Fibrosis|Mass|Pneumothorax',\n",
       "       'Cardiomegaly|Effusion|Mass|Pleural_Thickening',\n",
       "       'Atelectasis|Emphysema|Infiltration|Mass|Pleural_Thickening|Pneumothorax',\n",
       "       'Atelectasis|Emphysema|Mass|Pleural_Thickening|Pneumothorax',\n",
       "       'Atelectasis|Consolidation|Emphysema|Mass|Nodule|Pleural_Thickening|Pneumothorax',\n",
       "       'Effusion|Emphysema|Mass|Nodule',\n",
       "       'Atelectasis|Consolidation|Effusion|Fibrosis|Infiltration|Mass|Pleural_Thickening',\n",
       "       'Atelectasis|Consolidation|Effusion|Fibrosis|Infiltration|Mass',\n",
       "       'Atelectasis|Cardiomegaly|Consolidation|Edema|Effusion|Mass',\n",
       "       'Atelectasis|Edema|Emphysema',\n",
       "       'Atelectasis|Edema|Emphysema|Pneumothorax',\n",
       "       'Atelectasis|Effusion|Emphysema|Mass|Pleural_Thickening',\n",
       "       'Effusion|Fibrosis|Nodule',\n",
       "       'Consolidation|Mass|Nodule|Pleural_Thickening',\n",
       "       'Atelectasis|Cardiomegaly|Effusion|Mass|Nodule',\n",
       "       'Atelectasis|Cardiomegaly|Effusion|Fibrosis|Pleural_Thickening',\n",
       "       'Atelectasis|Effusion|Infiltration|Pneumothorax|Cardiomegaly',\n",
       "       'Atelectasis|Consolidation|Effusion|Mass|Nodule|Pneumothorax',\n",
       "       'Atelectasis|Consolidation|Infiltration|Nodule|Pleural_Thickening',\n",
       "       'Cardiomegaly|Edema|Effusion|Mass|Nodule',\n",
       "       'Atelectasis|Cardiomegaly|Consolidation|Edema|Effusion|Infiltration|Mass|Nodule',\n",
       "       'Effusion|Emphysema|Mass|Pneumothorax',\n",
       "       'Atelectasis|Cardiomegaly|Consolidation|Effusion|Mass|Pleural_Thickening',\n",
       "       'Effusion|Fibrosis|Pleural_Thickening|Pneumothorax',\n",
       "       'Atelectasis|Emphysema|Fibrosis|Nodule',\n",
       "       'Effusion|Emphysema|Nodule|Pleural_Thickening',\n",
       "       'Effusion|Infiltration|Mass|Pleural_Thickening|Pneumothorax',\n",
       "       'Effusion|Fibrosis|Infiltration|Nodule|Pleural_Thickening|Pneumothorax',\n",
       "       'Mass|Nodule|Atelectasis', 'Atelectasis|Cardiomegaly|Pneumothorax',\n",
       "       'Atelectasis|Cardiomegaly|Effusion|Infiltration|Mass|Pneumothorax',\n",
       "       'Atelectasis|Cardiomegaly|Consolidation|Effusion|Infiltration|Mass|Pleural_Thickening',\n",
       "       'Infiltration|Mass|Pleural_Thickening|Pneumothorax',\n",
       "       'Effusion|Nodule|Pneumothorax|Mass',\n",
       "       'Atelectasis|Edema|Infiltration|Nodule|Pleural_Thickening',\n",
       "       'Infiltration|Mass|Nodule|Pneumonia',\n",
       "       'Cardiomegaly|Consolidation|Effusion|Infiltration|Mass|Nodule',\n",
       "       'Edema|Fibrosis|Infiltration|Mass',\n",
       "       'Atelectasis|Cardiomegaly|Edema|Effusion|Infiltration',\n",
       "       'Consolidation|Mass|Pleural_Thickening|Pneumothorax',\n",
       "       'Atelectasis|Consolidation|Effusion|Fibrosis|Infiltration|Mass|Nodule|Pleural_Thickening|Pneumothorax',\n",
       "       'Consolidation|Infiltration|Mass|Nodule|Pleural_Thickening',\n",
       "       'Edema|Mass|Pleural_Thickening',\n",
       "       'Atelectasis|Consolidation|Effusion|Infiltration|Mass|Nodule|Pleural_Thickening',\n",
       "       'Atelectasis|Consolidation|Nodule|Pleural_Thickening|Pneumothorax',\n",
       "       'Atelectasis|Consolidation|Mass|Nodule|Pleural_Thickening|Pneumothorax',\n",
       "       'Consolidation|Effusion|Infiltration|Mass|Nodule|Pleural_Thickening|Pneumothorax',\n",
       "       'Atelectasis|Emphysema|Fibrosis|Pleural_Thickening',\n",
       "       'Atelectasis|Fibrosis|Pneumothorax',\n",
       "       'Emphysema|Infiltration|Atelectasis',\n",
       "       'Fibrosis|Infiltration|Nodule|Pleural_Thickening',\n",
       "       'Edema|Infiltration|Nodule|Pleural_Thickening',\n",
       "       'Atelectasis|Emphysema|Fibrosis|Nodule|Pleural_Thickening|Pneumothorax',\n",
       "       'Atelectasis|Cardiomegaly|Effusion|Infiltration|Mass|Pleural_Thickening',\n",
       "       'Atelectasis|Edema|Effusion|Pneumonia',\n",
       "       'Cardiomegaly|Edema|Effusion|Nodule',\n",
       "       'Consolidation|Effusion|Mass|Nodule|Pneumothorax',\n",
       "       'Consolidation|Mass|Nodule|Pneumonia', 'Pneumothorax|Atelectasis',\n",
       "       'Effusion|Emphysema|Infiltration|Nodule',\n",
       "       'Effusion|Infiltration|Nodule|Pleural_Thickening|Pneumothorax',\n",
       "       'Edema|Effusion|Nodule|Mass',\n",
       "       'Edema|Infiltration|Mass|Pneumothorax',\n",
       "       'Cardiomegaly|Nodule|Pneumonia',\n",
       "       'Hernia|Infiltration|Pleural_Thickening',\n",
       "       'Atelectasis|Edema|Effusion|Hernia|Infiltration',\n",
       "       'Atelectasis|Consolidation|Effusion|Emphysema|Nodule|Pneumothorax',\n",
       "       'Effusion|Emphysema|Infiltration|Nodule|Pleural_Thickening',\n",
       "       'Atelectasis|Consolidation|Effusion|Emphysema|Infiltration|Nodule',\n",
       "       'Effusion|Infiltration|Atelectasis',\n",
       "       'Consolidation|Edema|Pleural_Thickening', 'Effusion|Atelectasis',\n",
       "       'Atelectasis|Cardiomegaly|Edema|Effusion|Infiltration|Pleural_Thickening',\n",
       "       'Nodule|Atelectasis', 'Edema|Fibrosis|Infiltration',\n",
       "       'Fibrosis|Hernia|Infiltration',\n",
       "       'Consolidation|Infiltration|Nodule|Pleural_Thickening',\n",
       "       'Atelectasis|Consolidation|Pleural_Thickening|Pneumothorax',\n",
       "       'Infiltration|Pneumothorax|Atelectasis',\n",
       "       'Atelectasis|Cardiomegaly|Effusion|Infiltration|Pneumonia',\n",
       "       'Atelectasis|Edema|Mass|Pleural_Thickening',\n",
       "       'Atelectasis|Hernia|Pleural_Thickening',\n",
       "       'Consolidation|Infiltration|Nodule|Pneumonia', 'Nodule|Effusion',\n",
       "       'Cardiomegaly|Consolidation|Edema|Effusion|Pleural_Thickening',\n",
       "       'Atelectasis|Cardiomegaly|Edema|Effusion|Infiltration|Nodule|Pneumonia',\n",
       "       'Consolidation|Pleural_Thickening|Infiltration',\n",
       "       'Atelectasis|Edema|Effusion|Mass|Pneumothorax',\n",
       "       'Infiltration|Nodule|Pleural_Thickening|Pneumothorax',\n",
       "       'Atelectasis|Cardiomegaly|Effusion|Infiltration|Pneumothorax',\n",
       "       'Infiltration|Mass|Pleural_Thickening|Pneumonia',\n",
       "       'Emphysema|Fibrosis|Infiltration|Pneumothorax',\n",
       "       'Emphysema|Nodule|Pleural_Thickening|Pneumothorax',\n",
       "       'Atelectasis|Fibrosis|Infiltration|Pleural_Thickening',\n",
       "       'Edema|Infiltration|Pleural_Thickening|Pneumonia|Pneumothorax',\n",
       "       'Atelectasis|Consolidation|Edema|Effusion|Infiltration|Mass|Nodule|Pleural_Thickening|Pneumonia',\n",
       "       'Atelectasis|Effusion|Emphysema|Mass',\n",
       "       'Atelectasis|Edema|Effusion|Emphysema|Infiltration|Mass',\n",
       "       'Cardiomegaly|Consolidation|Effusion|Infiltration|Mass',\n",
       "       'Edema|Emphysema|Infiltration|Pneumothorax',\n",
       "       'Consolidation|Pleural_Thickening|Pneumothorax',\n",
       "       'Effusion|Emphysema|Infiltration|Pneumonia',\n",
       "       'Cardiomegaly|Infiltration|Pneumonia',\n",
       "       'Atelectasis|Consolidation|Edema|Mass|Pleural_Thickening',\n",
       "       'Pleural_Thickening|Nodule',\n",
       "       'Effusion|Emphysema|Infiltration|Pleural_Thickening|Pneumothorax',\n",
       "       'Edema|Effusion|Pleural_Thickening|Pneumonia|Pneumothorax',\n",
       "       'Effusion|Infiltration|Nodule|Pneumonia',\n",
       "       'Emphysema|Mass|Nodule|Pleural_Thickening|Pneumothorax',\n",
       "       'Effusion|Emphysema|Mass|Pleural_Thickening',\n",
       "       'Cardiomegaly|Effusion|Emphysema|Infiltration',\n",
       "       'Atelectasis|Emphysema|Infiltration|Pneumothorax|Pneumonia',\n",
       "       'Effusion|Fibrosis|Mass|Cardiomegaly',\n",
       "       'Atelectasis|Consolidation|Emphysema|Mass|Pneumothorax',\n",
       "       'Consolidation|Effusion|Fibrosis|Mass|Nodule|Pleural_Thickening',\n",
       "       'Atelectasis|Edema|Pneumonia',\n",
       "       'Atelectasis|Edema|Effusion|Infiltration|Pleural_Thickening',\n",
       "       'Consolidation|Effusion|Infiltration|Mass|Pleural_Thickening',\n",
       "       'Emphysema|Infiltration|Mass|Pleural_Thickening',\n",
       "       'Emphysema|Pneumonia|Pneumothorax',\n",
       "       'Atelectasis|Effusion|Emphysema|Infiltration|Pleural_Thickening',\n",
       "       'Atelectasis|Effusion|Emphysema|Infiltration|Pleural_Thickening|Pneumothorax',\n",
       "       'Mass|Nodule|Pneumonia|Pneumothorax',\n",
       "       'Emphysema|Infiltration|Mass|Nodule|Pleural_Thickening',\n",
       "       'Atelectasis|Cardiomegaly|Consolidation|Effusion|Pneumothorax',\n",
       "       'Atelectasis|Emphysema|Fibrosis', 'Pneumothorax|Mass',\n",
       "       'Atelectasis|Emphysema|Fibrosis|Infiltration|Nodule|Pneumothorax',\n",
       "       'Emphysema|Mass|Nodule|Pleural_Thickening',\n",
       "       'Atelectasis|Cardiomegaly|Consolidation|Effusion|Infiltration|Mass',\n",
       "       'Atelectasis|Effusion|Infiltration|Pneumonia|Pneumothorax',\n",
       "       'Cardiomegaly|Hernia|Mass', 'Hernia|Infiltration|Nodule',\n",
       "       'Consolidation|Emphysema|Infiltration|Nodule',\n",
       "       'Effusion|Nodule|Pleural_Thickening|Mass',\n",
       "       'Infiltration|Cardiomegaly',\n",
       "       'Cardiomegaly|Consolidation|Effusion|Pneumonia',\n",
       "       'Emphysema|Infiltration|Nodule|Pleural_Thickening|Pneumothorax',\n",
       "       'Atelectasis|Nodule|Pleural_Thickening|Pneumothorax',\n",
       "       'Consolidation|Nodule|Pneumonia',\n",
       "       'Atelectasis|Effusion|Emphysema|Pleural_Thickening|Pneumothorax',\n",
       "       'Consolidation|Pneumonia|Mass', 'Consolidation|Effusion|Emphysema',\n",
       "       'Atelectasis|Hernia|Infiltration|Mass|Nodule|Pneumothorax',\n",
       "       'Atelectasis|Consolidation|Mass|Pleural_Thickening|Pneumothorax'],\n",
       "      dtype=object)"
      ]
     },
     "execution_count": 4,
     "metadata": {},
     "output_type": "execute_result"
    }
   ],
   "source": [
    "df['Finding Labels'].unique()"
   ]
  },
  {
   "cell_type": "markdown",
   "metadata": {},
   "source": [
    "If a patient has multiple pathologies, they are separated by a `|` solid line delimiter"
   ]
  },
  {
   "cell_type": "markdown",
   "metadata": {},
   "source": [
    "Let's split them up and see how many unique labels there really are"
   ]
  },
  {
   "cell_type": "code",
   "execution_count": 6,
   "metadata": {},
   "outputs": [],
   "source": [
    "ids = df['Image Index'].values"
   ]
  },
  {
   "cell_type": "code",
   "execution_count": 11,
   "metadata": {},
   "outputs": [],
   "source": [
    "sorted_id_ind_pairs = np.array([(i, val) for i, val in enumerate(ids)])    "
   ]
  },
  {
   "cell_type": "code",
   "execution_count": 13,
   "metadata": {},
   "outputs": [
    {
     "data": {
      "text/plain": [
       "(112120, 2)"
      ]
     },
     "execution_count": 13,
     "metadata": {},
     "output_type": "execute_result"
    }
   ],
   "source": [
    "sorted_id_ind_pairs.shape"
   ]
  },
  {
   "cell_type": "code",
   "execution_count": 14,
   "metadata": {},
   "outputs": [
    {
     "data": {
      "text/plain": [
       "112120"
      ]
     },
     "execution_count": 14,
     "metadata": {},
     "output_type": "execute_result"
    }
   ],
   "source": [
    "len(sorted_id_ind_pairs)"
   ]
  },
  {
   "cell_type": "code",
   "execution_count": 15,
   "metadata": {},
   "outputs": [],
   "source": [
    "fake = [(0,1), (0,2), (0,5), (0,3)]\n",
    "\n",
    "sort_fake = sorted(fake, key = lambda x: x[1])"
   ]
  },
  {
   "cell_type": "code",
   "execution_count": 16,
   "metadata": {},
   "outputs": [
    {
     "data": {
      "text/plain": [
       "[(0, 1), (0, 2), (0, 3), (0, 5)]"
      ]
     },
     "execution_count": 16,
     "metadata": {},
     "output_type": "execute_result"
    }
   ],
   "source": [
    "sort_fake"
   ]
  },
  {
   "cell_type": "code",
   "execution_count": 17,
   "metadata": {},
   "outputs": [],
   "source": [
    "# Sort based on the actual id values, and keep the first value in the tuple as the \n",
    "# original index in the data frame\n",
    "sorted_id_ind_pairs = sorted(sorted_id_ind_pairs, key = lambda x: x[1])"
   ]
  },
  {
   "cell_type": "code",
   "execution_count": 21,
   "metadata": {},
   "outputs": [],
   "source": [
    "sorted_inds = np.array([int(val[0]) for val in sorted_id_ind_pairs])"
   ]
  },
  {
   "cell_type": "code",
   "execution_count": 22,
   "metadata": {},
   "outputs": [
    {
     "data": {
      "text/plain": [
       "array([     0,      1,      2, ..., 112117, 112118, 112119])"
      ]
     },
     "execution_count": 22,
     "metadata": {},
     "output_type": "execute_result"
    }
   ],
   "source": [
    "sorted_inds"
   ]
  },
  {
   "cell_type": "code",
   "execution_count": 24,
   "metadata": {},
   "outputs": [],
   "source": [
    "# for i, val in enumerate(sorted_inds):\n",
    "#     if np.abs(val - sorted_inds[i+1]) != 1:\n",
    "#         print(i, val) "
   ]
  },
  {
   "cell_type": "markdown",
   "metadata": {},
   "source": [
    "$\\uparrow$ Just proving to myself that in fact the labels needed to be ordered"
   ]
  },
  {
   "cell_type": "markdown",
   "metadata": {},
   "source": [
    "ex: The index in the sorted list is not equal to the index in the dataframe"
   ]
  },
  {
   "cell_type": "code",
   "execution_count": 27,
   "metadata": {},
   "outputs": [
    {
     "data": {
      "text/plain": [
       "11"
      ]
     },
     "execution_count": 27,
     "metadata": {},
     "output_type": "execute_result"
    }
   ],
   "source": [
    "sorted_inds[4]"
   ]
  },
  {
   "cell_type": "code",
   "execution_count": 29,
   "metadata": {},
   "outputs": [],
   "source": [
    "labels = df['Finding Labels'].values"
   ]
  },
  {
   "cell_type": "code",
   "execution_count": 30,
   "metadata": {},
   "outputs": [
    {
     "data": {
      "text/plain": [
       "'Cardiomegaly'"
      ]
     },
     "execution_count": 30,
     "metadata": {},
     "output_type": "execute_result"
    }
   ],
   "source": [
    "labels[0]"
   ]
  },
  {
   "cell_type": "code",
   "execution_count": 33,
   "metadata": {},
   "outputs": [
    {
     "data": {
      "text/plain": [
       "'Cardiomegaly|Effusion'"
      ]
     },
     "execution_count": 33,
     "metadata": {},
     "output_type": "execute_result"
    }
   ],
   "source": [
    "labels[2]"
   ]
  },
  {
   "cell_type": "code",
   "execution_count": 53,
   "metadata": {},
   "outputs": [
    {
     "data": {
      "text/plain": [
       "'Infiltration|Mass|Pneumothorax'"
      ]
     },
     "execution_count": 53,
     "metadata": {},
     "output_type": "execute_result"
    }
   ],
   "source": [
    "labels[39]"
   ]
  },
  {
   "cell_type": "code",
   "execution_count": 54,
   "metadata": {},
   "outputs": [
    {
     "data": {
      "text/plain": [
       "['Infiltration', 'Mass', 'Pneumothorax']"
      ]
     },
     "execution_count": 54,
     "metadata": {},
     "output_type": "execute_result"
    }
   ],
   "source": [
    "labels[39].split('|')"
   ]
  },
  {
   "cell_type": "code",
   "execution_count": 56,
   "metadata": {},
   "outputs": [
    {
     "data": {
      "text/plain": [
       "array([     0,      1,      2, ..., 112117, 112118, 112119])"
      ]
     },
     "execution_count": 56,
     "metadata": {},
     "output_type": "execute_result"
    }
   ],
   "source": [
    "sorted_inds"
   ]
  },
  {
   "cell_type": "code",
   "execution_count": 64,
   "metadata": {},
   "outputs": [],
   "source": [
    "sorted_labels = labels[sorted_inds]"
   ]
  },
  {
   "cell_type": "code",
   "execution_count": 65,
   "metadata": {},
   "outputs": [],
   "source": [
    "split_labels = [label.split('|') for label in sorted_labels]"
   ]
  },
  {
   "cell_type": "code",
   "execution_count": 66,
   "metadata": {},
   "outputs": [
    {
     "data": {
      "text/plain": [
       "112120"
      ]
     },
     "execution_count": 66,
     "metadata": {},
     "output_type": "execute_result"
    }
   ],
   "source": [
    "len(split_labels)"
   ]
  },
  {
   "cell_type": "code",
   "execution_count": 68,
   "metadata": {},
   "outputs": [],
   "source": [
    "# split_labels"
   ]
  },
  {
   "cell_type": "code",
   "execution_count": 69,
   "metadata": {},
   "outputs": [],
   "source": [
    "# split_labels = np.array(split_labels, dtype='object')"
   ]
  },
  {
   "cell_type": "code",
   "execution_count": 70,
   "metadata": {},
   "outputs": [],
   "source": [
    "# split_labels"
   ]
  },
  {
   "cell_type": "markdown",
   "metadata": {},
   "source": [
    "Let's make as many entries as there are pathologies for each patient. Then we can map the existence of a pathology for each patient to a one or a zero, in columns where each column is a unique pathology."
   ]
  },
  {
   "cell_type": "markdown",
   "metadata": {},
   "source": [
    "There might be an easier way..."
   ]
  },
  {
   "cell_type": "code",
   "execution_count": 75,
   "metadata": {},
   "outputs": [],
   "source": [
    "unique_labels = np.unique(\n",
    "    df['Finding Labels'].str.split('|').aggregate(np.concatenate)\n",
    "    ).tolist()"
   ]
  },
  {
   "cell_type": "code",
   "execution_count": 106,
   "metadata": {},
   "outputs": [
    {
     "data": {
      "text/plain": [
       "['Atelectasis',\n",
       " 'Cardiomegaly',\n",
       " 'Consolidation',\n",
       " 'Edema',\n",
       " 'Effusion',\n",
       " 'Emphysema',\n",
       " 'Fibrosis',\n",
       " 'Hernia',\n",
       " 'Infiltration',\n",
       " 'Mass',\n",
       " 'No Finding',\n",
       " 'Nodule',\n",
       " 'Pleural_Thickening',\n",
       " 'Pneumonia',\n",
       " 'Pneumothorax']"
      ]
     },
     "execution_count": 106,
     "metadata": {},
     "output_type": "execute_result"
    }
   ],
   "source": [
    "unique_labels"
   ]
  },
  {
   "cell_type": "code",
   "execution_count": 76,
   "metadata": {},
   "outputs": [],
   "source": [
    "label_index = {v: i for i, v in enumerate(unique_labels)}"
   ]
  },
  {
   "cell_type": "code",
   "execution_count": 77,
   "metadata": {},
   "outputs": [
    {
     "data": {
      "text/plain": [
       "{'Atelectasis': 0,\n",
       " 'Cardiomegaly': 1,\n",
       " 'Consolidation': 2,\n",
       " 'Edema': 3,\n",
       " 'Effusion': 4,\n",
       " 'Emphysema': 5,\n",
       " 'Fibrosis': 6,\n",
       " 'Hernia': 7,\n",
       " 'Infiltration': 8,\n",
       " 'Mass': 9,\n",
       " 'No Finding': 10,\n",
       " 'Nodule': 11,\n",
       " 'Pleural_Thickening': 12,\n",
       " 'Pneumonia': 13,\n",
       " 'Pneumothorax': 14}"
      ]
     },
     "execution_count": 77,
     "metadata": {},
     "output_type": "execute_result"
    }
   ],
   "source": [
    "label_index"
   ]
  },
  {
   "cell_type": "code",
   "execution_count": 78,
   "metadata": {},
   "outputs": [
    {
     "data": {
      "text/html": [
       "<div>\n",
       "<style scoped>\n",
       "    .dataframe tbody tr th:only-of-type {\n",
       "        vertical-align: middle;\n",
       "    }\n",
       "\n",
       "    .dataframe tbody tr th {\n",
       "        vertical-align: top;\n",
       "    }\n",
       "\n",
       "    .dataframe thead th {\n",
       "        text-align: right;\n",
       "    }\n",
       "</style>\n",
       "<table border=\"1\" class=\"dataframe\">\n",
       "  <thead>\n",
       "    <tr style=\"text-align: right;\">\n",
       "      <th></th>\n",
       "      <th>Image Index</th>\n",
       "      <th>Finding Labels</th>\n",
       "      <th>Follow-up #</th>\n",
       "      <th>Patient ID</th>\n",
       "      <th>Patient Age</th>\n",
       "      <th>Patient Gender</th>\n",
       "      <th>View Position</th>\n",
       "      <th>OriginalImage[Width</th>\n",
       "      <th>Height]</th>\n",
       "      <th>OriginalImagePixelSpacing[x</th>\n",
       "      <th>y]</th>\n",
       "    </tr>\n",
       "  </thead>\n",
       "  <tbody>\n",
       "    <tr>\n",
       "      <th>0</th>\n",
       "      <td>00000001_000.png</td>\n",
       "      <td>Cardiomegaly</td>\n",
       "      <td>0</td>\n",
       "      <td>1</td>\n",
       "      <td>57</td>\n",
       "      <td>M</td>\n",
       "      <td>PA</td>\n",
       "      <td>2682</td>\n",
       "      <td>2749</td>\n",
       "      <td>0.143</td>\n",
       "      <td>0.143</td>\n",
       "    </tr>\n",
       "    <tr>\n",
       "      <th>1</th>\n",
       "      <td>00000001_001.png</td>\n",
       "      <td>Cardiomegaly|Emphysema</td>\n",
       "      <td>1</td>\n",
       "      <td>1</td>\n",
       "      <td>58</td>\n",
       "      <td>M</td>\n",
       "      <td>PA</td>\n",
       "      <td>2894</td>\n",
       "      <td>2729</td>\n",
       "      <td>0.143</td>\n",
       "      <td>0.143</td>\n",
       "    </tr>\n",
       "    <tr>\n",
       "      <th>2</th>\n",
       "      <td>00000001_002.png</td>\n",
       "      <td>Cardiomegaly|Effusion</td>\n",
       "      <td>2</td>\n",
       "      <td>1</td>\n",
       "      <td>58</td>\n",
       "      <td>M</td>\n",
       "      <td>PA</td>\n",
       "      <td>2500</td>\n",
       "      <td>2048</td>\n",
       "      <td>0.168</td>\n",
       "      <td>0.168</td>\n",
       "    </tr>\n",
       "    <tr>\n",
       "      <th>3</th>\n",
       "      <td>00000002_000.png</td>\n",
       "      <td>No Finding</td>\n",
       "      <td>0</td>\n",
       "      <td>2</td>\n",
       "      <td>80</td>\n",
       "      <td>M</td>\n",
       "      <td>PA</td>\n",
       "      <td>2500</td>\n",
       "      <td>2048</td>\n",
       "      <td>0.171</td>\n",
       "      <td>0.171</td>\n",
       "    </tr>\n",
       "    <tr>\n",
       "      <th>4</th>\n",
       "      <td>00000003_001.png</td>\n",
       "      <td>Hernia</td>\n",
       "      <td>0</td>\n",
       "      <td>3</td>\n",
       "      <td>74</td>\n",
       "      <td>F</td>\n",
       "      <td>PA</td>\n",
       "      <td>2500</td>\n",
       "      <td>2048</td>\n",
       "      <td>0.168</td>\n",
       "      <td>0.168</td>\n",
       "    </tr>\n",
       "    <tr>\n",
       "      <th>...</th>\n",
       "      <td>...</td>\n",
       "      <td>...</td>\n",
       "      <td>...</td>\n",
       "      <td>...</td>\n",
       "      <td>...</td>\n",
       "      <td>...</td>\n",
       "      <td>...</td>\n",
       "      <td>...</td>\n",
       "      <td>...</td>\n",
       "      <td>...</td>\n",
       "      <td>...</td>\n",
       "    </tr>\n",
       "    <tr>\n",
       "      <th>112115</th>\n",
       "      <td>00030801_001.png</td>\n",
       "      <td>Mass|Pneumonia</td>\n",
       "      <td>1</td>\n",
       "      <td>30801</td>\n",
       "      <td>38</td>\n",
       "      <td>M</td>\n",
       "      <td>PA</td>\n",
       "      <td>2048</td>\n",
       "      <td>2500</td>\n",
       "      <td>0.168</td>\n",
       "      <td>0.168</td>\n",
       "    </tr>\n",
       "    <tr>\n",
       "      <th>112116</th>\n",
       "      <td>00030802_000.png</td>\n",
       "      <td>No Finding</td>\n",
       "      <td>0</td>\n",
       "      <td>30802</td>\n",
       "      <td>28</td>\n",
       "      <td>M</td>\n",
       "      <td>PA</td>\n",
       "      <td>2048</td>\n",
       "      <td>2500</td>\n",
       "      <td>0.168</td>\n",
       "      <td>0.168</td>\n",
       "    </tr>\n",
       "    <tr>\n",
       "      <th>112117</th>\n",
       "      <td>00030803_000.png</td>\n",
       "      <td>No Finding</td>\n",
       "      <td>0</td>\n",
       "      <td>30803</td>\n",
       "      <td>42</td>\n",
       "      <td>F</td>\n",
       "      <td>PA</td>\n",
       "      <td>2048</td>\n",
       "      <td>2500</td>\n",
       "      <td>0.168</td>\n",
       "      <td>0.168</td>\n",
       "    </tr>\n",
       "    <tr>\n",
       "      <th>112118</th>\n",
       "      <td>00030804_000.png</td>\n",
       "      <td>No Finding</td>\n",
       "      <td>0</td>\n",
       "      <td>30804</td>\n",
       "      <td>29</td>\n",
       "      <td>F</td>\n",
       "      <td>PA</td>\n",
       "      <td>2048</td>\n",
       "      <td>2500</td>\n",
       "      <td>0.168</td>\n",
       "      <td>0.168</td>\n",
       "    </tr>\n",
       "    <tr>\n",
       "      <th>112119</th>\n",
       "      <td>00030805_000.png</td>\n",
       "      <td>No Finding</td>\n",
       "      <td>0</td>\n",
       "      <td>30805</td>\n",
       "      <td>26</td>\n",
       "      <td>M</td>\n",
       "      <td>PA</td>\n",
       "      <td>2048</td>\n",
       "      <td>2500</td>\n",
       "      <td>0.171</td>\n",
       "      <td>0.171</td>\n",
       "    </tr>\n",
       "  </tbody>\n",
       "</table>\n",
       "<p>112120 rows × 11 columns</p>\n",
       "</div>"
      ],
      "text/plain": [
       "             Image Index          Finding Labels  Follow-up #  Patient ID  \\\n",
       "0       00000001_000.png            Cardiomegaly            0           1   \n",
       "1       00000001_001.png  Cardiomegaly|Emphysema            1           1   \n",
       "2       00000001_002.png   Cardiomegaly|Effusion            2           1   \n",
       "3       00000002_000.png              No Finding            0           2   \n",
       "4       00000003_001.png                  Hernia            0           3   \n",
       "...                  ...                     ...          ...         ...   \n",
       "112115  00030801_001.png          Mass|Pneumonia            1       30801   \n",
       "112116  00030802_000.png              No Finding            0       30802   \n",
       "112117  00030803_000.png              No Finding            0       30803   \n",
       "112118  00030804_000.png              No Finding            0       30804   \n",
       "112119  00030805_000.png              No Finding            0       30805   \n",
       "\n",
       "        Patient Age Patient Gender View Position  OriginalImage[Width  \\\n",
       "0                57              M            PA                 2682   \n",
       "1                58              M            PA                 2894   \n",
       "2                58              M            PA                 2500   \n",
       "3                80              M            PA                 2500   \n",
       "4                74              F            PA                 2500   \n",
       "...             ...            ...           ...                  ...   \n",
       "112115           38              M            PA                 2048   \n",
       "112116           28              M            PA                 2048   \n",
       "112117           42              F            PA                 2048   \n",
       "112118           29              F            PA                 2048   \n",
       "112119           26              M            PA                 2048   \n",
       "\n",
       "        Height]  OriginalImagePixelSpacing[x     y]  \n",
       "0          2749                        0.143  0.143  \n",
       "1          2729                        0.143  0.143  \n",
       "2          2048                        0.168  0.168  \n",
       "3          2048                        0.171  0.171  \n",
       "4          2048                        0.168  0.168  \n",
       "...         ...                          ...    ...  \n",
       "112115     2500                        0.168  0.168  \n",
       "112116     2500                        0.168  0.168  \n",
       "112117     2500                        0.168  0.168  \n",
       "112118     2500                        0.168  0.168  \n",
       "112119     2500                        0.171  0.171  \n",
       "\n",
       "[112120 rows x 11 columns]"
      ]
     },
     "execution_count": 78,
     "metadata": {},
     "output_type": "execute_result"
    }
   ],
   "source": [
    "df"
   ]
  },
  {
   "cell_type": "code",
   "execution_count": 79,
   "metadata": {},
   "outputs": [],
   "source": [
    "def string_to_N_hot(string: str):\n",
    "    true_index = [label_index[cl] for cl in string.split(\"|\")]\n",
    "    label = np.zeros((len(unique_labels),), dtype=float)\n",
    "    label[true_index] = 1\n",
    "    return label\n",
    "\n",
    "df[\"labels\"] = df[\"Finding Labels\"].apply(string_to_N_hot)"
   ]
  },
  {
   "cell_type": "code",
   "execution_count": 80,
   "metadata": {},
   "outputs": [
    {
     "data": {
      "text/html": [
       "<div>\n",
       "<style scoped>\n",
       "    .dataframe tbody tr th:only-of-type {\n",
       "        vertical-align: middle;\n",
       "    }\n",
       "\n",
       "    .dataframe tbody tr th {\n",
       "        vertical-align: top;\n",
       "    }\n",
       "\n",
       "    .dataframe thead th {\n",
       "        text-align: right;\n",
       "    }\n",
       "</style>\n",
       "<table border=\"1\" class=\"dataframe\">\n",
       "  <thead>\n",
       "    <tr style=\"text-align: right;\">\n",
       "      <th></th>\n",
       "      <th>Image Index</th>\n",
       "      <th>Finding Labels</th>\n",
       "      <th>Follow-up #</th>\n",
       "      <th>Patient ID</th>\n",
       "      <th>Patient Age</th>\n",
       "      <th>Patient Gender</th>\n",
       "      <th>View Position</th>\n",
       "      <th>OriginalImage[Width</th>\n",
       "      <th>Height]</th>\n",
       "      <th>OriginalImagePixelSpacing[x</th>\n",
       "      <th>y]</th>\n",
       "      <th>labels</th>\n",
       "    </tr>\n",
       "  </thead>\n",
       "  <tbody>\n",
       "    <tr>\n",
       "      <th>0</th>\n",
       "      <td>00000001_000.png</td>\n",
       "      <td>Cardiomegaly</td>\n",
       "      <td>0</td>\n",
       "      <td>1</td>\n",
       "      <td>57</td>\n",
       "      <td>M</td>\n",
       "      <td>PA</td>\n",
       "      <td>2682</td>\n",
       "      <td>2749</td>\n",
       "      <td>0.143</td>\n",
       "      <td>0.143</td>\n",
       "      <td>[0.0, 1.0, 0.0, 0.0, 0.0, 0.0, 0.0, 0.0, 0.0, ...</td>\n",
       "    </tr>\n",
       "    <tr>\n",
       "      <th>1</th>\n",
       "      <td>00000001_001.png</td>\n",
       "      <td>Cardiomegaly|Emphysema</td>\n",
       "      <td>1</td>\n",
       "      <td>1</td>\n",
       "      <td>58</td>\n",
       "      <td>M</td>\n",
       "      <td>PA</td>\n",
       "      <td>2894</td>\n",
       "      <td>2729</td>\n",
       "      <td>0.143</td>\n",
       "      <td>0.143</td>\n",
       "      <td>[0.0, 1.0, 0.0, 0.0, 0.0, 1.0, 0.0, 0.0, 0.0, ...</td>\n",
       "    </tr>\n",
       "    <tr>\n",
       "      <th>2</th>\n",
       "      <td>00000001_002.png</td>\n",
       "      <td>Cardiomegaly|Effusion</td>\n",
       "      <td>2</td>\n",
       "      <td>1</td>\n",
       "      <td>58</td>\n",
       "      <td>M</td>\n",
       "      <td>PA</td>\n",
       "      <td>2500</td>\n",
       "      <td>2048</td>\n",
       "      <td>0.168</td>\n",
       "      <td>0.168</td>\n",
       "      <td>[0.0, 1.0, 0.0, 0.0, 1.0, 0.0, 0.0, 0.0, 0.0, ...</td>\n",
       "    </tr>\n",
       "    <tr>\n",
       "      <th>3</th>\n",
       "      <td>00000002_000.png</td>\n",
       "      <td>No Finding</td>\n",
       "      <td>0</td>\n",
       "      <td>2</td>\n",
       "      <td>80</td>\n",
       "      <td>M</td>\n",
       "      <td>PA</td>\n",
       "      <td>2500</td>\n",
       "      <td>2048</td>\n",
       "      <td>0.171</td>\n",
       "      <td>0.171</td>\n",
       "      <td>[0.0, 0.0, 0.0, 0.0, 0.0, 0.0, 0.0, 0.0, 0.0, ...</td>\n",
       "    </tr>\n",
       "    <tr>\n",
       "      <th>4</th>\n",
       "      <td>00000003_001.png</td>\n",
       "      <td>Hernia</td>\n",
       "      <td>0</td>\n",
       "      <td>3</td>\n",
       "      <td>74</td>\n",
       "      <td>F</td>\n",
       "      <td>PA</td>\n",
       "      <td>2500</td>\n",
       "      <td>2048</td>\n",
       "      <td>0.168</td>\n",
       "      <td>0.168</td>\n",
       "      <td>[0.0, 0.0, 0.0, 0.0, 0.0, 0.0, 0.0, 1.0, 0.0, ...</td>\n",
       "    </tr>\n",
       "    <tr>\n",
       "      <th>...</th>\n",
       "      <td>...</td>\n",
       "      <td>...</td>\n",
       "      <td>...</td>\n",
       "      <td>...</td>\n",
       "      <td>...</td>\n",
       "      <td>...</td>\n",
       "      <td>...</td>\n",
       "      <td>...</td>\n",
       "      <td>...</td>\n",
       "      <td>...</td>\n",
       "      <td>...</td>\n",
       "      <td>...</td>\n",
       "    </tr>\n",
       "    <tr>\n",
       "      <th>112115</th>\n",
       "      <td>00030801_001.png</td>\n",
       "      <td>Mass|Pneumonia</td>\n",
       "      <td>1</td>\n",
       "      <td>30801</td>\n",
       "      <td>38</td>\n",
       "      <td>M</td>\n",
       "      <td>PA</td>\n",
       "      <td>2048</td>\n",
       "      <td>2500</td>\n",
       "      <td>0.168</td>\n",
       "      <td>0.168</td>\n",
       "      <td>[0.0, 0.0, 0.0, 0.0, 0.0, 0.0, 0.0, 0.0, 0.0, ...</td>\n",
       "    </tr>\n",
       "    <tr>\n",
       "      <th>112116</th>\n",
       "      <td>00030802_000.png</td>\n",
       "      <td>No Finding</td>\n",
       "      <td>0</td>\n",
       "      <td>30802</td>\n",
       "      <td>28</td>\n",
       "      <td>M</td>\n",
       "      <td>PA</td>\n",
       "      <td>2048</td>\n",
       "      <td>2500</td>\n",
       "      <td>0.168</td>\n",
       "      <td>0.168</td>\n",
       "      <td>[0.0, 0.0, 0.0, 0.0, 0.0, 0.0, 0.0, 0.0, 0.0, ...</td>\n",
       "    </tr>\n",
       "    <tr>\n",
       "      <th>112117</th>\n",
       "      <td>00030803_000.png</td>\n",
       "      <td>No Finding</td>\n",
       "      <td>0</td>\n",
       "      <td>30803</td>\n",
       "      <td>42</td>\n",
       "      <td>F</td>\n",
       "      <td>PA</td>\n",
       "      <td>2048</td>\n",
       "      <td>2500</td>\n",
       "      <td>0.168</td>\n",
       "      <td>0.168</td>\n",
       "      <td>[0.0, 0.0, 0.0, 0.0, 0.0, 0.0, 0.0, 0.0, 0.0, ...</td>\n",
       "    </tr>\n",
       "    <tr>\n",
       "      <th>112118</th>\n",
       "      <td>00030804_000.png</td>\n",
       "      <td>No Finding</td>\n",
       "      <td>0</td>\n",
       "      <td>30804</td>\n",
       "      <td>29</td>\n",
       "      <td>F</td>\n",
       "      <td>PA</td>\n",
       "      <td>2048</td>\n",
       "      <td>2500</td>\n",
       "      <td>0.168</td>\n",
       "      <td>0.168</td>\n",
       "      <td>[0.0, 0.0, 0.0, 0.0, 0.0, 0.0, 0.0, 0.0, 0.0, ...</td>\n",
       "    </tr>\n",
       "    <tr>\n",
       "      <th>112119</th>\n",
       "      <td>00030805_000.png</td>\n",
       "      <td>No Finding</td>\n",
       "      <td>0</td>\n",
       "      <td>30805</td>\n",
       "      <td>26</td>\n",
       "      <td>M</td>\n",
       "      <td>PA</td>\n",
       "      <td>2048</td>\n",
       "      <td>2500</td>\n",
       "      <td>0.171</td>\n",
       "      <td>0.171</td>\n",
       "      <td>[0.0, 0.0, 0.0, 0.0, 0.0, 0.0, 0.0, 0.0, 0.0, ...</td>\n",
       "    </tr>\n",
       "  </tbody>\n",
       "</table>\n",
       "<p>112120 rows × 12 columns</p>\n",
       "</div>"
      ],
      "text/plain": [
       "             Image Index          Finding Labels  Follow-up #  Patient ID  \\\n",
       "0       00000001_000.png            Cardiomegaly            0           1   \n",
       "1       00000001_001.png  Cardiomegaly|Emphysema            1           1   \n",
       "2       00000001_002.png   Cardiomegaly|Effusion            2           1   \n",
       "3       00000002_000.png              No Finding            0           2   \n",
       "4       00000003_001.png                  Hernia            0           3   \n",
       "...                  ...                     ...          ...         ...   \n",
       "112115  00030801_001.png          Mass|Pneumonia            1       30801   \n",
       "112116  00030802_000.png              No Finding            0       30802   \n",
       "112117  00030803_000.png              No Finding            0       30803   \n",
       "112118  00030804_000.png              No Finding            0       30804   \n",
       "112119  00030805_000.png              No Finding            0       30805   \n",
       "\n",
       "        Patient Age Patient Gender View Position  OriginalImage[Width  \\\n",
       "0                57              M            PA                 2682   \n",
       "1                58              M            PA                 2894   \n",
       "2                58              M            PA                 2500   \n",
       "3                80              M            PA                 2500   \n",
       "4                74              F            PA                 2500   \n",
       "...             ...            ...           ...                  ...   \n",
       "112115           38              M            PA                 2048   \n",
       "112116           28              M            PA                 2048   \n",
       "112117           42              F            PA                 2048   \n",
       "112118           29              F            PA                 2048   \n",
       "112119           26              M            PA                 2048   \n",
       "\n",
       "        Height]  OriginalImagePixelSpacing[x     y]  \\\n",
       "0          2749                        0.143  0.143   \n",
       "1          2729                        0.143  0.143   \n",
       "2          2048                        0.168  0.168   \n",
       "3          2048                        0.171  0.171   \n",
       "4          2048                        0.168  0.168   \n",
       "...         ...                          ...    ...   \n",
       "112115     2500                        0.168  0.168   \n",
       "112116     2500                        0.168  0.168   \n",
       "112117     2500                        0.168  0.168   \n",
       "112118     2500                        0.168  0.168   \n",
       "112119     2500                        0.171  0.171   \n",
       "\n",
       "                                                   labels  \n",
       "0       [0.0, 1.0, 0.0, 0.0, 0.0, 0.0, 0.0, 0.0, 0.0, ...  \n",
       "1       [0.0, 1.0, 0.0, 0.0, 0.0, 1.0, 0.0, 0.0, 0.0, ...  \n",
       "2       [0.0, 1.0, 0.0, 0.0, 1.0, 0.0, 0.0, 0.0, 0.0, ...  \n",
       "3       [0.0, 0.0, 0.0, 0.0, 0.0, 0.0, 0.0, 0.0, 0.0, ...  \n",
       "4       [0.0, 0.0, 0.0, 0.0, 0.0, 0.0, 0.0, 1.0, 0.0, ...  \n",
       "...                                                   ...  \n",
       "112115  [0.0, 0.0, 0.0, 0.0, 0.0, 0.0, 0.0, 0.0, 0.0, ...  \n",
       "112116  [0.0, 0.0, 0.0, 0.0, 0.0, 0.0, 0.0, 0.0, 0.0, ...  \n",
       "112117  [0.0, 0.0, 0.0, 0.0, 0.0, 0.0, 0.0, 0.0, 0.0, ...  \n",
       "112118  [0.0, 0.0, 0.0, 0.0, 0.0, 0.0, 0.0, 0.0, 0.0, ...  \n",
       "112119  [0.0, 0.0, 0.0, 0.0, 0.0, 0.0, 0.0, 0.0, 0.0, ...  \n",
       "\n",
       "[112120 rows x 12 columns]"
      ]
     },
     "execution_count": 80,
     "metadata": {},
     "output_type": "execute_result"
    }
   ],
   "source": [
    "df"
   ]
  },
  {
   "cell_type": "markdown",
   "metadata": {},
   "source": [
    "<hr>"
   ]
  },
  {
   "cell_type": "code",
   "execution_count": 81,
   "metadata": {},
   "outputs": [],
   "source": [
    "sorted_labels = df['labels'].values[sorted_inds]"
   ]
  },
  {
   "cell_type": "code",
   "execution_count": 83,
   "metadata": {},
   "outputs": [
    {
     "data": {
      "text/plain": [
       "array(['00000001_000.png', '00000001_001.png', '00000001_002.png', ...,\n",
       "       '00030803_000.png', '00030804_000.png', '00030805_000.png'],\n",
       "      dtype=object)"
      ]
     },
     "execution_count": 83,
     "metadata": {},
     "output_type": "execute_result"
    }
   ],
   "source": [
    "ids"
   ]
  },
  {
   "cell_type": "code",
   "execution_count": 84,
   "metadata": {},
   "outputs": [],
   "source": [
    "sorted_ids = ids[sorted_inds]"
   ]
  },
  {
   "cell_type": "code",
   "execution_count": 86,
   "metadata": {},
   "outputs": [
    {
     "data": {
      "text/plain": [
       "'00000003_000.png'"
      ]
     },
     "execution_count": 86,
     "metadata": {},
     "output_type": "execute_result"
    }
   ],
   "source": [
    "sorted_ids[4]"
   ]
  },
  {
   "cell_type": "code",
   "execution_count": 87,
   "metadata": {},
   "outputs": [
    {
     "data": {
      "text/plain": [
       "'00000003_001.png'"
      ]
     },
     "execution_count": 87,
     "metadata": {},
     "output_type": "execute_result"
    }
   ],
   "source": [
    "ids[4]"
   ]
  },
  {
   "cell_type": "markdown",
   "metadata": {},
   "source": [
    "$\\checkmark$"
   ]
  },
  {
   "cell_type": "code",
   "execution_count": 94,
   "metadata": {},
   "outputs": [
    {
     "data": {
      "text/plain": [
       "array([array([0., 1., 0., 0., 0., 0., 0., 0., 0., 0., 0., 0., 0., 0., 0.]),\n",
       "       array([0., 1., 0., 0., 0., 1., 0., 0., 0., 0., 0., 0., 0., 0., 0.]),\n",
       "       array([0., 1., 0., 0., 1., 0., 0., 0., 0., 0., 0., 0., 0., 0., 0.]),\n",
       "       ...,\n",
       "       array([0., 0., 0., 0., 0., 0., 0., 0., 0., 0., 1., 0., 0., 0., 0.]),\n",
       "       array([0., 0., 0., 0., 0., 0., 0., 0., 0., 0., 1., 0., 0., 0., 0.]),\n",
       "       array([0., 0., 0., 0., 0., 0., 0., 0., 0., 0., 1., 0., 0., 0., 0.])],\n",
       "      dtype=object)"
      ]
     },
     "execution_count": 94,
     "metadata": {},
     "output_type": "execute_result"
    }
   ],
   "source": [
    "sorted_labels"
   ]
  },
  {
   "cell_type": "code",
   "execution_count": 100,
   "metadata": {},
   "outputs": [
    {
     "data": {
      "text/plain": [
       "(112120, 15)"
      ]
     },
     "execution_count": 100,
     "metadata": {},
     "output_type": "execute_result"
    }
   ],
   "source": [
    "np.stack(sorted_labels).shape"
   ]
  },
  {
   "cell_type": "code",
   "execution_count": 101,
   "metadata": {},
   "outputs": [],
   "source": [
    "sorted_labels = np.stack(sorted_labels)"
   ]
  },
  {
   "cell_type": "code",
   "execution_count": 102,
   "metadata": {},
   "outputs": [
    {
     "data": {
      "text/plain": [
       "array([[0., 1., 0., ..., 0., 0., 0.],\n",
       "       [0., 1., 0., ..., 0., 0., 0.],\n",
       "       [0., 1., 0., ..., 0., 0., 0.],\n",
       "       ...,\n",
       "       [0., 0., 0., ..., 0., 0., 0.],\n",
       "       [0., 0., 0., ..., 0., 0., 0.],\n",
       "       [0., 0., 0., ..., 0., 0., 0.]])"
      ]
     },
     "execution_count": 102,
     "metadata": {},
     "output_type": "execute_result"
    }
   ],
   "source": [
    "sorted_labels"
   ]
  },
  {
   "cell_type": "code",
   "execution_count": 103,
   "metadata": {},
   "outputs": [
    {
     "data": {
      "text/plain": [
       "array([0., 1., 0., 0., 0., 0., 0., 0., 0., 0., 0., 0., 0., 0., 0.])"
      ]
     },
     "execution_count": 103,
     "metadata": {},
     "output_type": "execute_result"
    }
   ],
   "source": [
    "sorted_labels[0]"
   ]
  },
  {
   "cell_type": "code",
   "execution_count": 104,
   "metadata": {},
   "outputs": [],
   "source": [
    "np.save('sorted_nih_n_hot_encoded_labels.npy', sorted_labels)"
   ]
  },
  {
   "cell_type": "code",
   "execution_count": 105,
   "metadata": {},
   "outputs": [
    {
     "data": {
      "text/plain": [
       "array([[0., 1., 0., ..., 0., 0., 0.],\n",
       "       [0., 1., 0., ..., 0., 0., 0.],\n",
       "       [0., 1., 0., ..., 0., 0., 0.],\n",
       "       ...,\n",
       "       [0., 0., 0., ..., 0., 0., 0.],\n",
       "       [0., 0., 0., ..., 0., 0., 0.],\n",
       "       [0., 0., 0., ..., 0., 0., 0.]])"
      ]
     },
     "execution_count": 105,
     "metadata": {},
     "output_type": "execute_result"
    }
   ],
   "source": [
    "np.load('sorted_nih_n_hot_encoded_labels.npy')"
   ]
  },
  {
   "cell_type": "code",
   "execution_count": 107,
   "metadata": {},
   "outputs": [],
   "source": [
    "label_tensor = torch.tensor(np.load('sorted_nih_n_hot_encoded_labels.npy'))"
   ]
  },
  {
   "cell_type": "code",
   "execution_count": 109,
   "metadata": {},
   "outputs": [
    {
     "data": {
      "text/plain": [
       "torch.Size([112120, 15])"
      ]
     },
     "execution_count": 109,
     "metadata": {},
     "output_type": "execute_result"
    }
   ],
   "source": [
    "label_tensor.shape"
   ]
  },
  {
   "cell_type": "code",
   "execution_count": 110,
   "metadata": {},
   "outputs": [
    {
     "data": {
      "text/plain": [
       "tensor([0., 1., 0., 0., 0., 0., 0., 0., 0., 0., 0., 0., 0., 0., 0.],\n",
       "       dtype=torch.float64)"
      ]
     },
     "execution_count": 110,
     "metadata": {},
     "output_type": "execute_result"
    }
   ],
   "source": [
    "label_tensor[0]"
   ]
  },
  {
   "cell_type": "code",
   "execution_count": null,
   "metadata": {},
   "outputs": [],
   "source": []
  }
 ],
 "metadata": {
  "kernelspec": {
   "display_name": "Python 3",
   "language": "python",
   "name": "python3"
  },
  "language_info": {
   "codemirror_mode": {
    "name": "ipython",
    "version": 3
   },
   "file_extension": ".py",
   "mimetype": "text/x-python",
   "name": "python",
   "nbconvert_exporter": "python",
   "pygments_lexer": "ipython3",
   "version": "3.11.5"
  }
 },
 "nbformat": 4,
 "nbformat_minor": 2
}
