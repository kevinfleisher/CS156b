{
 "cells": [
  {
   "cell_type": "markdown",
   "id": "7be6479b-b617-4fad-a97a-20beabc98bc4",
   "metadata": {},
   "source": [
    "# Imports"
   ]
  },
  {
   "cell_type": "code",
   "execution_count": 85,
   "id": "db2b9d88-943a-4325-a7d6-b7b4c6976771",
   "metadata": {},
   "outputs": [
    {
     "data": {
      "text/html": [
       "<style>\n",
       "        .bk-notebook-logo {\n",
       "            display: block;\n",
       "            width: 20px;\n",
       "            height: 20px;\n",
       "            background-image: url(data:image/png;base64,iVBORw0KGgoAAAANSUhEUgAAABQAAAAUCAYAAACNiR0NAAAABHNCSVQICAgIfAhkiAAAAAlwSFlzAAALEgAACxIB0t1+/AAAABx0RVh0U29mdHdhcmUAQWRvYmUgRmlyZXdvcmtzIENTNui8sowAAAOkSURBVDiNjZRtaJVlGMd/1/08zzln5zjP1LWcU9N0NkN8m2CYjpgQYQXqSs0I84OLIC0hkEKoPtiH3gmKoiJDU7QpLgoLjLIQCpEsNJ1vqUOdO7ppbuec5+V+rj4ctwzd8IIbbi6u+8f1539dt3A78eXC7QizUF7gyV1fD1Yqg4JWz84yffhm0qkFqBogB9rM8tZdtwVsPUhWhGcFJngGeWrPzHm5oaMmkfEg1usvLFyc8jLRqDOMru7AyC8saQr7GG7f5fvDeH7Ej8CM66nIF+8yngt6HWaKh7k49Soy9nXurCi1o3qUbS3zWfrYeQDTB/Qj6kX6Ybhw4B+bOYoLKCC9H3Nu/leUTZ1JdRWkkn2ldcCamzrcf47KKXdAJllSlxAOkRgyHsGC/zRday5Qld9DyoM4/q/rUoy/CXh3jzOu3bHUVZeU+DEn8FInkPBFlu3+nW3Nw0mk6vCDiWg8CeJaxEwuHS3+z5RgY+YBR6V1Z1nxSOfoaPa4LASWxxdNp+VWTk7+4vzaou8v8PN+xo+KY2xsw6une2frhw05CTYOmQvsEhjhWjn0bmXPjpE1+kplmmkP3suftwTubK9Vq22qKmrBhpY4jvd5afdRA3wGjFAgcnTK2s4hY0/GPNIb0nErGMCRxWOOX64Z8RAC4oCXdklmEvcL8o0BfkNK4lUg9HTl+oPlQxdNo3Mg4Nv175e/1LDGzZen30MEjRUtmXSfiTVu1kK8W4txyV6BMKlbgk3lMwYCiusNy9fVfvvwMxv8Ynl6vxoByANLTWplvuj/nF9m2+PDtt1eiHPBr1oIfhCChQMBw6Aw0UulqTKZdfVvfG7VcfIqLG9bcldL/+pdWTLxLUy8Qq38heUIjh4XlzZxzQm19lLFlr8vdQ97rjZVOLf8nclzckbcD4wxXMidpX30sFd37Fv/GtwwhzhxGVAprjbg0gCAEeIgwCZyTV2Z1REEW8O4py0wsjeloKoMr6iCY6dP92H6Vw/oTyICIthibxjm/DfN9lVz8IqtqKYLUXfoKVMVQVVJOElGjrnnUt9T9wbgp8AyYKaGlqingHZU/uG2NTZSVqwHQTWkx9hxjkpWDaCg6Ckj5qebgBVbT3V3NNXMSiWSDdGV3hrtzla7J+duwPOToIg42ChPQOQjspnSlp1V+Gjdged7+8UN5CRAV7a5EdFNwCjEaBR27b3W890TE7g24NAP/mMDXRWrGoFPQI9ls/MWO2dWFAar/xcOIImbbpA3zgAAAABJRU5ErkJggg==);\n",
       "        }\n",
       "    </style>\n",
       "    <div>\n",
       "        <a href=\"https://bokeh.org\" target=\"_blank\" class=\"bk-notebook-logo\"></a>\n",
       "        <span id=\"e8258639-01f6-41ff-9997-d2bdb7bfe594\">Loading BokehJS ...</span>\n",
       "    </div>\n"
      ]
     },
     "metadata": {},
     "output_type": "display_data"
    },
    {
     "data": {
      "application/javascript": [
       "(function(root) {\n",
       "  function now() {\n",
       "    return new Date();\n",
       "  }\n",
       "\n",
       "  const force = true;\n",
       "\n",
       "  if (typeof root._bokeh_onload_callbacks === \"undefined\" || force === true) {\n",
       "    root._bokeh_onload_callbacks = [];\n",
       "    root._bokeh_is_loading = undefined;\n",
       "  }\n",
       "\n",
       "const JS_MIME_TYPE = 'application/javascript';\n",
       "  const HTML_MIME_TYPE = 'text/html';\n",
       "  const EXEC_MIME_TYPE = 'application/vnd.bokehjs_exec.v0+json';\n",
       "  const CLASS_NAME = 'output_bokeh rendered_html';\n",
       "\n",
       "  /**\n",
       "   * Render data to the DOM node\n",
       "   */\n",
       "  function render(props, node) {\n",
       "    const script = document.createElement(\"script\");\n",
       "    node.appendChild(script);\n",
       "  }\n",
       "\n",
       "  /**\n",
       "   * Handle when an output is cleared or removed\n",
       "   */\n",
       "  function handleClearOutput(event, handle) {\n",
       "    const cell = handle.cell;\n",
       "\n",
       "    const id = cell.output_area._bokeh_element_id;\n",
       "    const server_id = cell.output_area._bokeh_server_id;\n",
       "    // Clean up Bokeh references\n",
       "    if (id != null && id in Bokeh.index) {\n",
       "      Bokeh.index[id].model.document.clear();\n",
       "      delete Bokeh.index[id];\n",
       "    }\n",
       "\n",
       "    if (server_id !== undefined) {\n",
       "      // Clean up Bokeh references\n",
       "      const cmd_clean = \"from bokeh.io.state import curstate; print(curstate().uuid_to_server['\" + server_id + \"'].get_sessions()[0].document.roots[0]._id)\";\n",
       "      cell.notebook.kernel.execute(cmd_clean, {\n",
       "        iopub: {\n",
       "          output: function(msg) {\n",
       "            const id = msg.content.text.trim();\n",
       "            if (id in Bokeh.index) {\n",
       "              Bokeh.index[id].model.document.clear();\n",
       "              delete Bokeh.index[id];\n",
       "            }\n",
       "          }\n",
       "        }\n",
       "      });\n",
       "      // Destroy server and session\n",
       "      const cmd_destroy = \"import bokeh.io.notebook as ion; ion.destroy_server('\" + server_id + \"')\";\n",
       "      cell.notebook.kernel.execute(cmd_destroy);\n",
       "    }\n",
       "  }\n",
       "\n",
       "  /**\n",
       "   * Handle when a new output is added\n",
       "   */\n",
       "  function handleAddOutput(event, handle) {\n",
       "    const output_area = handle.output_area;\n",
       "    const output = handle.output;\n",
       "\n",
       "    // limit handleAddOutput to display_data with EXEC_MIME_TYPE content only\n",
       "    if ((output.output_type != \"display_data\") || (!Object.prototype.hasOwnProperty.call(output.data, EXEC_MIME_TYPE))) {\n",
       "      return\n",
       "    }\n",
       "\n",
       "    const toinsert = output_area.element.find(\".\" + CLASS_NAME.split(' ')[0]);\n",
       "\n",
       "    if (output.metadata[EXEC_MIME_TYPE][\"id\"] !== undefined) {\n",
       "      toinsert[toinsert.length - 1].firstChild.textContent = output.data[JS_MIME_TYPE];\n",
       "      // store reference to embed id on output_area\n",
       "      output_area._bokeh_element_id = output.metadata[EXEC_MIME_TYPE][\"id\"];\n",
       "    }\n",
       "    if (output.metadata[EXEC_MIME_TYPE][\"server_id\"] !== undefined) {\n",
       "      const bk_div = document.createElement(\"div\");\n",
       "      bk_div.innerHTML = output.data[HTML_MIME_TYPE];\n",
       "      const script_attrs = bk_div.children[0].attributes;\n",
       "      for (let i = 0; i < script_attrs.length; i++) {\n",
       "        toinsert[toinsert.length - 1].firstChild.setAttribute(script_attrs[i].name, script_attrs[i].value);\n",
       "        toinsert[toinsert.length - 1].firstChild.textContent = bk_div.children[0].textContent\n",
       "      }\n",
       "      // store reference to server id on output_area\n",
       "      output_area._bokeh_server_id = output.metadata[EXEC_MIME_TYPE][\"server_id\"];\n",
       "    }\n",
       "  }\n",
       "\n",
       "  function register_renderer(events, OutputArea) {\n",
       "\n",
       "    function append_mime(data, metadata, element) {\n",
       "      // create a DOM node to render to\n",
       "      const toinsert = this.create_output_subarea(\n",
       "        metadata,\n",
       "        CLASS_NAME,\n",
       "        EXEC_MIME_TYPE\n",
       "      );\n",
       "      this.keyboard_manager.register_events(toinsert);\n",
       "      // Render to node\n",
       "      const props = {data: data, metadata: metadata[EXEC_MIME_TYPE]};\n",
       "      render(props, toinsert[toinsert.length - 1]);\n",
       "      element.append(toinsert);\n",
       "      return toinsert\n",
       "    }\n",
       "\n",
       "    /* Handle when an output is cleared or removed */\n",
       "    events.on('clear_output.CodeCell', handleClearOutput);\n",
       "    events.on('delete.Cell', handleClearOutput);\n",
       "\n",
       "    /* Handle when a new output is added */\n",
       "    events.on('output_added.OutputArea', handleAddOutput);\n",
       "\n",
       "    /**\n",
       "     * Register the mime type and append_mime function with output_area\n",
       "     */\n",
       "    OutputArea.prototype.register_mime_type(EXEC_MIME_TYPE, append_mime, {\n",
       "      /* Is output safe? */\n",
       "      safe: true,\n",
       "      /* Index of renderer in `output_area.display_order` */\n",
       "      index: 0\n",
       "    });\n",
       "  }\n",
       "\n",
       "  // register the mime type if in Jupyter Notebook environment and previously unregistered\n",
       "  if (root.Jupyter !== undefined) {\n",
       "    const events = require('base/js/events');\n",
       "    const OutputArea = require('notebook/js/outputarea').OutputArea;\n",
       "\n",
       "    if (OutputArea.prototype.mime_types().indexOf(EXEC_MIME_TYPE) == -1) {\n",
       "      register_renderer(events, OutputArea);\n",
       "    }\n",
       "  }\n",
       "  if (typeof (root._bokeh_timeout) === \"undefined\" || force === true) {\n",
       "    root._bokeh_timeout = Date.now() + 5000;\n",
       "    root._bokeh_failed_load = false;\n",
       "  }\n",
       "\n",
       "  const NB_LOAD_WARNING = {'data': {'text/html':\n",
       "     \"<div style='background-color: #fdd'>\\n\"+\n",
       "     \"<p>\\n\"+\n",
       "     \"BokehJS does not appear to have successfully loaded. If loading BokehJS from CDN, this \\n\"+\n",
       "     \"may be due to a slow or bad network connection. Possible fixes:\\n\"+\n",
       "     \"</p>\\n\"+\n",
       "     \"<ul>\\n\"+\n",
       "     \"<li>re-rerun `output_notebook()` to attempt to load from CDN again, or</li>\\n\"+\n",
       "     \"<li>use INLINE resources instead, as so:</li>\\n\"+\n",
       "     \"</ul>\\n\"+\n",
       "     \"<code>\\n\"+\n",
       "     \"from bokeh.resources import INLINE\\n\"+\n",
       "     \"output_notebook(resources=INLINE)\\n\"+\n",
       "     \"</code>\\n\"+\n",
       "     \"</div>\"}};\n",
       "\n",
       "  function display_loaded() {\n",
       "    const el = document.getElementById(\"e8258639-01f6-41ff-9997-d2bdb7bfe594\");\n",
       "    if (el != null) {\n",
       "      el.textContent = \"BokehJS is loading...\";\n",
       "    }\n",
       "    if (root.Bokeh !== undefined) {\n",
       "      if (el != null) {\n",
       "        el.textContent = \"BokehJS \" + root.Bokeh.version + \" successfully loaded.\";\n",
       "      }\n",
       "    } else if (Date.now() < root._bokeh_timeout) {\n",
       "      setTimeout(display_loaded, 100)\n",
       "    }\n",
       "  }\n",
       "\n",
       "  function run_callbacks() {\n",
       "    try {\n",
       "      root._bokeh_onload_callbacks.forEach(function(callback) {\n",
       "        if (callback != null)\n",
       "          callback();\n",
       "      });\n",
       "    } finally {\n",
       "      delete root._bokeh_onload_callbacks\n",
       "    }\n",
       "    console.debug(\"Bokeh: all callbacks have finished\");\n",
       "  }\n",
       "\n",
       "  function load_libs(css_urls, js_urls, callback) {\n",
       "    if (css_urls == null) css_urls = [];\n",
       "    if (js_urls == null) js_urls = [];\n",
       "\n",
       "    root._bokeh_onload_callbacks.push(callback);\n",
       "    if (root._bokeh_is_loading > 0) {\n",
       "      console.debug(\"Bokeh: BokehJS is being loaded, scheduling callback at\", now());\n",
       "      return null;\n",
       "    }\n",
       "    if (js_urls == null || js_urls.length === 0) {\n",
       "      run_callbacks();\n",
       "      return null;\n",
       "    }\n",
       "    console.debug(\"Bokeh: BokehJS not loaded, scheduling load and callback at\", now());\n",
       "    root._bokeh_is_loading = css_urls.length + js_urls.length;\n",
       "\n",
       "    function on_load() {\n",
       "      root._bokeh_is_loading--;\n",
       "      if (root._bokeh_is_loading === 0) {\n",
       "        console.debug(\"Bokeh: all BokehJS libraries/stylesheets loaded\");\n",
       "        run_callbacks()\n",
       "      }\n",
       "    }\n",
       "\n",
       "    function on_error(url) {\n",
       "      console.error(\"failed to load \" + url);\n",
       "    }\n",
       "\n",
       "    for (let i = 0; i < css_urls.length; i++) {\n",
       "      const url = css_urls[i];\n",
       "      const element = document.createElement(\"link\");\n",
       "      element.onload = on_load;\n",
       "      element.onerror = on_error.bind(null, url);\n",
       "      element.rel = \"stylesheet\";\n",
       "      element.type = \"text/css\";\n",
       "      element.href = url;\n",
       "      console.debug(\"Bokeh: injecting link tag for BokehJS stylesheet: \", url);\n",
       "      document.body.appendChild(element);\n",
       "    }\n",
       "\n",
       "    for (let i = 0; i < js_urls.length; i++) {\n",
       "      const url = js_urls[i];\n",
       "      const element = document.createElement('script');\n",
       "      element.onload = on_load;\n",
       "      element.onerror = on_error.bind(null, url);\n",
       "      element.async = false;\n",
       "      element.src = url;\n",
       "      console.debug(\"Bokeh: injecting script tag for BokehJS library: \", url);\n",
       "      document.head.appendChild(element);\n",
       "    }\n",
       "  };\n",
       "\n",
       "  function inject_raw_css(css) {\n",
       "    const element = document.createElement(\"style\");\n",
       "    element.appendChild(document.createTextNode(css));\n",
       "    document.body.appendChild(element);\n",
       "  }\n",
       "\n",
       "  const js_urls = [\"https://cdn.bokeh.org/bokeh/release/bokeh-3.2.2.min.js\", \"https://cdn.bokeh.org/bokeh/release/bokeh-gl-3.2.2.min.js\", \"https://cdn.bokeh.org/bokeh/release/bokeh-widgets-3.2.2.min.js\", \"https://cdn.bokeh.org/bokeh/release/bokeh-tables-3.2.2.min.js\", \"https://cdn.bokeh.org/bokeh/release/bokeh-mathjax-3.2.2.min.js\"];\n",
       "  const css_urls = [];\n",
       "\n",
       "  const inline_js = [    function(Bokeh) {\n",
       "      Bokeh.set_log_level(\"info\");\n",
       "    },\n",
       "function(Bokeh) {\n",
       "    }\n",
       "  ];\n",
       "\n",
       "  function run_inline_js() {\n",
       "    if (root.Bokeh !== undefined || force === true) {\n",
       "          for (let i = 0; i < inline_js.length; i++) {\n",
       "      inline_js[i].call(root, root.Bokeh);\n",
       "    }\n",
       "if (force === true) {\n",
       "        display_loaded();\n",
       "      }} else if (Date.now() < root._bokeh_timeout) {\n",
       "      setTimeout(run_inline_js, 100);\n",
       "    } else if (!root._bokeh_failed_load) {\n",
       "      console.log(\"Bokeh: BokehJS failed to load within specified timeout.\");\n",
       "      root._bokeh_failed_load = true;\n",
       "    } else if (force !== true) {\n",
       "      const cell = $(document.getElementById(\"e8258639-01f6-41ff-9997-d2bdb7bfe594\")).parents('.cell').data().cell;\n",
       "      cell.output_area.append_execute_result(NB_LOAD_WARNING)\n",
       "    }\n",
       "  }\n",
       "\n",
       "  if (root._bokeh_is_loading === 0) {\n",
       "    console.debug(\"Bokeh: BokehJS loaded, going straight to plotting\");\n",
       "    run_inline_js();\n",
       "  } else {\n",
       "    load_libs(css_urls, js_urls, function() {\n",
       "      console.debug(\"Bokeh: BokehJS plotting callback run at\", now());\n",
       "      run_inline_js();\n",
       "    });\n",
       "  }\n",
       "}(window));"
      ],
      "application/vnd.bokehjs_load.v0+json": "(function(root) {\n  function now() {\n    return new Date();\n  }\n\n  const force = true;\n\n  if (typeof root._bokeh_onload_callbacks === \"undefined\" || force === true) {\n    root._bokeh_onload_callbacks = [];\n    root._bokeh_is_loading = undefined;\n  }\n\n\n  if (typeof (root._bokeh_timeout) === \"undefined\" || force === true) {\n    root._bokeh_timeout = Date.now() + 5000;\n    root._bokeh_failed_load = false;\n  }\n\n  const NB_LOAD_WARNING = {'data': {'text/html':\n     \"<div style='background-color: #fdd'>\\n\"+\n     \"<p>\\n\"+\n     \"BokehJS does not appear to have successfully loaded. If loading BokehJS from CDN, this \\n\"+\n     \"may be due to a slow or bad network connection. Possible fixes:\\n\"+\n     \"</p>\\n\"+\n     \"<ul>\\n\"+\n     \"<li>re-rerun `output_notebook()` to attempt to load from CDN again, or</li>\\n\"+\n     \"<li>use INLINE resources instead, as so:</li>\\n\"+\n     \"</ul>\\n\"+\n     \"<code>\\n\"+\n     \"from bokeh.resources import INLINE\\n\"+\n     \"output_notebook(resources=INLINE)\\n\"+\n     \"</code>\\n\"+\n     \"</div>\"}};\n\n  function display_loaded() {\n    const el = document.getElementById(\"e8258639-01f6-41ff-9997-d2bdb7bfe594\");\n    if (el != null) {\n      el.textContent = \"BokehJS is loading...\";\n    }\n    if (root.Bokeh !== undefined) {\n      if (el != null) {\n        el.textContent = \"BokehJS \" + root.Bokeh.version + \" successfully loaded.\";\n      }\n    } else if (Date.now() < root._bokeh_timeout) {\n      setTimeout(display_loaded, 100)\n    }\n  }\n\n  function run_callbacks() {\n    try {\n      root._bokeh_onload_callbacks.forEach(function(callback) {\n        if (callback != null)\n          callback();\n      });\n    } finally {\n      delete root._bokeh_onload_callbacks\n    }\n    console.debug(\"Bokeh: all callbacks have finished\");\n  }\n\n  function load_libs(css_urls, js_urls, callback) {\n    if (css_urls == null) css_urls = [];\n    if (js_urls == null) js_urls = [];\n\n    root._bokeh_onload_callbacks.push(callback);\n    if (root._bokeh_is_loading > 0) {\n      console.debug(\"Bokeh: BokehJS is being loaded, scheduling callback at\", now());\n      return null;\n    }\n    if (js_urls == null || js_urls.length === 0) {\n      run_callbacks();\n      return null;\n    }\n    console.debug(\"Bokeh: BokehJS not loaded, scheduling load and callback at\", now());\n    root._bokeh_is_loading = css_urls.length + js_urls.length;\n\n    function on_load() {\n      root._bokeh_is_loading--;\n      if (root._bokeh_is_loading === 0) {\n        console.debug(\"Bokeh: all BokehJS libraries/stylesheets loaded\");\n        run_callbacks()\n      }\n    }\n\n    function on_error(url) {\n      console.error(\"failed to load \" + url);\n    }\n\n    for (let i = 0; i < css_urls.length; i++) {\n      const url = css_urls[i];\n      const element = document.createElement(\"link\");\n      element.onload = on_load;\n      element.onerror = on_error.bind(null, url);\n      element.rel = \"stylesheet\";\n      element.type = \"text/css\";\n      element.href = url;\n      console.debug(\"Bokeh: injecting link tag for BokehJS stylesheet: \", url);\n      document.body.appendChild(element);\n    }\n\n    for (let i = 0; i < js_urls.length; i++) {\n      const url = js_urls[i];\n      const element = document.createElement('script');\n      element.onload = on_load;\n      element.onerror = on_error.bind(null, url);\n      element.async = false;\n      element.src = url;\n      console.debug(\"Bokeh: injecting script tag for BokehJS library: \", url);\n      document.head.appendChild(element);\n    }\n  };\n\n  function inject_raw_css(css) {\n    const element = document.createElement(\"style\");\n    element.appendChild(document.createTextNode(css));\n    document.body.appendChild(element);\n  }\n\n  const js_urls = [\"https://cdn.bokeh.org/bokeh/release/bokeh-3.2.2.min.js\", \"https://cdn.bokeh.org/bokeh/release/bokeh-gl-3.2.2.min.js\", \"https://cdn.bokeh.org/bokeh/release/bokeh-widgets-3.2.2.min.js\", \"https://cdn.bokeh.org/bokeh/release/bokeh-tables-3.2.2.min.js\", \"https://cdn.bokeh.org/bokeh/release/bokeh-mathjax-3.2.2.min.js\"];\n  const css_urls = [];\n\n  const inline_js = [    function(Bokeh) {\n      Bokeh.set_log_level(\"info\");\n    },\nfunction(Bokeh) {\n    }\n  ];\n\n  function run_inline_js() {\n    if (root.Bokeh !== undefined || force === true) {\n          for (let i = 0; i < inline_js.length; i++) {\n      inline_js[i].call(root, root.Bokeh);\n    }\nif (force === true) {\n        display_loaded();\n      }} else if (Date.now() < root._bokeh_timeout) {\n      setTimeout(run_inline_js, 100);\n    } else if (!root._bokeh_failed_load) {\n      console.log(\"Bokeh: BokehJS failed to load within specified timeout.\");\n      root._bokeh_failed_load = true;\n    } else if (force !== true) {\n      const cell = $(document.getElementById(\"e8258639-01f6-41ff-9997-d2bdb7bfe594\")).parents('.cell').data().cell;\n      cell.output_area.append_execute_result(NB_LOAD_WARNING)\n    }\n  }\n\n  if (root._bokeh_is_loading === 0) {\n    console.debug(\"Bokeh: BokehJS loaded, going straight to plotting\");\n    run_inline_js();\n  } else {\n    load_libs(css_urls, js_urls, function() {\n      console.debug(\"Bokeh: BokehJS plotting callback run at\", now());\n      run_inline_js();\n    });\n  }\n}(window));"
     },
     "metadata": {},
     "output_type": "display_data"
    }
   ],
   "source": [
    "import numpy as np\n",
    "import torch\n",
    "import pandas as pd\n",
    "import os\n",
    "\n",
    "from PIL import Image\n",
    "from IPython import display\n",
    "# import torchvision.io\n",
    "\n",
    "import matplotlib.pyplot as plt \n",
    "import iqplot\n",
    "import bokeh.io\n",
    "bokeh.io.output_notebook()"
   ]
  },
  {
   "cell_type": "markdown",
   "id": "318a2e3e-c7d3-4c00-a5eb-fc367ad84d5e",
   "metadata": {},
   "source": [
    "# This notebook\n",
    "\n",
    "will examine the Chexpert train data for CS156b in more detail.\n",
    "\n",
    "After fine tuning the Google Vision Transformer twice now - the first using one train epoch and bilinear resized data, the second using 3 train epochs and bicubic resizing of data - it is apparent that the way I am inputting both the images and the label information is not conducive to achieving an average MSE below one. \n",
    "\n",
    "The best $\\bar{MSE}$ I have achieved so far is a measly 1.29, only .01-.02 different from the average MSE of 1.31 from the first model run.\n",
    "\n",
    "When looking at the results of my model's predictions, there are tons of zeros. It makes me think that leaving `Nan` data entries in the train data, well replacing these values with zeros, is fundamentally limiting the accuracy of the model since there are so may missing points. I am adding bias towards zero in doing this, and it is worthwhile to check and see just how many missing (`Nan`) as well as actual true `0` labels exist in the train data.\n",
    "\n",
    "How to deal with `Nan` data is not entirely clear to me at the moment, and I think it will be worthwhile to hear from other groups during their presentations how they might be dealing with this. At the present moment, the only thing I can think of would be to have a classifier for each class, and run the train and then validation data through each one separately. If you leave in/substitute Nan values for something else, you bias the model performance and make it learn some representative label as a substitute, thereby affecting model weights. This is bad since in the end it is moot/for nothing - any labels that are missing and therefore are represented by Nans in the validate and test data are just not evaluated against your predictions, so it's not like you have to predict that a value is actually missing, which of course just doesn't make sense.\n",
    "\n",
    "The second issue to deal with is the train data itself. The Google ViT takes in images with three channels. Do these three channels need to be identical? Probably not. Therefore, we can leverage different representations of the images in each channel. Ex: one channel could be edge detection/feature map from some CNN pre trained on X-ray data, another could be some fancy interpolation like Lanczos, etc."
   ]
  },
  {
   "cell_type": "markdown",
   "id": "dca965c2-740a-4370-80b1-0f75dc32346c",
   "metadata": {},
   "source": [
    "<hr>"
   ]
  },
  {
   "cell_type": "markdown",
   "id": "559ff0d3-fdfb-4b91-942b-51df5f15cfcd",
   "metadata": {},
   "source": [
    "For now let's just look at the train data distribution more carefully "
   ]
  },
  {
   "cell_type": "code",
   "execution_count": 24,
   "id": "2c8a9ae7-d2ab-4539-94c7-feed85861145",
   "metadata": {},
   "outputs": [],
   "source": [
    "# jpg = Image.open('../Data/view1_frontal.jpg')"
   ]
  },
  {
   "cell_type": "code",
   "execution_count": 25,
   "id": "fccbf410-74d2-4943-8aa7-04094c7e0a32",
   "metadata": {},
   "outputs": [],
   "source": [
    "# jpg"
   ]
  },
  {
   "cell_type": "code",
   "execution_count": 26,
   "id": "f50756a7-2141-45cd-a384-21b265f56884",
   "metadata": {},
   "outputs": [],
   "source": [
    "train = pd.read_csv('../Data/train2023.csv')"
   ]
  },
  {
   "cell_type": "code",
   "execution_count": 27,
   "id": "045155fe-7bb2-47ed-9dd4-ce1afb951941",
   "metadata": {},
   "outputs": [
    {
     "data": {
      "text/html": [
       "<div>\n",
       "<style scoped>\n",
       "    .dataframe tbody tr th:only-of-type {\n",
       "        vertical-align: middle;\n",
       "    }\n",
       "\n",
       "    .dataframe tbody tr th {\n",
       "        vertical-align: top;\n",
       "    }\n",
       "\n",
       "    .dataframe thead th {\n",
       "        text-align: right;\n",
       "    }\n",
       "</style>\n",
       "<table border=\"1\" class=\"dataframe\">\n",
       "  <thead>\n",
       "    <tr style=\"text-align: right;\">\n",
       "      <th></th>\n",
       "      <th>Unnamed: 0.1</th>\n",
       "      <th>Unnamed: 0</th>\n",
       "      <th>Path</th>\n",
       "      <th>Sex</th>\n",
       "      <th>Age</th>\n",
       "      <th>Frontal/Lateral</th>\n",
       "      <th>AP/PA</th>\n",
       "      <th>No Finding</th>\n",
       "      <th>Enlarged Cardiomediastinum</th>\n",
       "      <th>Cardiomegaly</th>\n",
       "      <th>Lung Opacity</th>\n",
       "      <th>Pneumonia</th>\n",
       "      <th>Pleural Effusion</th>\n",
       "      <th>Pleural Other</th>\n",
       "      <th>Fracture</th>\n",
       "      <th>Support Devices</th>\n",
       "    </tr>\n",
       "  </thead>\n",
       "  <tbody>\n",
       "    <tr>\n",
       "      <th>0</th>\n",
       "      <td>0</td>\n",
       "      <td>0</td>\n",
       "      <td>train/pid50512/study1/view1_frontal.jpg</td>\n",
       "      <td>Female</td>\n",
       "      <td>68</td>\n",
       "      <td>Frontal</td>\n",
       "      <td>AP</td>\n",
       "      <td>1.0</td>\n",
       "      <td>NaN</td>\n",
       "      <td>NaN</td>\n",
       "      <td>NaN</td>\n",
       "      <td>NaN</td>\n",
       "      <td>NaN</td>\n",
       "      <td>NaN</td>\n",
       "      <td>NaN</td>\n",
       "      <td>1.0</td>\n",
       "    </tr>\n",
       "    <tr>\n",
       "      <th>1</th>\n",
       "      <td>1</td>\n",
       "      <td>1</td>\n",
       "      <td>train/pid21580/study2/view1_frontal.jpg</td>\n",
       "      <td>Female</td>\n",
       "      <td>87</td>\n",
       "      <td>Frontal</td>\n",
       "      <td>AP</td>\n",
       "      <td>NaN</td>\n",
       "      <td>NaN</td>\n",
       "      <td>0.0</td>\n",
       "      <td>1.0</td>\n",
       "      <td>NaN</td>\n",
       "      <td>0.0</td>\n",
       "      <td>NaN</td>\n",
       "      <td>1.0</td>\n",
       "      <td>NaN</td>\n",
       "    </tr>\n",
       "    <tr>\n",
       "      <th>2</th>\n",
       "      <td>2</td>\n",
       "      <td>2</td>\n",
       "      <td>train/pid21580/study1/view1_frontal.jpg</td>\n",
       "      <td>Female</td>\n",
       "      <td>83</td>\n",
       "      <td>Frontal</td>\n",
       "      <td>AP</td>\n",
       "      <td>NaN</td>\n",
       "      <td>NaN</td>\n",
       "      <td>NaN</td>\n",
       "      <td>1.0</td>\n",
       "      <td>NaN</td>\n",
       "      <td>NaN</td>\n",
       "      <td>NaN</td>\n",
       "      <td>1.0</td>\n",
       "      <td>NaN</td>\n",
       "    </tr>\n",
       "    <tr>\n",
       "      <th>3</th>\n",
       "      <td>3</td>\n",
       "      <td>3</td>\n",
       "      <td>train/pid21580/study1/view2_lateral.jpg</td>\n",
       "      <td>Female</td>\n",
       "      <td>83</td>\n",
       "      <td>Lateral</td>\n",
       "      <td>NaN</td>\n",
       "      <td>NaN</td>\n",
       "      <td>NaN</td>\n",
       "      <td>NaN</td>\n",
       "      <td>1.0</td>\n",
       "      <td>NaN</td>\n",
       "      <td>NaN</td>\n",
       "      <td>NaN</td>\n",
       "      <td>1.0</td>\n",
       "      <td>NaN</td>\n",
       "    </tr>\n",
       "    <tr>\n",
       "      <th>4</th>\n",
       "      <td>4</td>\n",
       "      <td>4</td>\n",
       "      <td>train/pid33839/study1/view1_frontal.jpg</td>\n",
       "      <td>Male</td>\n",
       "      <td>41</td>\n",
       "      <td>Frontal</td>\n",
       "      <td>AP</td>\n",
       "      <td>NaN</td>\n",
       "      <td>NaN</td>\n",
       "      <td>NaN</td>\n",
       "      <td>NaN</td>\n",
       "      <td>NaN</td>\n",
       "      <td>NaN</td>\n",
       "      <td>NaN</td>\n",
       "      <td>NaN</td>\n",
       "      <td>NaN</td>\n",
       "    </tr>\n",
       "    <tr>\n",
       "      <th>...</th>\n",
       "      <td>...</td>\n",
       "      <td>...</td>\n",
       "      <td>...</td>\n",
       "      <td>...</td>\n",
       "      <td>...</td>\n",
       "      <td>...</td>\n",
       "      <td>...</td>\n",
       "      <td>...</td>\n",
       "      <td>...</td>\n",
       "      <td>...</td>\n",
       "      <td>...</td>\n",
       "      <td>...</td>\n",
       "      <td>...</td>\n",
       "      <td>...</td>\n",
       "      <td>...</td>\n",
       "      <td>...</td>\n",
       "    </tr>\n",
       "    <tr>\n",
       "      <th>178153</th>\n",
       "      <td>178153</td>\n",
       "      <td>223409</td>\n",
       "      <td>train/pid16708/study2/view1_frontal.jpg</td>\n",
       "      <td>Male</td>\n",
       "      <td>59</td>\n",
       "      <td>Frontal</td>\n",
       "      <td>AP</td>\n",
       "      <td>NaN</td>\n",
       "      <td>NaN</td>\n",
       "      <td>NaN</td>\n",
       "      <td>0.0</td>\n",
       "      <td>NaN</td>\n",
       "      <td>1.0</td>\n",
       "      <td>NaN</td>\n",
       "      <td>NaN</td>\n",
       "      <td>NaN</td>\n",
       "    </tr>\n",
       "    <tr>\n",
       "      <th>178154</th>\n",
       "      <td>178154</td>\n",
       "      <td>223410</td>\n",
       "      <td>train/pid16708/study1/view1_frontal.jpg</td>\n",
       "      <td>Male</td>\n",
       "      <td>59</td>\n",
       "      <td>Frontal</td>\n",
       "      <td>AP</td>\n",
       "      <td>NaN</td>\n",
       "      <td>NaN</td>\n",
       "      <td>NaN</td>\n",
       "      <td>0.0</td>\n",
       "      <td>-1.0</td>\n",
       "      <td>0.0</td>\n",
       "      <td>NaN</td>\n",
       "      <td>NaN</td>\n",
       "      <td>NaN</td>\n",
       "    </tr>\n",
       "    <tr>\n",
       "      <th>178155</th>\n",
       "      <td>178155</td>\n",
       "      <td>223411</td>\n",
       "      <td>train/pid32381/study1/view1_frontal.jpg</td>\n",
       "      <td>Female</td>\n",
       "      <td>0</td>\n",
       "      <td>Frontal</td>\n",
       "      <td>AP</td>\n",
       "      <td>NaN</td>\n",
       "      <td>NaN</td>\n",
       "      <td>NaN</td>\n",
       "      <td>NaN</td>\n",
       "      <td>NaN</td>\n",
       "      <td>NaN</td>\n",
       "      <td>NaN</td>\n",
       "      <td>NaN</td>\n",
       "      <td>NaN</td>\n",
       "    </tr>\n",
       "    <tr>\n",
       "      <th>178156</th>\n",
       "      <td>178156</td>\n",
       "      <td>223412</td>\n",
       "      <td>train/pid25865/study1/view1_frontal.jpg</td>\n",
       "      <td>Female</td>\n",
       "      <td>0</td>\n",
       "      <td>Frontal</td>\n",
       "      <td>AP</td>\n",
       "      <td>NaN</td>\n",
       "      <td>NaN</td>\n",
       "      <td>1.0</td>\n",
       "      <td>1.0</td>\n",
       "      <td>0.0</td>\n",
       "      <td>NaN</td>\n",
       "      <td>NaN</td>\n",
       "      <td>NaN</td>\n",
       "      <td>-1.0</td>\n",
       "    </tr>\n",
       "    <tr>\n",
       "      <th>178157</th>\n",
       "      <td>178157</td>\n",
       "      <td>223413</td>\n",
       "      <td>CheXpert-v1.0/train/patient64540/study1/view1_...</td>\n",
       "      <td>Female</td>\n",
       "      <td>0</td>\n",
       "      <td>Frontal</td>\n",
       "      <td>AP</td>\n",
       "      <td>1.0</td>\n",
       "      <td>NaN</td>\n",
       "      <td>NaN</td>\n",
       "      <td>NaN</td>\n",
       "      <td>NaN</td>\n",
       "      <td>NaN</td>\n",
       "      <td>NaN</td>\n",
       "      <td>NaN</td>\n",
       "      <td>NaN</td>\n",
       "    </tr>\n",
       "  </tbody>\n",
       "</table>\n",
       "<p>178158 rows × 16 columns</p>\n",
       "</div>"
      ],
      "text/plain": [
       "        Unnamed: 0.1  Unnamed: 0  \\\n",
       "0                  0           0   \n",
       "1                  1           1   \n",
       "2                  2           2   \n",
       "3                  3           3   \n",
       "4                  4           4   \n",
       "...              ...         ...   \n",
       "178153        178153      223409   \n",
       "178154        178154      223410   \n",
       "178155        178155      223411   \n",
       "178156        178156      223412   \n",
       "178157        178157      223413   \n",
       "\n",
       "                                                     Path     Sex  Age  \\\n",
       "0                 train/pid50512/study1/view1_frontal.jpg  Female   68   \n",
       "1                 train/pid21580/study2/view1_frontal.jpg  Female   87   \n",
       "2                 train/pid21580/study1/view1_frontal.jpg  Female   83   \n",
       "3                 train/pid21580/study1/view2_lateral.jpg  Female   83   \n",
       "4                 train/pid33839/study1/view1_frontal.jpg    Male   41   \n",
       "...                                                   ...     ...  ...   \n",
       "178153            train/pid16708/study2/view1_frontal.jpg    Male   59   \n",
       "178154            train/pid16708/study1/view1_frontal.jpg    Male   59   \n",
       "178155            train/pid32381/study1/view1_frontal.jpg  Female    0   \n",
       "178156            train/pid25865/study1/view1_frontal.jpg  Female    0   \n",
       "178157  CheXpert-v1.0/train/patient64540/study1/view1_...  Female    0   \n",
       "\n",
       "       Frontal/Lateral AP/PA  No Finding  Enlarged Cardiomediastinum  \\\n",
       "0              Frontal    AP         1.0                         NaN   \n",
       "1              Frontal    AP         NaN                         NaN   \n",
       "2              Frontal    AP         NaN                         NaN   \n",
       "3              Lateral   NaN         NaN                         NaN   \n",
       "4              Frontal    AP         NaN                         NaN   \n",
       "...                ...   ...         ...                         ...   \n",
       "178153         Frontal    AP         NaN                         NaN   \n",
       "178154         Frontal    AP         NaN                         NaN   \n",
       "178155         Frontal    AP         NaN                         NaN   \n",
       "178156         Frontal    AP         NaN                         NaN   \n",
       "178157         Frontal    AP         1.0                         NaN   \n",
       "\n",
       "        Cardiomegaly  Lung Opacity  Pneumonia  Pleural Effusion  \\\n",
       "0                NaN           NaN        NaN               NaN   \n",
       "1                0.0           1.0        NaN               0.0   \n",
       "2                NaN           1.0        NaN               NaN   \n",
       "3                NaN           1.0        NaN               NaN   \n",
       "4                NaN           NaN        NaN               NaN   \n",
       "...              ...           ...        ...               ...   \n",
       "178153           NaN           0.0        NaN               1.0   \n",
       "178154           NaN           0.0       -1.0               0.0   \n",
       "178155           NaN           NaN        NaN               NaN   \n",
       "178156           1.0           1.0        0.0               NaN   \n",
       "178157           NaN           NaN        NaN               NaN   \n",
       "\n",
       "        Pleural Other  Fracture  Support Devices  \n",
       "0                 NaN       NaN              1.0  \n",
       "1                 NaN       1.0              NaN  \n",
       "2                 NaN       1.0              NaN  \n",
       "3                 NaN       1.0              NaN  \n",
       "4                 NaN       NaN              NaN  \n",
       "...               ...       ...              ...  \n",
       "178153            NaN       NaN              NaN  \n",
       "178154            NaN       NaN              NaN  \n",
       "178155            NaN       NaN              NaN  \n",
       "178156            NaN       NaN             -1.0  \n",
       "178157            NaN       NaN              NaN  \n",
       "\n",
       "[178158 rows x 16 columns]"
      ]
     },
     "execution_count": 27,
     "metadata": {},
     "output_type": "execute_result"
    }
   ],
   "source": [
    "train"
   ]
  },
  {
   "cell_type": "code",
   "execution_count": 34,
   "id": "2f7b26fb-754e-4138-99aa-2cb58dc47f92",
   "metadata": {},
   "outputs": [
    {
     "data": {
      "text/plain": [
       "Index(['No Finding', 'Enlarged Cardiomediastinum', 'Cardiomegaly',\n",
       "       'Lung Opacity', 'Pneumonia', 'Pleural Effusion', 'Pleural Other',\n",
       "       'Fracture', 'Support Devices'],\n",
       "      dtype='object')"
      ]
     },
     "execution_count": 34,
     "metadata": {},
     "output_type": "execute_result"
    }
   ],
   "source": [
    "train.columns[7:]"
   ]
  },
  {
   "cell_type": "code",
   "execution_count": 35,
   "id": "1e2c1ccb-f487-4398-b5a7-20dfacedb17f",
   "metadata": {},
   "outputs": [
    {
     "data": {
      "text/plain": [
       "['Cardiomegaly',\n",
       " 'Enlarged Cardiomediastinum',\n",
       " 'Fracture',\n",
       " 'Lung Opacity',\n",
       " 'No Finding',\n",
       " 'Pleural Effusion',\n",
       " 'Pleural Other',\n",
       " 'Pneumonia',\n",
       " 'Support Devices']"
      ]
     },
     "execution_count": 35,
     "metadata": {},
     "output_type": "execute_result"
    }
   ],
   "source": [
    "classes = sorted(train.columns[7:])\n",
    "\n",
    "classes"
   ]
  },
  {
   "cell_type": "code",
   "execution_count": 38,
   "id": "c41756c1-17ab-493c-9706-a1a42e84a3df",
   "metadata": {},
   "outputs": [
    {
     "data": {
      "text/plain": [
       "(178158, 9)"
      ]
     },
     "execution_count": 38,
     "metadata": {},
     "output_type": "execute_result"
    }
   ],
   "source": [
    "train[classes].values.shape"
   ]
  },
  {
   "cell_type": "code",
   "execution_count": 40,
   "id": "beb77b9d-2354-41c8-96dd-c33958de2876",
   "metadata": {},
   "outputs": [
    {
     "data": {
      "text/plain": [
       "array([[nan, nan, nan, ..., nan, nan,  1.],\n",
       "       [ 0., nan,  1., ..., nan, nan, nan],\n",
       "       [nan, nan,  1., ..., nan, nan, nan],\n",
       "       ...,\n",
       "       [nan, nan, nan, ..., nan, nan, nan],\n",
       "       [ 1., nan, nan, ..., nan,  0., -1.],\n",
       "       [nan, nan, nan, ..., nan, nan, nan]])"
      ]
     },
     "execution_count": 40,
     "metadata": {},
     "output_type": "execute_result"
    }
   ],
   "source": [
    "train[classes].values"
   ]
  },
  {
   "cell_type": "code",
   "execution_count": 47,
   "id": "c6587df2-43ca-4716-890c-17b340f6b5e3",
   "metadata": {},
   "outputs": [
    {
     "data": {
      "text/plain": [
       "numpy.float64"
      ]
     },
     "execution_count": 47,
     "metadata": {},
     "output_type": "execute_result"
    }
   ],
   "source": [
    "type(train[classes].values[0][0])"
   ]
  },
  {
   "cell_type": "code",
   "execution_count": 50,
   "id": "98b2b2a1-8007-410e-b8d9-8d72fd36b67b",
   "metadata": {},
   "outputs": [
    {
     "data": {
      "text/plain": [
       "False"
      ]
     },
     "execution_count": 50,
     "metadata": {},
     "output_type": "execute_result"
    }
   ],
   "source": [
    "train[classes].values[0][0] == np.float64(np.nan)"
   ]
  },
  {
   "cell_type": "code",
   "execution_count": 54,
   "id": "ba782910-bd2b-414d-bdea-9d4a698f71f6",
   "metadata": {},
   "outputs": [
    {
     "data": {
      "text/plain": [
       "True"
      ]
     },
     "execution_count": 54,
     "metadata": {},
     "output_type": "execute_result"
    }
   ],
   "source": [
    "pd.isna(train[classes].values[0][0])"
   ]
  },
  {
   "cell_type": "code",
   "execution_count": 62,
   "id": "eaf5bcfd-7c90-4b9c-89b8-0f381b85c3ad",
   "metadata": {},
   "outputs": [
    {
     "data": {
      "text/plain": [
       "1165050"
      ]
     },
     "execution_count": 62,
     "metadata": {},
     "output_type": "execute_result"
    }
   ],
   "source": [
    "pd.isna(train[classes].values).sum()"
   ]
  },
  {
   "cell_type": "code",
   "execution_count": 65,
   "id": "e0942aea-5ba5-449b-8524-31c30db98b84",
   "metadata": {},
   "outputs": [
    {
     "data": {
      "text/plain": [
       "1603422"
      ]
     },
     "execution_count": 65,
     "metadata": {},
     "output_type": "execute_result"
    }
   ],
   "source": [
    "train[classes].shape[0]*train[classes].shape[1]"
   ]
  },
  {
   "cell_type": "code",
   "execution_count": 66,
   "id": "b67d98c5-1e67-4eff-a8fb-af0ee720a2d1",
   "metadata": {},
   "outputs": [
    {
     "name": "stdout",
     "output_type": "stream",
     "text": [
      "72.66% of the data entries are `Nan`\n"
     ]
    }
   ],
   "source": [
    "print(f'{(1165050/1603422)*100:.2f}% of the data entries are `Nan`')"
   ]
  },
  {
   "cell_type": "markdown",
   "id": "3a09981e-7ed4-434e-a36a-57adf2555fd0",
   "metadata": {},
   "source": [
    "How many data points are left?"
   ]
  },
  {
   "cell_type": "code",
   "execution_count": 76,
   "id": "fb788e35-da14-4f88-8860-8c699dcf6da7",
   "metadata": {},
   "outputs": [
    {
     "data": {
      "text/plain": [
       "448958.0"
      ]
     },
     "execution_count": 76,
     "metadata": {},
     "output_type": "execute_result"
    }
   ],
   "source": [
    "np.round(1603422*.28)"
   ]
  },
  {
   "cell_type": "markdown",
   "id": "c1cf37f0-03ea-4bd5-83ee-d3e406fb9e96",
   "metadata": {},
   "source": [
    "And then how many ground truth entries are zero?"
   ]
  },
  {
   "cell_type": "code",
   "execution_count": 75,
   "id": "ecf67b8d-3368-4b66-85e7-7b500ea0583b",
   "metadata": {},
   "outputs": [
    {
     "data": {
      "text/plain": [
       "60024"
      ]
     },
     "execution_count": 75,
     "metadata": {},
     "output_type": "execute_result"
    }
   ],
   "source": [
    "(train[classes].values == 0).sum()"
   ]
  },
  {
   "cell_type": "code",
   "execution_count": 77,
   "id": "c3070304-549f-4513-80e4-4cf1fb124ad3",
   "metadata": {},
   "outputs": [
    {
     "name": "stdout",
     "output_type": "stream",
     "text": [
      "3.74% of the data entries are zero\n"
     ]
    }
   ],
   "source": [
    "print(f'{(60024/1603422)*100:.2f}% of the data entries are zero')"
   ]
  },
  {
   "cell_type": "code",
   "execution_count": 78,
   "id": "344265a5-1bf8-452f-8ec6-f304f76236c3",
   "metadata": {},
   "outputs": [
    {
     "data": {
      "text/plain": [
       "76.39999999999999"
      ]
     },
     "execution_count": 78,
     "metadata": {},
     "output_type": "execute_result"
    }
   ],
   "source": [
    "72.66 + 3.74"
   ]
  },
  {
   "cell_type": "markdown",
   "id": "102dca64-7da0-47d6-98b0-23d940b722bf",
   "metadata": {},
   "source": [
    "<div class = 'alert alert-warning'>\n",
    "\n",
    "**In total, by making `Nan` values zero, we make 76.4% of the data zero entries, when the actual percentage of ground truth zero values is 3.74%**"
   ]
  },
  {
   "cell_type": "markdown",
   "id": "bc8b3ece-fccf-46aa-8ddc-98768e4bae2e",
   "metadata": {},
   "source": [
    "Amazing then that after making `Nan` values zero that my MSE was still 1.3 "
   ]
  },
  {
   "cell_type": "markdown",
   "id": "deca28e4-562c-41b1-8a91-3539581c446f",
   "metadata": {},
   "source": [
    "On average, how many labels are there per patient?"
   ]
  },
  {
   "cell_type": "code",
   "execution_count": 70,
   "id": "12099d15-9592-4cf6-8600-4b5f0e7a4369",
   "metadata": {},
   "outputs": [
    {
     "data": {
      "text/plain": [
       "(178158, 16)"
      ]
     },
     "execution_count": 70,
     "metadata": {},
     "output_type": "execute_result"
    }
   ],
   "source": [
    "train.shape"
   ]
  },
  {
   "cell_type": "code",
   "execution_count": 71,
   "id": "eb7eff33-cb9d-4d5f-8319-0b3bca6b7868",
   "metadata": {},
   "outputs": [
    {
     "data": {
      "text/plain": [
       "2.519999101920767"
      ]
     },
     "execution_count": 71,
     "metadata": {},
     "output_type": "execute_result"
    }
   ],
   "source": [
    "np.round(1603422*.28) / train.shape[0]"
   ]
  },
  {
   "cell_type": "markdown",
   "id": "2feeb144-4cc1-4693-9a3f-5a7b18c48c8f",
   "metadata": {},
   "source": [
    "<hr>"
   ]
  },
  {
   "cell_type": "markdown",
   "id": "c235c513-b13d-46f1-b22f-5fce5b104e0d",
   "metadata": {},
   "source": [
    "Which columns are mostly filled with `Nan`s?"
   ]
  },
  {
   "cell_type": "code",
   "execution_count": 81,
   "id": "fd0561c6-d66c-4664-bf1c-86bc6ccd8d4c",
   "metadata": {},
   "outputs": [],
   "source": [
    "nan_freq = [pd.isna(train[classes].values[:,i]).sum() for i in range(len(classes))]"
   ]
  },
  {
   "cell_type": "code",
   "execution_count": 82,
   "id": "681a875f-e980-4175-b8cf-ad4948d1d0ed",
   "metadata": {},
   "outputs": [
    {
     "data": {
      "text/plain": [
       "[137250, 139464, 167510, 83394, 159350, 71448, 172721, 156255, 77658]"
      ]
     },
     "execution_count": 82,
     "metadata": {},
     "output_type": "execute_result"
    }
   ],
   "source": [
    "nan_freq"
   ]
  },
  {
   "cell_type": "code",
   "execution_count": 96,
   "id": "7713edb9-ced3-4eb5-a628-9d9a7d9a8bbe",
   "metadata": {},
   "outputs": [
    {
     "data": {
      "text/html": [
       "\n",
       "  <div id=\"f36ba2f1-ed79-4537-af0b-c59295d64976\" data-root-id=\"p1354\" style=\"display: contents;\"></div>\n"
      ]
     },
     "metadata": {},
     "output_type": "display_data"
    },
    {
     "data": {
      "application/javascript": [
       "(function(root) {\n",
       "  function embed_document(root) {\n",
       "  const docs_json = {\"88abdb1a-929e-4c69-b1c0-203f216d7632\":{\"version\":\"3.2.2\",\"title\":\"Bokeh Application\",\"roots\":[{\"type\":\"object\",\"name\":\"Figure\",\"id\":\"p1354\",\"attributes\":{\"height\":500,\"x_range\":{\"type\":\"object\",\"name\":\"FactorRange\",\"id\":\"p1363\",\"attributes\":{\"factors\":[\"Cardiomegaly\",\"Enlarged Cardiomediastinum\",\"Fracture\",\"Lung Opacity\",\"No Finding\",\"Pleural Effusion\",\"Pleural Other\",\"Pneumonia\",\"Support Devices\"]}},\"y_range\":{\"type\":\"object\",\"name\":\"DataRange1d\",\"id\":\"p1356\",\"attributes\":{\"start\":0}},\"x_scale\":{\"type\":\"object\",\"name\":\"CategoricalScale\",\"id\":\"p1364\"},\"y_scale\":{\"type\":\"object\",\"name\":\"LinearScale\",\"id\":\"p1365\"},\"title\":{\"type\":\"object\",\"name\":\"Title\",\"id\":\"p1361\"},\"renderers\":[{\"type\":\"object\",\"name\":\"GlyphRenderer\",\"id\":\"p1389\",\"attributes\":{\"data_source\":{\"type\":\"object\",\"name\":\"ColumnDataSource\",\"id\":\"p1383\",\"attributes\":{\"selected\":{\"type\":\"object\",\"name\":\"Selection\",\"id\":\"p1384\",\"attributes\":{\"indices\":[],\"line_indices\":[]}},\"selection_policy\":{\"type\":\"object\",\"name\":\"UnionRenderers\",\"id\":\"p1385\"},\"data\":{\"type\":\"map\",\"entries\":[[\"x\",[\"Cardiomegaly\",\"Enlarged Cardiomediastinum\",\"Fracture\",\"Lung Opacity\",\"No Finding\",\"Pleural Effusion\",\"Pleural Other\",\"Pneumonia\",\"Support Devices\"]],[\"top\",[137250,139464,167510,83394,159350,71448,172721,156255,77658]]]}}},\"view\":{\"type\":\"object\",\"name\":\"CDSView\",\"id\":\"p1390\",\"attributes\":{\"filter\":{\"type\":\"object\",\"name\":\"AllIndices\",\"id\":\"p1391\"}}},\"glyph\":{\"type\":\"object\",\"name\":\"VBar\",\"id\":\"p1386\",\"attributes\":{\"x\":{\"type\":\"field\",\"field\":\"x\"},\"width\":{\"type\":\"value\",\"value\":0.2},\"top\":{\"type\":\"field\",\"field\":\"top\"},\"line_color\":{\"type\":\"value\",\"value\":\"#1f77b4\"},\"fill_color\":{\"type\":\"value\",\"value\":\"#1f77b4\"}}},\"nonselection_glyph\":{\"type\":\"object\",\"name\":\"VBar\",\"id\":\"p1387\",\"attributes\":{\"x\":{\"type\":\"field\",\"field\":\"x\"},\"width\":{\"type\":\"value\",\"value\":0.2},\"top\":{\"type\":\"field\",\"field\":\"top\"},\"line_color\":{\"type\":\"value\",\"value\":\"#1f77b4\"},\"line_alpha\":{\"type\":\"value\",\"value\":0.1},\"fill_color\":{\"type\":\"value\",\"value\":\"#1f77b4\"},\"fill_alpha\":{\"type\":\"value\",\"value\":0.1},\"hatch_alpha\":{\"type\":\"value\",\"value\":0.1}}},\"muted_glyph\":{\"type\":\"object\",\"name\":\"VBar\",\"id\":\"p1388\",\"attributes\":{\"x\":{\"type\":\"field\",\"field\":\"x\"},\"width\":{\"type\":\"value\",\"value\":0.2},\"top\":{\"type\":\"field\",\"field\":\"top\"},\"line_color\":{\"type\":\"value\",\"value\":\"#1f77b4\"},\"line_alpha\":{\"type\":\"value\",\"value\":0.2},\"fill_color\":{\"type\":\"value\",\"value\":\"#1f77b4\"},\"fill_alpha\":{\"type\":\"value\",\"value\":0.2},\"hatch_alpha\":{\"type\":\"value\",\"value\":0.2}}}}}],\"toolbar\":{\"type\":\"object\",\"name\":\"Toolbar\",\"id\":\"p1362\",\"attributes\":{\"tools\":[{\"type\":\"object\",\"name\":\"PanTool\",\"id\":\"p1376\"},{\"type\":\"object\",\"name\":\"WheelZoomTool\",\"id\":\"p1377\"},{\"type\":\"object\",\"name\":\"BoxZoomTool\",\"id\":\"p1378\",\"attributes\":{\"overlay\":{\"type\":\"object\",\"name\":\"BoxAnnotation\",\"id\":\"p1379\",\"attributes\":{\"syncable\":false,\"level\":\"overlay\",\"visible\":false,\"left_units\":\"canvas\",\"right_units\":\"canvas\",\"bottom_units\":\"canvas\",\"top_units\":\"canvas\",\"line_color\":\"black\",\"line_alpha\":1.0,\"line_width\":2,\"line_dash\":[4,4],\"fill_color\":\"lightgrey\",\"fill_alpha\":0.5}}}},{\"type\":\"object\",\"name\":\"SaveTool\",\"id\":\"p1380\"},{\"type\":\"object\",\"name\":\"ResetTool\",\"id\":\"p1381\"},{\"type\":\"object\",\"name\":\"HelpTool\",\"id\":\"p1382\"}]}},\"left\":[{\"type\":\"object\",\"name\":\"LinearAxis\",\"id\":\"p1371\",\"attributes\":{\"ticker\":{\"type\":\"object\",\"name\":\"BasicTicker\",\"id\":\"p1372\",\"attributes\":{\"mantissas\":[1,2,5]}},\"formatter\":{\"type\":\"object\",\"name\":\"BasicTickFormatter\",\"id\":\"p1373\"},\"axis_label\":\"Frequency of NaN Values\",\"major_label_policy\":{\"type\":\"object\",\"name\":\"AllLabels\",\"id\":\"p1374\"}}}],\"below\":[{\"type\":\"object\",\"name\":\"CategoricalAxis\",\"id\":\"p1366\",\"attributes\":{\"ticker\":{\"type\":\"object\",\"name\":\"CategoricalTicker\",\"id\":\"p1367\"},\"formatter\":{\"type\":\"object\",\"name\":\"CategoricalTickFormatter\",\"id\":\"p1368\"},\"axis_label\":\"Classes\",\"major_label_orientation\":0.7853981633974483,\"major_label_policy\":{\"type\":\"object\",\"name\":\"AllLabels\",\"id\":\"p1369\"}}}],\"center\":[{\"type\":\"object\",\"name\":\"Grid\",\"id\":\"p1370\",\"attributes\":{\"axis\":{\"id\":\"p1366\"},\"grid_line_color\":null}},{\"type\":\"object\",\"name\":\"Grid\",\"id\":\"p1375\",\"attributes\":{\"dimension\":1,\"axis\":{\"id\":\"p1371\"}}}]}}]}};\n",
       "  const render_items = [{\"docid\":\"88abdb1a-929e-4c69-b1c0-203f216d7632\",\"roots\":{\"p1354\":\"f36ba2f1-ed79-4537-af0b-c59295d64976\"},\"root_ids\":[\"p1354\"]}];\n",
       "  root.Bokeh.embed.embed_items_notebook(docs_json, render_items);\n",
       "  }\n",
       "  if (root.Bokeh !== undefined) {\n",
       "    embed_document(root);\n",
       "  } else {\n",
       "    let attempts = 0;\n",
       "    const timer = setInterval(function(root) {\n",
       "      if (root.Bokeh !== undefined) {\n",
       "        clearInterval(timer);\n",
       "        embed_document(root);\n",
       "      } else {\n",
       "        attempts++;\n",
       "        if (attempts > 100) {\n",
       "          clearInterval(timer);\n",
       "          console.log(\"Bokeh: ERROR: Unable to run BokehJS code because BokehJS library is missing\");\n",
       "        }\n",
       "      }\n",
       "    }, 10, root)\n",
       "  }\n",
       "})(window);"
      ],
      "application/vnd.bokehjs_exec.v0+json": ""
     },
     "metadata": {
      "application/vnd.bokehjs_exec.v0+json": {
       "id": "p1354"
      }
     },
     "output_type": "display_data"
    }
   ],
   "source": [
    "p = bokeh.plotting.figure(\n",
    "    x_range=classes, \n",
    "    height=500,\n",
    ")\n",
    "\n",
    "# Add bars to the figure\n",
    "p.vbar(x=classes, top=nan_freq, width=0.2)\n",
    "\n",
    "# Customize the plot\n",
    "p.xgrid.grid_line_color = None\n",
    "p.y_range.start = 0\n",
    "p.xaxis.major_label_orientation = np.pi/4\n",
    "p.xaxis.axis_label = \"Classes\"\n",
    "p.yaxis.axis_label = \"Frequency of NaN Values\"\n",
    "\n",
    "# Show the plot\n",
    "bokeh.io.show(p)"
   ]
  },
  {
   "cell_type": "markdown",
   "id": "7465db2d-9e24-49b1-b72d-e2f8102b22c4",
   "metadata": {},
   "source": [
    "I was hoping that the majority of `Nan` values would belong to only a couple of classes, but they are distributed throughout each class.\n",
    "\n",
    "This makes dealing with the `Nan`s a much more difficult task - you can't just throw out entire classes in the training of the models."
   ]
  },
  {
   "cell_type": "code",
   "execution_count": 97,
   "id": "fa5fd79d-60a6-4040-824c-333f1c77f324",
   "metadata": {},
   "outputs": [
    {
     "data": {
      "text/plain": [
       "87.5"
      ]
     },
     "execution_count": 97,
     "metadata": {},
     "output_type": "execute_result"
    }
   ],
   "source": [
    "50*1.75"
   ]
  },
  {
   "cell_type": "markdown",
   "id": "599801b7-1380-4a22-b484-51581935ccdc",
   "metadata": {},
   "source": [
    "Ways to combat sparse data:\n",
    "\n",
    "- Impute values for Nans or replace with values from another column (don't like this)\n",
    "\n",
    "- Add more examples using GAN so you get more images with real labels (this requires many more tensors, and this places a huge constraint on GPU RAM, since you would have to generate a ton of new examples in order to make up for the 75% missing values. A 75% increase in data would mean you have (50 * 1.75 GB in memory for all the train images).\n",
    "\n",
    "- <div class = 'alert alert-info'> Introduce a fourth N hot encoded OVR array in your training and try to get your model to learn, independently, whether a value is missing or not. There could actually be correlations in the data for what things get tested on a patient during a visit - think about it this way; a doctor likely wouldn't just throw a laundry list of tests at a patient unless they thought it was absolutely necessary)\n",
    "    \n",
    "    \n",
    "**Look at the data - make a correlation matrix between the labels (including Nans) and each class to see if you can figure out which classes get tested/have labels in them/co-occur with one another in the data**"
   ]
  },
  {
   "cell_type": "markdown",
   "id": "f5049e7a-3218-4cf2-9e41-d7d29b5c2956",
   "metadata": {},
   "source": [
    "### Correlation in which pathologies get tested for on each patient"
   ]
  },
  {
   "cell_type": "code",
   "execution_count": 109,
   "id": "5ca87b35-f06a-4642-ac73-8a21ae4d5d2c",
   "metadata": {},
   "outputs": [],
   "source": [
    "label_matrix = train[classes].values"
   ]
  },
  {
   "cell_type": "code",
   "execution_count": 110,
   "id": "4e571bc1-cbd2-4f11-bd14-961cba60809f",
   "metadata": {},
   "outputs": [
    {
     "data": {
      "text/plain": [
       "array([[nan, nan, nan, ..., nan, nan,  1.],\n",
       "       [ 0., nan,  1., ..., nan, nan, nan],\n",
       "       [nan, nan,  1., ..., nan, nan, nan],\n",
       "       ...,\n",
       "       [nan, nan, nan, ..., nan, nan, nan],\n",
       "       [ 1., nan, nan, ..., nan,  0., -1.],\n",
       "       [nan, nan, nan, ..., nan, nan, nan]])"
      ]
     },
     "execution_count": 110,
     "metadata": {},
     "output_type": "execute_result"
    }
   ],
   "source": [
    "label_matrix"
   ]
  },
  {
   "cell_type": "code",
   "execution_count": 111,
   "id": "5984604c-db9d-465e-ab97-0770281c5fb1",
   "metadata": {},
   "outputs": [],
   "source": [
    "# # Replace NaN values with a placeholder value, such as -99\n",
    "# label_matrix[np.isnan(label_matrix)] = -99\n",
    "\n",
    "# # Calculate the Spearman's rank correlation matrix\n",
    "# correlation_matrix = np.corrcoef(label_matrix, rowvar=False)\n",
    "\n",
    "# # Replace NaN values in the correlation matrix with 0 (no correlation)\n",
    "# correlation_matrix[np.isnan(correlation_matrix)] = 0\n",
    "\n",
    "# # Print or visualize the correlation matrix\n",
    "# print(\"Correlation Matrix:\")\n",
    "# print(correlation_matrix)"
   ]
  },
  {
   "cell_type": "code",
   "execution_count": 112,
   "id": "4974613d-18bf-44d7-bb6d-d5e59a7a4565",
   "metadata": {},
   "outputs": [],
   "source": [
    "# correlation_matrix.shape"
   ]
  },
  {
   "cell_type": "code",
   "execution_count": 113,
   "id": "ddb7af07-7a86-453b-94ee-16af0969b043",
   "metadata": {},
   "outputs": [],
   "source": [
    "# plt.imshow(correlation_matrix)"
   ]
  },
  {
   "cell_type": "markdown",
   "id": "36d461cc-56f4-4fc5-9d82-e738605b8a42",
   "metadata": {},
   "source": [
    "The above is not quite what I want...\n",
    "\n",
    "I want to see if a label, any label exists in multiple classes simultaneuosly. Let's go through the label matrix and if a label of +1, 0, or -1 exists, make a new matrix and append that row, column index with a 1. If no label exists, put a zero to encode the Nans. Then compute the covariance matrix"
   ]
  },
  {
   "cell_type": "code",
   "execution_count": 114,
   "id": "c6ef214d-6945-4b7d-a620-8e239ebaa29a",
   "metadata": {},
   "outputs": [
    {
     "data": {
      "text/plain": [
       "(178158, 9)"
      ]
     },
     "execution_count": 114,
     "metadata": {},
     "output_type": "execute_result"
    }
   ],
   "source": [
    "corr_matrix = np.zeros_like(label_matrix)\n",
    "corr_matrix.shape"
   ]
  },
  {
   "cell_type": "code",
   "execution_count": 115,
   "id": "223edf46-bf7f-44e4-b8cb-74ad7b65408d",
   "metadata": {},
   "outputs": [],
   "source": [
    "for i, row in enumerate(label_matrix):\n",
    "    for j, column in enumerate(row):\n",
    "        if column in [-1,0,1]:\n",
    "            corr_matrix[i,j] += 1"
   ]
  },
  {
   "cell_type": "code",
   "execution_count": 116,
   "id": "f0283410-be75-4f05-a5c7-080258fce104",
   "metadata": {},
   "outputs": [
    {
     "data": {
      "text/plain": [
       "array([[0., 0., 0., ..., 0., 0., 1.],\n",
       "       [1., 0., 1., ..., 0., 0., 0.],\n",
       "       [0., 0., 1., ..., 0., 0., 0.],\n",
       "       ...,\n",
       "       [0., 0., 0., ..., 0., 0., 0.],\n",
       "       [1., 0., 0., ..., 0., 1., 1.],\n",
       "       [0., 0., 0., ..., 0., 0., 0.]])"
      ]
     },
     "execution_count": 116,
     "metadata": {},
     "output_type": "execute_result"
    }
   ],
   "source": [
    "corr_matrix"
   ]
  },
  {
   "cell_type": "code",
   "execution_count": 117,
   "id": "4a58c57e-8486-4a52-bd83-d6b9b76d1e89",
   "metadata": {},
   "outputs": [
    {
     "data": {
      "text/plain": [
       "array([[nan, nan, nan, ..., nan, nan,  1.],\n",
       "       [ 0., nan,  1., ..., nan, nan, nan],\n",
       "       [nan, nan,  1., ..., nan, nan, nan],\n",
       "       ...,\n",
       "       [nan, nan, nan, ..., nan, nan, nan],\n",
       "       [ 1., nan, nan, ..., nan,  0., -1.],\n",
       "       [nan, nan, nan, ..., nan, nan, nan]])"
      ]
     },
     "execution_count": 117,
     "metadata": {},
     "output_type": "execute_result"
    }
   ],
   "source": [
    "label_matrix"
   ]
  },
  {
   "cell_type": "code",
   "execution_count": 119,
   "id": "a9cea5b5-2617-41cd-9042-11321db3a535",
   "metadata": {},
   "outputs": [
    {
     "data": {
      "text/plain": [
       "(9, 9)"
      ]
     },
     "execution_count": 119,
     "metadata": {},
     "output_type": "execute_result"
    }
   ],
   "source": [
    "(np.dot(corr_matrix.T, corr_matrix)).shape"
   ]
  },
  {
   "cell_type": "code",
   "execution_count": 120,
   "id": "c7e1c7b0-999c-4baa-bb49-8b9225b4338b",
   "metadata": {},
   "outputs": [
    {
     "data": {
      "text/plain": [
       "<matplotlib.image.AxesImage at 0x7f9250426130>"
      ]
     },
     "execution_count": 120,
     "metadata": {},
     "output_type": "execute_result"
    },
    {
     "data": {
      "image/png": "[encoded data removed]",
      "text/plain": [
       "<Figure size 432x288 with 1 Axes>"
      ]
     },
     "metadata": {
      "needs_background": "light"
     },
     "output_type": "display_data"
    }
   ],
   "source": [
    "plt.imshow((np.dot(corr_matrix.T, corr_matrix)))"
   ]
  },
  {
   "cell_type": "code",
   "execution_count": 121,
   "id": "e52c1ec8-648d-4097-86de-58f135a96dc4",
   "metadata": {},
   "outputs": [],
   "source": [
    "correlation_matrix = np.corrcoef(corr_matrix, rowvar=False)"
   ]
  },
  {
   "cell_type": "code",
   "execution_count": 122,
   "id": "b9fe7f4d-b4d2-46ff-b881-22a324a78698",
   "metadata": {},
   "outputs": [
    {
     "data": {
      "text/plain": [
       "(9, 9)"
      ]
     },
     "execution_count": 122,
     "metadata": {},
     "output_type": "execute_result"
    }
   ],
   "source": [
    "correlation_matrix.shape"
   ]
  },
  {
   "cell_type": "code",
   "execution_count": 123,
   "id": "030258a7-8bd2-448a-8aba-d2321f7230eb",
   "metadata": {},
   "outputs": [
    {
     "data": {
      "text/plain": [
       "<matplotlib.image.AxesImage at 0x7f92a96ffb80>"
      ]
     },
     "execution_count": 123,
     "metadata": {},
     "output_type": "execute_result"
    },
    {
     "data": {
      "image/png": "[encoded data removed]",
      "text/plain": [
       "<Figure size 432x288 with 1 Axes>"
      ]
     },
     "metadata": {
      "needs_background": "light"
     },
     "output_type": "display_data"
    }
   ],
   "source": [
    "plt.imshow(correlation_matrix)"
   ]
  },
  {
   "cell_type": "markdown",
   "id": "92c9c60a-c556-4961-9ec0-62c38accceb1",
   "metadata": {},
   "source": [
    "Another try"
   ]
  },
  {
   "cell_type": "code",
   "execution_count": 124,
   "id": "a30748df-01da-4e42-8dae-505cf1c06dc3",
   "metadata": {},
   "outputs": [
    {
     "data": {
      "text/plain": [
       "array([[nan, nan, nan, ..., nan, nan,  1.],\n",
       "       [ 0., nan,  1., ..., nan, nan, nan],\n",
       "       [nan, nan,  1., ..., nan, nan, nan],\n",
       "       ...,\n",
       "       [nan, nan, nan, ..., nan, nan, nan],\n",
       "       [ 1., nan, nan, ..., nan,  0., -1.],\n",
       "       [nan, nan, nan, ..., nan, nan, nan]])"
      ]
     },
     "execution_count": 124,
     "metadata": {},
     "output_type": "execute_result"
    }
   ],
   "source": [
    "label_matrix"
   ]
  },
  {
   "cell_type": "code",
   "execution_count": 125,
   "id": "5309784c-064f-4d4d-9381-65dc7dca7b7d",
   "metadata": {},
   "outputs": [
    {
     "name": "stdout",
     "output_type": "stream",
     "text": [
      "Covariance Matrix:\n",
      "[[ 1.76893706e-01  2.40362552e-03 -8.36091264e-04 -1.01616511e-02\n",
      "  -2.55743754e-03  1.46984576e-02  1.58049131e-03 -3.92512325e-03\n",
      "  -4.89707951e-03]\n",
      " [ 2.40362552e-03  1.70019026e-01  8.61806726e-03 -1.17745629e-02\n",
      "   1.86302241e-02  2.42243447e-02  2.09445669e-03 -6.51164898e-03\n",
      "  -1.92331386e-02]\n",
      " [-8.36091264e-04  8.61806726e-03  5.61953734e-02 -7.23393624e-03\n",
      "   9.87325847e-04 -5.31977428e-03  9.76924177e-04 -2.97535538e-03\n",
      "  -1.27505564e-02]\n",
      " [-1.01616511e-02 -1.17745629e-02 -7.23393624e-03  2.48983157e-01\n",
      "  -4.35355388e-02  1.86795745e-02  1.76813706e-03  2.99824197e-02\n",
      "   2.14252445e-02]\n",
      " [-2.55743754e-03  1.86302241e-02  9.87325847e-04 -4.35355388e-02\n",
      "   9.44248849e-02 -9.15086586e-03 -3.03092113e-03 -7.23677706e-03\n",
      "  -1.29026981e-02]\n",
      " [ 1.46984576e-02  2.42243447e-02 -5.31977428e-03  1.86795745e-02\n",
      "  -9.15086586e-03  2.40207729e-01  2.66304271e-03 -1.72324434e-02\n",
      "   7.63510158e-03]\n",
      " [ 1.58049131e-03  2.09445669e-03  9.76924177e-04  1.76813706e-03\n",
      "  -3.03092113e-03  2.66304271e-03  2.95866815e-02  3.18496213e-06\n",
      "  -5.41682012e-03]\n",
      " [-3.92512325e-03 -6.51164898e-03 -2.97535538e-03  2.99824197e-02\n",
      "  -7.23677706e-03 -1.72324434e-02  3.18496213e-06  1.07827443e-01\n",
      "  -2.09849409e-02]\n",
      " [-4.89707951e-03 -1.92331386e-02 -1.27505564e-02  2.14252445e-02\n",
      "  -1.29026981e-02  7.63510158e-03 -5.41682012e-03 -2.09849409e-02\n",
      "   2.45891799e-01]]\n"
     ]
    }
   ],
   "source": [
    "# Create a new binary matrix\n",
    "binary_matrix = np.where(np.isnan(label_matrix), 0, 1)\n",
    "\n",
    "# Compute the covariance matrix\n",
    "covariance_matrix = np.cov(binary_matrix, rowvar=False)\n",
    "\n",
    "# Print or visualize the covariance matrix\n",
    "print(\"Covariance Matrix:\")\n",
    "print(covariance_matrix)"
   ]
  },
  {
   "cell_type": "code",
   "execution_count": 128,
   "id": "a461440e-62b6-4f93-aa3a-94af2f53c186",
   "metadata": {},
   "outputs": [
    {
     "data": {
      "text/plain": [
       "True"
      ]
     },
     "execution_count": 128,
     "metadata": {},
     "output_type": "execute_result"
    }
   ],
   "source": [
    "(binary_matrix == corr_matrix).all()"
   ]
  },
  {
   "cell_type": "markdown",
   "id": "7e05029d-ea5e-4ae7-881c-aac94b6736aa",
   "metadata": {},
   "source": [
    "Good"
   ]
  },
  {
   "cell_type": "markdown",
   "id": "58ae5088-5d90-4637-b135-53383b6d1dac",
   "metadata": {},
   "source": [
    "Now plot the covariance map"
   ]
  },
  {
   "cell_type": "markdown",
   "id": "6c0c91ba-a70e-4d5f-86d4-c36c784f0282",
   "metadata": {},
   "source": [
    "<div class = 'alert alert-info'>\n",
    "    \n",
    "$\\hspace{3.9 in}$ $\\huge\\star$\n",
    "\n",
    "**Limitation:**\n",
    "\n",
    "This will only look at the co-occurence between two classes, when in reality 3 or more could co-occur. However, this is really just for proof that it would make sense statistically to have the model try to learn where `Nan` values may exist, as it may be implicit in the data collection."
   ]
  },
  {
   "cell_type": "code",
   "execution_count": 135,
   "id": "9f81ece4-71aa-40f6-ad36-8a5badcd7e56",
   "metadata": {},
   "outputs": [
    {
     "data": {
      "image/png": "[encoded data removed]",
      "text/plain": [
       "<Figure size 720x576 with 2 Axes>"
      ]
     },
     "metadata": {
      "needs_background": "light"
     },
     "output_type": "display_data"
    }
   ],
   "source": [
    "# Create the heatmap\n",
    "plt.figure(figsize=(10, 8))\n",
    "plt.imshow(covariance_matrix, cmap='Reds', interpolation='nearest')\n",
    "\n",
    "# Add colorbar\n",
    "plt.colorbar()\n",
    "\n",
    "# Set ticks and labels for both axes\n",
    "plt.xticks(range(len(classes)), classes, rotation=45, ha='right')\n",
    "plt.yticks(range(len(classes)), classes)\n",
    "\n",
    "# Add labels\n",
    "plt.title('Covariance in co-occuring labels (Nan = 0, [-1,0,1] = 1)')\n",
    "\n",
    "# Show plot\n",
    "plt.show()\n"
   ]
  },
  {
   "cell_type": "markdown",
   "id": "8a3d4b59-0a06-4412-9a3f-df9d5f704aca",
   "metadata": {},
   "source": [
    "Lighter shades along the diagonal means lower variance, ie there may be fewer data points that exist for that class, and the rest of the entries are likely `Nan`s. Especially since you encoded `Nan` as zero and everything else as 1 for creating this matrix, this makes sense. The fact that you have shades of red on off diagonals means there are sufficient data points existing for two classes simultaneously across the patients."
   ]
  },
  {
   "cell_type": "markdown",
   "id": "cbd4bc21-552e-4720-a350-f1c1b8b09534",
   "metadata": {},
   "source": [
    "It looke like **`Pleural Other`** and **`Fracture`** have a lot of `Nan`/missing values - lets check the plot again for missing values (bar plot)"
   ]
  },
  {
   "cell_type": "markdown",
   "id": "9de7246e-b2fe-4bd3-a44e-fbfff3fa8ee4",
   "metadata": {},
   "source": [
    "Indeed, they have more missing values than the other classes "
   ]
  },
  {
   "cell_type": "markdown",
   "id": "52f19c41-d850-4001-8931-a0aa926c3385",
   "metadata": {},
   "source": [
    "$\\checkmark$"
   ]
  },
  {
   "cell_type": "markdown",
   "id": "c03fbf5b-6f7b-425d-8bd1-773f41dc3009",
   "metadata": {},
   "source": [
    "<hr>"
   ]
  },
  {
   "cell_type": "markdown",
   "id": "e6fca60a-768c-4972-a677-2c96802a358a",
   "metadata": {},
   "source": [
    "I think it will be worth a try to have 4 OVR fine tuned models - one for each label, including one to predict missing values.\n",
    "\n",
    "Maybe there are other ways to approach this?"
   ]
  },
  {
   "cell_type": "code",
   "execution_count": null,
   "id": "edadc583-435d-4f60-b422-4360cfe2a5ab",
   "metadata": {},
   "outputs": [],
   "source": []
  }
 ],
 "metadata": {
  "kernelspec": {
   "display_name": "Python 3 (ipykernel)",
   "language": "python",
   "name": "python3"
  },
  "language_info": {
   "codemirror_mode": {
    "name": "ipython",
    "version": 3
   },
   "file_extension": ".py",
   "mimetype": "text/x-python",
   "name": "python",
   "nbconvert_exporter": "python",
   "pygments_lexer": "ipython3",
   "version": "3.9.12"
  }
 },
 "nbformat": 4,
 "nbformat_minor": 5
}
