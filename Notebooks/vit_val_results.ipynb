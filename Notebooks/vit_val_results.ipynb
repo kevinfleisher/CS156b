{
 "cells": [
  {
   "cell_type": "markdown",
   "metadata": {},
   "source": [
    "# Imports"
   ]
  },
  {
   "cell_type": "code",
   "execution_count": 1,
   "metadata": {},
   "outputs": [],
   "source": [
    "import torch\n",
    "import numpy as np\n",
    "import pandas as pd\n",
    "from datasets import Dataset\n",
    "import datasets\n",
    "import scipy.special as sp"
   ]
  },
  {
   "cell_type": "markdown",
   "metadata": {},
   "source": [
    "# In this notebook\n",
    "\n",
    "We will make predicitons on the validation data set for Chexpert using the OVR N hot encoded Google ViT fine tuned models"
   ]
  },
  {
   "cell_type": "markdown",
   "metadata": {},
   "source": [
    "### Load in the raw logits"
   ]
  },
  {
   "cell_type": "code",
   "execution_count": null,
   "metadata": {},
   "outputs": [],
   "source": [
    "logits = torch.load('logits_tensor_bicubic.pth')"
   ]
  },
  {
   "cell_type": "markdown",
   "metadata": {},
   "source": [
    "### Define functions for getting predictions (floating point and discrete preds)"
   ]
  },
  {
   "cell_type": "code",
   "execution_count": null,
   "metadata": {},
   "outputs": [],
   "source": [
    "# Logits need to be stacked into one tensor first, making sure the shape is \n",
    "# something like (N, 3, 9) for N images\n",
    "\n",
    "# Get column wise softmax - ie each row entry for each column\n",
    "probs = np.array([sp.softmax(logits_tensor, axis=0) for logits_tensor in logits])\n",
    "\n",
    "def get_floating_preds(image_probs):\n",
    "    # Takes in a tensor of softmax probabilites, computed column wise,\n",
    "    # for a single image.\n",
    "    # Outputs the floating point labels of values in [-1, 1]\n",
    "    # depending upon the row index of highest probability for each column.\n",
    "\n",
    "    # If the row corresponding to negative one is the argmax, scale the softmax\n",
    "    # value by -1.\n",
    "\n",
    "    # If the row corresponding to zero is the argmax, return 0.\n",
    "\n",
    "    # If the row corresponding to positive one is the argmax, return the softmax\n",
    "    # value.\n",
    "\n",
    "    columns = image_probs.shape[1]\n",
    "    output_labels = []\n",
    "\n",
    "    for column in range(columns):\n",
    "        ind = torch.argmax(image_probs[:, column]) \n",
    "\n",
    "        if ind == 0:\n",
    "            output_labels.append(image_probs[ind, column].numpy() * (1))\n",
    "        elif ind == 1:\n",
    "            # May want to adjust this to lower the MSE\n",
    "            output_labels.append(0)\n",
    "        elif ind == 2:\n",
    "            output_labels.append(image_probs[ind, column].numpy() * (-1))   \n",
    "\n",
    "    return output_labels\n",
    "\n",
    "\n",
    "def get_discrete_preds(image_probs):\n",
    "    # Takes in a tensor of softmax probabilites, computed column wise,\n",
    "    # for a single image.\n",
    "    # Outputs the discrete labels [-1, 0, 1]\n",
    "    # depending upon the row index of highest probability for each column.\n",
    "\n",
    "    columns = image_probs.shape[1]\n",
    "    output_labels = []\n",
    "\n",
    "    for column in range(columns):\n",
    "        ind = torch.argmax(image_probs[:, column]) \n",
    "\n",
    "        if ind == 0:\n",
    "            output_labels.append(1)\n",
    "        elif ind == 1:\n",
    "            output_labels.append(0)\n",
    "        elif ind == 2:\n",
    "            output_labels.append(-1)   \n",
    "\n",
    "    return output_labels\n",
    "\n",
    "classes = [\n",
    "    'Cardiomegaly',\n",
    "    'Enlarged Cardiomediastinum',\n",
    "    'Fracture',\n",
    "    'Lung Opacity',\n",
    "    'No Finding',\n",
    "    'Pleural Effusion',\n",
    "    'Pleural Other',\n",
    "    'Pneumonia',\n",
    "    'Support Devices',\n",
    "]\n",
    "\n",
    "# Get a data frame in the shape of number of validation images x 10.\n",
    "# Make sure to get the Id values from the `test.csv` file on the HPC which \n",
    "# matches the patient ID to the data - it is not just \n",
    "# np.arange(0, len(val_data), 1), it is a bunch of random integers "
   ]
  },
  {
   "cell_type": "code",
   "execution_count": null,
   "metadata": {},
   "outputs": [],
   "source": [
    "discrete_preds = get_dicrete_preds(probs)\n",
    "\n",
    "floating_preds = get_floating_preds(probs)"
   ]
  },
  {
   "cell_type": "code",
   "execution_count": null,
   "metadata": {},
   "outputs": [],
   "source": [
    "np.save('discrete_preds_bicubic.npy', discrete_preds)\n",
    "np.save('floating_preds_bicubic.npy', floating_preds)"
   ]
  },
  {
   "cell_type": "code",
   "execution_count": null,
   "metadata": {},
   "outputs": [],
   "source": [
    "discrete_dict = {\n",
    "    c:p for c,p in zip(classes,discrete_preds)\n",
    "}\n",
    "\n",
    "floating_dict = {\n",
    "    c:p for c,p in zip(classes,floating_preds)\n",
    "}"
   ]
  },
  {
   "cell_type": "code",
   "execution_count": null,
   "metadata": {},
   "outputs": [],
   "source": [
    "discrete_df = pd.DataFrame(discrete_dict)\n",
    "floating_df = pd.DataFrame(floating_dict)"
   ]
  },
  {
   "cell_type": "code",
   "execution_count": null,
   "metadata": {},
   "outputs": [],
   "source": [
    "discrete_df"
   ]
  },
  {
   "cell_type": "code",
   "execution_count": null,
   "metadata": {},
   "outputs": [],
   "source": [
    "floating_df"
   ]
  },
  {
   "cell_type": "code",
   "execution_count": null,
   "metadata": {},
   "outputs": [],
   "source": [
    "Id = np.load('Id.npy')\n",
    "\n",
    "discrete_df['Id'] = Id\n",
    "floating_df['Id'] = Id"
   ]
  }
 ],
 "metadata": {
  "kernelspec": {
   "display_name": "Python 3",
   "language": "python",
   "name": "python3"
  },
  "language_info": {
   "codemirror_mode": {
    "name": "ipython",
    "version": 3
   },
   "file_extension": ".py",
   "mimetype": "text/x-python",
   "name": "python",
   "nbconvert_exporter": "python",
   "pygments_lexer": "ipython3",
   "version": "3.11.5"
  }
 },
 "nbformat": 4,
 "nbformat_minor": 2
}
