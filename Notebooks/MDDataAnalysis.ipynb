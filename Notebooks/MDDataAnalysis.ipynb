{
 "cells": [
  {
   "cell_type": "code",
   "execution_count": 2,
   "metadata": {},
   "outputs": [],
   "source": [
    "import numpy as np\n",
    "from PIL import Image\n",
    "import os\n",
    "import pandas as pd\n"
   ]
  },
  {
   "cell_type": "markdown",
   "metadata": {},
   "source": [
    "# Load in data subset\n"
   ]
  },
  {
   "cell_type": "code",
   "execution_count": 4,
   "metadata": {},
   "outputs": [
    {
     "name": "stdout",
     "output_type": "stream",
     "text": [
      "          filename                                         image_data\n",
      "0    image_178.jpg  [[33, 32, 32, 30, 31, 31, 29, 32, 32, 29, 32, ...\n",
      "1    image_150.jpg  [[2, 2, 2, 2, 2, 2, 2, 2, 2, 2, 2, 2, 2, 2, 2,...\n",
      "2    image_144.jpg  [[33, 29, 27, 27, 26, 24, 21, 18, 15, 4, 1, 0,...\n",
      "3     image_15.jpg  [[22, 19, 17, 17, 17, 18, 17, 17, 17, 20, 19, ...\n",
      "4     image_29.jpg  [[102, 106, 115, 96, 99, 119, 93, 102, 123, 10...\n",
      "..             ...                                                ...\n",
      "174   image_30.jpg  [[37, 37, 38, 38, 38, 37, 36, 35, 38, 36, 37, ...\n",
      "175   image_18.jpg  [[21, 22, 23, 22, 17, 16, 23, 16, 16, 3, 17, 1...\n",
      "176  image_149.jpg  [[13, 14, 15, 13, 12, 3, 3, 5, 5, 1, 5, 5, 11,...\n",
      "177  image_161.jpg  [[11, 12, 13, 13, 12, 12, 12, 12, 10, 13, 13, ...\n",
      "178  image_175.jpg  [[29, 55, 31, 21, 28, 66, 37, 65, 62, 66, 67, ...\n",
      "\n",
      "[179 rows x 2 columns]\n"
     ]
    }
   ],
   "source": [
    "# Directory containing JPEG images\n",
    "image_dir = '/Users/matthewdavidson/CS156bProject/data_subset/train_data_subset'\n",
    "\n",
    "# List to store image data\n",
    "image_data = []\n",
    "\n",
    "# Loop through all files in the directory\n",
    "for filename in os.listdir(image_dir):\n",
    "    if filename.endswith('.jpg'):\n",
    "        # Construct the full path to the image file\n",
    "        file_path = os.path.join(image_dir, filename)\n",
    "        \n",
    "        # Open the image using PIL\n",
    "        img = Image.open(file_path)\n",
    "        \n",
    "        # Convert the image to a NumPy array or any other data processing you need\n",
    "        img_array = np.array(img)\n",
    "        \n",
    "        # Append the image array and filename to the image_data list\n",
    "        image_data.append({'filename': filename, 'image_data': img_array})\n",
    "\n",
    "# Convert the image data list to a pandas DataFrame\n",
    "image_df = pd.DataFrame(image_data)\n",
    "\n",
    "# Print the DataFrame (optional)\n",
    "print(image_df)\n",
    "\n",
    "# Now you can perform data analysis on the image_df DataFrame\n",
    "# For example, you can access image data by filename:\n",
    "# image_row = image_df[image_df['filename'] == 'image_0.jpg']\n",
    "# image_array = image_row['image_data'].values[0]\n"
   ]
  },
  {
   "cell_type": "code",
   "execution_count": 11,
   "metadata": {},
   "outputs": [
    {
     "name": "stdout",
     "output_type": "stream",
     "text": [
      "[[33 32 32 ... 35 34 34]\n",
      " [32 31 31 ... 34 34 34]\n",
      " [31 30 31 ... 34 35 35]\n",
      " ...\n",
      " [25 24 27 ... 67 52 49]\n",
      " [27 30 24 ... 69 54 46]\n",
      " [29 29 23 ... 75 60 48]]\n"
     ]
    }
   ],
   "source": [
    "print(image_df['image_data'])"
   ]
  }
 ],
 "metadata": {
  "kernelspec": {
   "display_name": "base",
   "language": "python",
   "name": "python3"
  },
  "language_info": {
   "codemirror_mode": {
    "name": "ipython",
    "version": 3
   },
   "file_extension": ".py",
   "mimetype": "text/x-python",
   "name": "python",
   "nbconvert_exporter": "python",
   "pygments_lexer": "ipython3",
   "version": "3.8.8"
  }
 },
 "nbformat": 4,
 "nbformat_minor": 2
}
