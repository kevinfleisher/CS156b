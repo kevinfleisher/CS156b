{
 "cells": [
  {
   "cell_type": "markdown",
   "id": "898aa276-aa74-403f-9c8e-1646c0e99073",
   "metadata": {},
   "source": [
    "# At some point there will be data analysis here for the test data files"
   ]
  },
  {
   "cell_type": "code",
   "execution_count": null,
   "id": "ff478d6c-cfdd-4c84-b1b3-f29d570626ec",
   "metadata": {},
   "outputs": [],
   "source": []
  }
 ],
 "metadata": {
  "kernelspec": {
   "display_name": "Python 3 (ipykernel)",
   "language": "python",
   "name": "python3"
  },
  "language_info": {
   "codemirror_mode": {
    "name": "ipython",
    "version": 3
   },
   "file_extension": ".py",
   "mimetype": "text/x-python",
   "name": "python",
   "nbconvert_exporter": "python",
   "pygments_lexer": "ipython3",
   "version": "3.11.5"
  }
 },
 "nbformat": 4,
 "nbformat_minor": 5
}
